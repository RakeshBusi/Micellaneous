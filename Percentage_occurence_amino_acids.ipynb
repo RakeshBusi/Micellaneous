{
 "cells": [
  {
   "cell_type": "markdown",
   "metadata": {},
   "source": [
    "### Calculating the percentage occurence each amino acid\n",
    "\n",
    "*Input: give the filename in `Aminoacid_per` class.*  \n",
    "*Output: dictionary of with keys being amino acids and values being their corresponding % occurence.*  \n",
    "> Use of Counter.update\n"
   ]
  },
  {
   "cell_type": "code",
   "execution_count": 243,
   "metadata": {},
   "outputs": [
    {
     "name": "stdout",
     "output_type": "stream",
     "text": [
      "Validation is correct!!!\n",
      "Wall time: 400 ms\n"
     ]
    },
    {
     "data": {
      "text/plain": [
       "{'G': 8.39,\n",
       " 'A': 8.02,\n",
       " 'L': 7.63,\n",
       " 'S': 7.18,\n",
       " 'V': 6.56,\n",
       " 'T': 6.43,\n",
       " 'D': 6.36,\n",
       " 'N': 5.54,\n",
       " 'E': 5.06,\n",
       " 'K': 4.92,\n",
       " 'P': 4.87,\n",
       " 'I': 4.83,\n",
       " 'Y': 4.61,\n",
       " 'F': 4.19,\n",
       " 'R': 4.17,\n",
       " 'Q': 3.61,\n",
       " 'W': 2.42,\n",
       " 'H': 2.14,\n",
       " 'M': 1.98,\n",
       " 'C': 1.1,\n",
       " 'X': 0.01,\n",
       " 'B': 0.0,\n",
       " 'Z': 0.0}"
      ]
     },
     "execution_count": 243,
     "metadata": {},
     "output_type": "execute_result"
    }
   ],
   "source": [
    "%%time\n",
    "from collections import Counter\n",
    "class Aminoacid_per:\n",
    "    def __init__(self,filename):\n",
    "        self.acc,self.seq=[],[]\n",
    "        with open(filename,'r') as inpt:\n",
    "            for each in inpt:\n",
    "                if each.startswith('>'):\n",
    "                    self.acc.append(each.rstrip())\n",
    "                else:\n",
    "                    self.seq.append(each.rstrip())\n",
    "    def count(self):\n",
    "        self.c=Counter()\n",
    "        tot_len=0\n",
    "        for each in self.seq:\n",
    "            tot_len+=len(each)\n",
    "            self.c.update(each)\n",
    "        total=sum(self.c.values())\n",
    "        if tot_len==total:\n",
    "            print('Validation is correct!!!')\n",
    "        else:\n",
    "            print('Something is worng!!!')\n",
    "        val={}\n",
    "        for e_ in self.c.keys():\n",
    "            val[e_]=round(((self.c[e_]/total)*100),2)\n",
    "        val=sorted(val.items(),key=lambda x:x[1],reverse=True)\n",
    "        return dict(val)\n",
    "    \n",
    "a=Aminoacid_per('char_gh_seq_nr.txt').count()\n",
    "a"
   ]
  },
  {
   "cell_type": "markdown",
   "metadata": {},
   "source": [
    "##### The percentage of occurence given in [UniProt][1]\n",
    "[1]:https://www.ebi.ac.uk/uniprot/TrEMBLstats"
   ]
  },
  {
   "cell_type": "code",
   "execution_count": 185,
   "metadata": {},
   "outputs": [
    {
     "data": {
      "text/plain": [
       "{'A': 9.06,\n",
       " 'B': 0.0,\n",
       " 'C': 1.28,\n",
       " 'D': 5.46,\n",
       " 'E': 6.23,\n",
       " 'F': 3.88,\n",
       " 'G': 7.27,\n",
       " 'H': 2.22,\n",
       " 'I': 5.54,\n",
       " 'K': 4.93,\n",
       " 'L': 9.88,\n",
       " 'M': 2.34,\n",
       " 'N': 3.79,\n",
       " 'P': 4.97,\n",
       " 'Q': 3.81,\n",
       " 'R': 5.82,\n",
       " 'S': 6.79,\n",
       " 'T': 5.55,\n",
       " 'V': 6.87,\n",
       " 'W': 1.3,\n",
       " 'X': 0.02,\n",
       " 'Y': 2.88,\n",
       " 'Z': 0.0}"
      ]
     },
     "execution_count": 185,
     "metadata": {},
     "output_type": "execute_result"
    }
   ],
   "source": [
    "import re\n",
    "def func(ii):\n",
    "    if ii.startswith('('):\n",
    "        return ii[1]\n",
    "    else:\n",
    "        return float(ii)\n",
    "uni='Ala (A) 9.06   Gln (Q) 3.81   Leu (L) 9.88   Ser (S) 6.79  Arg (R) 5.82   Glu (E) 6.23   Lys (K) 4.93   Thr (T) 5.55  Asn (N) 3.79   Gly (G) 7.27   Met (M) 2.34   Trp (W) 1.30  Asp (D) 5.46   His (H) 2.22   Phe (F) 3.88   Tyr (Y) 2.88  Cys (C) 1.28   Ile (I) 5.54   Pro (P) 4.97   Val (V) 6.87  Asx (B) 0      Glx (Z) 0      Xaa (X) 0.02'\n",
    "uni=re.split('\\s+',uni)\n",
    "uni=[i for i in uni if i[0].isalpha()==False]\n",
    "uni=[func(i) for i in uni]\n",
    "# print(uni)\n",
    "c={uni[i]:uni[i+1] for i in range(len(uni)) if type(uni[i])==str}\n",
    "c=dict(sorted(unip.items()))\n",
    "c"
   ]
  },
  {
   "cell_type": "markdown",
   "metadata": {},
   "source": [
    "*The b contains all the % occurence from `Total_all_cazy_gh_23_8_21_seq_nr_auto.txt`*"
   ]
  },
  {
   "cell_type": "code",
   "execution_count": 202,
   "metadata": {},
   "outputs": [],
   "source": [
    "%store -r b"
   ]
  },
  {
   "cell_type": "markdown",
   "metadata": {},
   "source": [
    "Output the % occurence of `GH_char`,`GH_all`,`UniProtKB/TrEMBL`"
   ]
  },
  {
   "cell_type": "code",
   "execution_count": 187,
   "metadata": {},
   "outputs": [],
   "source": [
    "temp_list=[a,b,c]\n",
    "df=pd.DataFrame(temp_list).transpose()\n",
    "df.columns=['GH_char','GH_all','UniProtKB/TrEMBL']\n",
    "df.to_excel('Comparison_percentage_amino acid.xlsx')\n",
    "# plot the graph in excel"
   ]
  }
 ],
 "metadata": {
  "kernelspec": {
   "display_name": "Python 3",
   "language": "python",
   "name": "python3"
  },
  "language_info": {
   "codemirror_mode": {
    "name": "ipython",
    "version": 3
   },
   "file_extension": ".py",
   "mimetype": "text/x-python",
   "name": "python",
   "nbconvert_exporter": "python",
   "pygments_lexer": "ipython3",
   "version": "3.8.7"
  }
 },
 "nbformat": 4,
 "nbformat_minor": 4
}
