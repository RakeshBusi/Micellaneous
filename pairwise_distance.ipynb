{
 "cells": [
  {
   "cell_type": "code",
   "execution_count": 1,
   "metadata": {},
   "outputs": [
    {
     "name": "stdout",
     "output_type": "stream",
     "text": [
      "The inter cluster distance between cluster 0 and 1\n"
     ]
    }
   ],
   "source": [
    "import pandas as pd\n",
    "from sklearn import metrics,cluster\n",
    "\n",
    "#### Reading the feature and calculating the pairwise distance between all the points\n",
    "\n",
    "df = pd.read_csv('gh_lyso_PAAC.txt', sep='\\t')# input file which contains features, header=None if no column title\n",
    "x=df.iloc[:,1:].values\n",
    "distance=metrics.pairwise.pairwise_distances(x)\n",
    "\n",
    "#### Clustering\n",
    "\n",
    "kmeans = cluster.KMeans(n_clusters=3,random_state=42) # Number of clusters\n",
    "labels = kmeans.fit_predict(x)\n",
    "no_lab=list(set(labels))\n",
    "\n",
    "#### collecting intra and inter distance for clusters\n",
    "\n",
    "class clust:\n",
    "    def __init__(self,ref,comp):\n",
    "        self.ref=ref\n",
    "        self.comp=comp\n",
    "        if self.ref==self.comp:\n",
    "            print(f'The intra cluster distance within cluster {self.ref}')\n",
    "            self.c=1\n",
    "        else:\n",
    "            print(f'The inter cluster distance between cluster {self.ref} and {self.comp}')\n",
    "            self.c=0\n",
    "        \n",
    "    def all_dist(self):\n",
    "        al_data=[]\n",
    "        for x1 in range(len(labels)):\n",
    "            for y1 in range((x1+1)*self.c,len(labels)):\n",
    "                if labels[x1]==self.ref and labels[y1]==self.comp:\n",
    "#                     print(f'{x1}..{y1}',distance[x1][y1])\n",
    "                    al_data.append(distance[x1][y1])\n",
    "        return al_data\n",
    "                          \n",
    "a=clust(0,1).all_dist()"
   ]
  }
 ],
 "metadata": {
  "kernelspec": {
   "display_name": "Python 3",
   "language": "python",
   "name": "python3"
  },
  "language_info": {
   "codemirror_mode": {
    "name": "ipython",
    "version": 3
   },
   "file_extension": ".py",
   "mimetype": "text/x-python",
   "name": "python",
   "nbconvert_exporter": "python",
   "pygments_lexer": "ipython3",
   "version": "3.8.7"
  }
 },
 "nbformat": 4,
 "nbformat_minor": 4
}
