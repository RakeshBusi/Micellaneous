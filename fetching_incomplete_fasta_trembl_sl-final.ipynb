{
 "cells": [
  {
   "cell_type": "markdown",
   "metadata": {},
   "source": [
    "#### After spliting the trembl using \"split -l n file\""
   ]
  },
  {
   "cell_type": "code",
   "execution_count": 1,
   "metadata": {},
   "outputs": [],
   "source": [
    "import glob\n",
    "import os\n",
    "data=[]\n",
    "for file in glob.glob('result/*'):\n",
    "    data.append([file,os.stat(file).st_ctime])\n",
    "sorted_data=sorted(data,key=lambda x:x[1])"
   ]
  },
  {
   "cell_type": "code",
   "execution_count": 5,
   "metadata": {
    "scrolled": true
   },
   "outputs": [
    {
     "name": "stdout",
     "output_type": "stream",
     "text": [
      "trembl_part_1025.........Done!!!\n",
      "trembl_part_1026.........Done!!!\n",
      "Mission completed!!!\n"
     ]
    }
   ],
   "source": [
    "class compare:\n",
    "    def __init__(self,file1,file2,p):\n",
    "        self.part={}\n",
    "        self.p=p\n",
    "        c=0\n",
    "        for each in [file1,file2]:\n",
    "            if type(each)==str:\n",
    "                self.part[c]=[]\n",
    "                with open(each,'r') as inpt1:\n",
    "                    for line in inpt1:\n",
    "                        self.part[c].append(line.rstrip())\n",
    "            else:\n",
    "                self.part[c]=each\n",
    "            c+=1\n",
    "            \n",
    "    def out(self):\n",
    "        cc=0\n",
    "        for l in range(len(self.part[1])):\n",
    "            if self.part[1][l].startswith('>'):\n",
    "                break\n",
    "            else:\n",
    "                self.part[0].append(self.part[1][l])\n",
    "                cc+=1\n",
    "#         self.part[1]=self.part[1][cc:]\n",
    "        output=open(f'trembl_part_sl_test/trembl_part_{self.p}.txt','w')\n",
    "        for each_line in self.ml_sl(self.part[0]):\n",
    "            output.write(each_line+'\\n')\n",
    "        output.close()\n",
    "        return self.part[1][cc:]\n",
    "    \n",
    "    def ml_sl(self,ml_data):\n",
    "        acc_seq,temp=[],''\n",
    "        for i in ml_data:\n",
    "            if i.startswith('>'):\n",
    "                acc_seq.append(temp)\n",
    "                acc_seq.append(i)\n",
    "                temp=''\n",
    "            else:\n",
    "                temp=temp+i\n",
    "        acc_seq.append(temp)\n",
    "        return acc_seq[1:]\n",
    "    \n",
    "a=compare(sorted_data[0][0],sorted_data[1][0],0).out()\n",
    "for fi in range(1,len(sorted_data)):\n",
    "    try:\n",
    "        a=compare(a,sorted_data[fi+1][0],fi).out()\n",
    "    except IndexError: #for the last part of the file\n",
    "        a=compare(a,a,fi).out()\n",
    "    print(f'trembl_part_{fi}.........Done!!!')      \n",
    "print('Mission completed!!!')"
   ]
  }
 ],
 "metadata": {
  "kernelspec": {
   "display_name": "Python 3",
   "language": "python",
   "name": "python3"
  },
  "language_info": {
   "codemirror_mode": {
    "name": "ipython",
    "version": 3
   },
   "file_extension": ".py",
   "mimetype": "text/x-python",
   "name": "python",
   "nbconvert_exporter": "python",
   "pygments_lexer": "ipython3",
   "version": "3.8.7"
  }
 },
 "nbformat": 4,
 "nbformat_minor": 5
}
