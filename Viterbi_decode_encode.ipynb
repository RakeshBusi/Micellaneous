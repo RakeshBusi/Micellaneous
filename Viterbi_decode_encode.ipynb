{
 "cells": [
  {
   "cell_type": "code",
   "execution_count": 139,
   "metadata": {},
   "outputs": [],
   "source": [
    "'''Decoder'''\n",
    "import numpy as np\n",
    "import copy\n",
    "from itertools import permutations,combinations_with_replacement\n",
    "from collections import defaultdict,Counter\n",
    "\n",
    "class verterbi_model:\n",
    "    def __init__(self,label=[1,-1],stages=50,initial=(1,1)):\n",
    "        self.temp=label\n",
    "        self.stages=stages\n",
    "        self.initial=initial\n",
    "        b=permutations(label,2)\n",
    "        c=combinations_with_replacement(label,2)\n",
    "        self.label=list(set(list(b)+list(c)))\n",
    "        self.label.sort(reverse=True)\n",
    "#         print('Rows:',self.label)\n",
    "        \n",
    "    def work(self,noise):\n",
    "        self.noise=noise # noise=r-values\n",
    "        x=[self.initial]\n",
    "        refer=[[self.label[j] for i in range(self.stages)] for j in range(len(self.label))]\n",
    "        path=defaultdict(list)\n",
    "        c=0\n",
    "        path[c]=x\n",
    "        for i in range(len(refer[0])): # Columns (stages)\n",
    "            ele=[]\n",
    "            temp=defaultdict(list)\n",
    "            for j,k in path.items():\n",
    "                d=0\n",
    "                for l in range(len(self.label)): #  rows (stages)\n",
    "                    if self.label[l][1]==k[i][0]:\n",
    "                        m=str(j)+str(d)\n",
    "                        temp[m]=k+[self.label[l]]\n",
    "                        ele.append(self.label[l])\n",
    "                        d+=1\n",
    "            asem=[0 if we==1 else 1 for we in list(dict(Counter(ele)).values())]\n",
    "            if any(asem): # remove path with common node\n",
    "                path=self.removing(temp,ele)\n",
    "            else:\n",
    "                path=copy.deepcopy(temp)\n",
    "#             print(f'for {i} column',path)\n",
    "#             if i==2:\n",
    "#                 break\n",
    "#         print('main',path) \n",
    "        best_path,score=self.get_score(path)\n",
    "        seq=[]\n",
    "        wes=list(best_path.values())[0]\n",
    "        for yt in range(1,len(wes)):\n",
    "            seq.append(wes[yt][0])\n",
    "        return seq\n",
    "    \n",
    "    def removing(self,data,last):\n",
    "        main={}\n",
    "        repeats=dict(Counter(last))\n",
    "        for i,j in repeats.items():\n",
    "            if j>1:\n",
    "                temp={}\n",
    "                for k,l in data.items():\n",
    "                    if i==l[-1]:\n",
    "                        temp[k]=l\n",
    "#                 print('Before removal',temp)\n",
    "                new_temp,waste=self.get_score(temp)\n",
    "#                 print('after removal',new_temp)\n",
    "                chavi=list(new_temp.keys())[0]\n",
    "                main[chavi]=new_temp[chavi]\n",
    "            else:\n",
    "                main[i]=j\n",
    "        return main\n",
    "                \n",
    "    def get_score(self,data):\n",
    "        temp={}\n",
    "        new_temp={}\n",
    "        for i,j in data.items():\n",
    "            c=[]\n",
    "            for k in range(1,len(j)):\n",
    "                val=self.formula(j[k][0],j[k-1][0],j[k-1][1],self.noise[k-1])\n",
    "                c.append(val)\n",
    "#                 print(val)\n",
    "#             print(i,j)\n",
    "            temp[i]=sum(c)\n",
    "        temp_data=sorted(temp.items(),key=lambda x:x[1],reverse=False)# 'False' to get lowest value and 'True' to get highest value\n",
    "        temp_score=dict(sorted(temp.items(),key=lambda x:x[1],reverse=False))\n",
    "        new_temp[temp_data[0][0]]=data[temp_data[0][0]]\n",
    "        return new_temp,temp_score\n",
    "    \n",
    "    def formula(self,x1,x2,x3,r):\n",
    "        y=x1+(1/2)*x2+(1/4)*x3\n",
    "        node=(r-y)**2\n",
    "        return node\n",
    "\n",
    "# a=verterbi_model([1,-1],5,(1,1)).work([1.78,-0.35,0.8,1.1,0.-1.2,-1])\n",
    "# verterbi_model(label,stages,r-values).path(initial_point)"
   ]
  },
  {
   "cell_type": "code",
   "execution_count": 145,
   "metadata": {
    "scrolled": true
   },
   "outputs": [],
   "source": [
    "import numpy as np\n",
    "import time\n",
    "import random\n",
    "class song_to_binary:\n",
    "    def __init__(self,song_file):\n",
    "        self.data=[]\n",
    "        with open(song_file,'r') as inpt:\n",
    "            for i in inpt:\n",
    "                line=i.rstrip()\n",
    "#                 print(line)\n",
    "                bi=''.join(format(ord(i), '08b') for i in line)\n",
    "#                 print(bi)\n",
    "                self.data.append(bi)\n",
    "        self.total=''.join(self.data)\n",
    "        \n",
    "    def y_and_r(self):\n",
    "        self.r_value=[]\n",
    "        for i in range(2,len(self.total)):\n",
    "            tem=[self.total[i-2],self.total[i-1],self.total[i]]\n",
    "            tem=[int(j) if int(j)==1 else -1 for j in tem]\n",
    "            yy=self.formula(tem[0],tem[1],tem[2])\n",
    "            random.seed(44)\n",
    "            n=np.random.normal(0,0.7,1)#######################################################################################\n",
    "            self.r_value.append(yy+n[0])\n",
    "        return self.r_value\n",
    "    \n",
    "    def formula(self,x3,x2,x1):\n",
    "        y=x1+(1/2)*x2+(1/4)*x3\n",
    "        return y\n",
    "        \n",
    "    def output(self,song_bi):\n",
    "        out=open(song_bi,'w')\n",
    "        for yu in self.total:\n",
    "            out.write(yu)\n",
    "        out.close()\n",
    "#         print('Downloaded binary code of the song !!!')\n",
    "    \n",
    "sss=song_to_binary('alphafold_abstract.txt')\n",
    "song_out=sss.output('alphafold_abstract_binary.txt')\n",
    "asd=sss.y_and_r()\n"
   ]
  },
  {
   "cell_type": "code",
   "execution_count": 155,
   "metadata": {},
   "outputs": [
    {
     "ename": "AttributeError",
     "evalue": "'dict' object has no attribute 'perf_counter'",
     "output_type": "error",
     "traceback": [
      "\u001b[1;31m---------------------------------------------------------------------------\u001b[0m",
      "\u001b[1;31mAttributeError\u001b[0m                            Traceback (most recent call last)",
      "\u001b[1;32m<ipython-input-155-53df26db8932>\u001b[0m in \u001b[0;36m<module>\u001b[1;34m\u001b[0m\n\u001b[0;32m     42\u001b[0m         \u001b[1;32mreturn\u001b[0m \u001b[0merr_val\u001b[0m\u001b[1;33m\u001b[0m\u001b[1;33m\u001b[0m\u001b[0m\n\u001b[0;32m     43\u001b[0m \u001b[1;33m\u001b[0m\u001b[0m\n\u001b[1;32m---> 44\u001b[1;33m \u001b[0mwer\u001b[0m\u001b[1;33m=\u001b[0m\u001b[0mget_error\u001b[0m\u001b[1;33m(\u001b[0m\u001b[0masd\u001b[0m\u001b[1;33m,\u001b[0m\u001b[1;33m[\u001b[0m\u001b[1;36m50\u001b[0m\u001b[1;33m]\u001b[0m\u001b[1;33m,\u001b[0m\u001b[1;33m(\u001b[0m\u001b[1;36m1\u001b[0m\u001b[1;33m,\u001b[0m\u001b[1;36m1\u001b[0m\u001b[1;33m)\u001b[0m\u001b[1;33m)\u001b[0m\u001b[1;33m\u001b[0m\u001b[1;33m\u001b[0m\u001b[0m\n\u001b[0m",
      "\u001b[1;32m<ipython-input-155-53df26db8932>\u001b[0m in \u001b[0;36m__init__\u001b[1;34m(self, data, window, init_state)\u001b[0m\n\u001b[0;32m      5\u001b[0m         \u001b[0mself\u001b[0m\u001b[1;33m.\u001b[0m\u001b[0mref\u001b[0m\u001b[1;33m=\u001b[0m\u001b[1;33m[\u001b[0m\u001b[0mint\u001b[0m\u001b[1;33m(\u001b[0m\u001b[0mi\u001b[0m\u001b[1;33m)\u001b[0m \u001b[1;32mfor\u001b[0m \u001b[0mi\u001b[0m \u001b[1;32min\u001b[0m \u001b[0msss\u001b[0m\u001b[1;33m.\u001b[0m\u001b[0mtotal\u001b[0m\u001b[1;33m]\u001b[0m\u001b[1;33m\u001b[0m\u001b[1;33m\u001b[0m\u001b[0m\n\u001b[0;32m      6\u001b[0m         \u001b[1;32mfor\u001b[0m \u001b[0mi\u001b[0m \u001b[1;32min\u001b[0m \u001b[0mwindow\u001b[0m\u001b[1;33m:\u001b[0m\u001b[1;33m\u001b[0m\u001b[1;33m\u001b[0m\u001b[0m\n\u001b[1;32m----> 7\u001b[1;33m             \u001b[0mstart\u001b[0m\u001b[1;33m=\u001b[0m\u001b[0mtime\u001b[0m\u001b[1;33m.\u001b[0m\u001b[0mperf_counter\u001b[0m\u001b[1;33m(\u001b[0m\u001b[1;33m)\u001b[0m\u001b[1;33m\u001b[0m\u001b[1;33m\u001b[0m\u001b[0m\n\u001b[0m\u001b[0;32m      8\u001b[0m             \u001b[0mtemp\u001b[0m\u001b[1;33m=\u001b[0m\u001b[1;33m[\u001b[0m\u001b[0minit_state\u001b[0m\u001b[1;33m[\u001b[0m\u001b[1;36m0\u001b[0m\u001b[1;33m]\u001b[0m\u001b[1;33m,\u001b[0m\u001b[0minit_state\u001b[0m\u001b[1;33m[\u001b[0m\u001b[1;36m1\u001b[0m\u001b[1;33m]\u001b[0m\u001b[1;33m]\u001b[0m\u001b[1;33m\u001b[0m\u001b[1;33m\u001b[0m\u001b[0m\n\u001b[0;32m      9\u001b[0m             \u001b[0mbig\u001b[0m\u001b[1;33m=\u001b[0m\u001b[0mlen\u001b[0m\u001b[1;33m(\u001b[0m\u001b[0mdata\u001b[0m\u001b[1;33m)\u001b[0m\u001b[1;33m-\u001b[0m\u001b[0mlen\u001b[0m\u001b[1;33m(\u001b[0m\u001b[0mdata\u001b[0m\u001b[1;33m)\u001b[0m\u001b[1;33m%\u001b[0m\u001b[0mi\u001b[0m\u001b[1;33m\u001b[0m\u001b[1;33m\u001b[0m\u001b[0m\n",
      "\u001b[1;31mAttributeError\u001b[0m: 'dict' object has no attribute 'perf_counter'"
     ]
    }
   ],
   "source": [
    "class get_error:\n",
    "    def __init__(self,data,window,init_state):\n",
    "        self.data_col={}\n",
    "        self.data_time={}\n",
    "        self.ref=[int(i) for i in sss.total]\n",
    "        for i in window:\n",
    "            start=time.perf_counter()\n",
    "            temp=[init_state[0],init_state[1]]\n",
    "            big=len(data)-len(data)%i\n",
    "            part1=data[:big]\n",
    "            part2=data[big:]\n",
    "            in_state=init_state\n",
    "            for j in range(0,len(part1),i):\n",
    "                a=verterbi_model([1,-1],i,in_state).work(part1[j:j+i])\n",
    "                in_state=(a[-1],a[-2])\n",
    "                a=[1 if m==1 else 0 for m in a]\n",
    "                temp.extend(a)\n",
    "            a=verterbi_model([1,-1],len(part2),in_state).work(part2)\n",
    "            a=[1 if m==1 else 0 for m in a]\n",
    "            temp.extend(a)\n",
    "            end=time.perf_counter()\n",
    "            self.data_col[i]=self.error(temp)\n",
    "            self.data_time[i]=end-start\n",
    "            print(f'Time taken by window size {i}:',end-start)\n",
    "            \n",
    "    def error(self,result):\n",
    "        temp=[]\n",
    "        for i,j in zip(self.ref,result):\n",
    "            t=str(i)+str(j)\n",
    "            temp.append(t)\n",
    "        te=dict(Counter(temp))\n",
    "        print(te)\n",
    "        match,mismat=[],[]\n",
    "        for k in te.keys():\n",
    "            if k[0]==k[1]:\n",
    "                match.append(te[k])\n",
    "            else:\n",
    "                mismat.append(te[k])\n",
    "        match=sum(match)\n",
    "        mismat=sum(mismat)\n",
    "        err_val=mismat/(match+mismat)\n",
    "        return err_val\n",
    "              \n",
    "wer=get_error(asd,[50],(1,1))"
   ]
  },
  {
   "cell_type": "code",
   "execution_count": 154,
   "metadata": {
    "scrolled": false
   },
   "outputs": [
    {
     "data": {
      "text/plain": [
       "{50: 0.07700205338809035,\n",
       " 100: 0.07663537694338515,\n",
       " 200: 0.07663537694338515,\n",
       " 300: 0.07648870636550308,\n",
       " 400: 0.07648870636550308,\n",
       " 500: 0.07626870049867997,\n",
       " 600: 0.07648870636550308,\n",
       " 700: 0.07656204165444412,\n",
       " 800: 0.07648870636550308,\n",
       " 900: 0.07648870636550308,\n",
       " 1000: 0.07648870636550308}"
      ]
     },
     "execution_count": 154,
     "metadata": {},
     "output_type": "execute_result"
    }
   ],
   "source": [
    "error=wer.data_col\n",
    "error"
   ]
  },
  {
   "cell_type": "code",
   "execution_count": 153,
   "metadata": {},
   "outputs": [
    {
     "data": {
      "image/png": "[encoded data removed]",
      "text/plain": [
       "<Figure size 432x288 with 1 Axes>"
      ]
     },
     "metadata": {
      "needs_background": "light"
     },
     "output_type": "display_data"
    }
   ],
   "source": [
    "import matplotlib.pyplot as plt\n",
    "fig,ax=plt.subplots()\n",
    "ax.plot(list(error.keys()),list(error.values()))\n",
    "# ax.set_title('Error rate')\n",
    "ax.set(xlabel='Window size',ylabel='Error rate')\n",
    "ax.set_xlim(left=0)\n",
    "# ax.set_xlim([50, 500])\n",
    "fig.savefig('error.png',dpi=300)"
   ]
  },
  {
   "cell_type": "code",
   "execution_count": 148,
   "metadata": {},
   "outputs": [
    {
     "data": {
      "text/plain": [
       "{50: 2.7596095000044443,\n",
       " 100: 5.034068500004651,\n",
       " 200: 9.617254500000854,\n",
       " 300: 14.195428400002129,\n",
       " 400: 18.9560261000006,\n",
       " 500: 23.523509699996794,\n",
       " 600: 28.291455999999016,\n",
       " 700: 32.91718579999724,\n",
       " 800: 38.081503800000064,\n",
       " 900: 42.74857150000025,\n",
       " 1000: 47.190602099995886}"
      ]
     },
     "execution_count": 148,
     "metadata": {},
     "output_type": "execute_result"
    }
   ],
   "source": [
    "time=wer.data_time\n",
    "time"
   ]
  },
  {
   "cell_type": "code",
   "execution_count": 152,
   "metadata": {},
   "outputs": [
    {
     "data": {
      "image/png": "[encoded data removed]",
      "text/plain": [
       "<Figure size 432x288 with 1 Axes>"
      ]
     },
     "metadata": {
      "needs_background": "light"
     },
     "output_type": "display_data"
    }
   ],
   "source": [
    "fig1,ax1=plt.subplots()\n",
    "ax1.plot(list(time.keys()),list(time.values()))\n",
    "# ax1.set_title('')\n",
    "ax1.set(xlabel='Window size',ylabel='Time')\n",
    "ax1.set_xlim(left=0)\n",
    "# ax.set_xlim([50, 500])\n",
    "fig1.savefig('time.png',dpi=300)\n"
   ]
  },
  {
   "cell_type": "code",
   "execution_count": null,
   "metadata": {},
   "outputs": [],
   "source": []
  }
 ],
 "metadata": {
  "kernelspec": {
   "display_name": "Python 3",
   "language": "python",
   "name": "python3"
  },
  "language_info": {
   "codemirror_mode": {
    "name": "ipython",
    "version": 3
   },
   "file_extension": ".py",
   "mimetype": "text/x-python",
   "name": "python",
   "nbconvert_exporter": "python",
   "pygments_lexer": "ipython3",
   "version": "3.8.7"
  }
 },
 "nbformat": 4,
 "nbformat_minor": 4
}
