{
 "cells": [
  {
   "cell_type": "code",
   "execution_count": 18,
   "metadata": {},
   "outputs": [
    {
     "name": "stdout",
     "output_type": "stream",
     "text": [
      "Rows: [(1, 1), (1, -1), (-1, 1), (-1, -1)]\n",
      "Work Done!!!\n"
     ]
    }
   ],
   "source": [
    "import numpy as np\n",
    "import copy\n",
    "from itertools import permutations,combinations_with_replacement\n",
    "from collections import defaultdict,Counter\n",
    "class verterbi_model:\n",
    "    def __init__(self,label,states,noise):\n",
    "        self.temp=label\n",
    "        self.states=states\n",
    "        self.noise=noise\n",
    "        b=permutations(label,2)\n",
    "        c=combinations_with_replacement(label,2)\n",
    "        self.label=list(set(list(b)+list(c)))\n",
    "        self.label.sort(reverse=True)\n",
    "        print('Rows:',self.label)\n",
    "        \n",
    "    def matrix(self):\n",
    "#         branch=[[[] for i in range(self.states)] for j in range(len(self.label))]\n",
    "        ref=[[self.label[j] for i in range(self.states)] for j in range(len(self.label))]\n",
    "        return ref\n",
    "    \n",
    "    def path(self,inital):\n",
    "        x=[inital]\n",
    "        refer=self.matrix()\n",
    "        path=defaultdict(list)\n",
    "        c=0\n",
    "        path[c]=x\n",
    "        for i in range(len(refer[0])):\n",
    "            ele=[]\n",
    "            temp=defaultdict(list)\n",
    "            for j,k in path.items():\n",
    "                d=0\n",
    "                for l in range(len(self.label)):\n",
    "                    if self.label[l][1]==k[i][0]:\n",
    "                        m=str(j)+str(d)\n",
    "                        temp[m]=k+[self.label[l]]\n",
    "                        ele.append(self.label[l])\n",
    "                        d+=1\n",
    "            if len(ele)>len(self.label):\n",
    "                path=self.removing(temp,ele)\n",
    "            else:\n",
    "                path=copy.deepcopy(temp)\n",
    "#             print(f'for {i} column',path)\n",
    "#             if i==2:\n",
    "#                 break\n",
    "#         print('main',path) \n",
    "        best_path,score=self.get_score(path)\n",
    "        return refer,path,score,best_path\n",
    "    \n",
    "    def removing(self,data,last):\n",
    "        main={}\n",
    "        ase=dict(Counter(last))\n",
    "        for i,j in ase.items():\n",
    "            if j>1:\n",
    "                temp={}\n",
    "                for k,l in data.items():\n",
    "                    if i==l[-1]:\n",
    "                        temp[k]=l\n",
    "#                 print('Before removal',temp)\n",
    "                new_temp,waste=self.get_score(temp)\n",
    "#                 print('after removal',new_temp)\n",
    "                chavi=list(new_temp.keys())[0]\n",
    "                main[chavi]=new_temp[chavi]\n",
    "            else:\n",
    "                main[i]=j\n",
    "        return main\n",
    "                \n",
    "    def get_score(self,data):\n",
    "        temp={}\n",
    "        new_temp={}\n",
    "        for i,j in data.items():\n",
    "            c=[]\n",
    "            for k in range(1,len(j)):\n",
    "                val=self.formula(j[k][0],j[k-1][0],j[k-1][1],self.noise[k-1])\n",
    "                c.append(val)\n",
    "#                 print(val)\n",
    "#             print(i,j)\n",
    "            temp[i]=sum(c)\n",
    "        temp_data=sorted(temp.items(),key=lambda x:x[1],reverse=False)# 'False' to get lowest value and 'True' to get highest value\n",
    "        temp_score=dict(sorted(temp.items(),key=lambda x:x[1],reverse=False))\n",
    "        new_temp[temp_data[0][0]]=data[temp_data[0][0]]\n",
    "        return new_temp,temp_score\n",
    "    \n",
    "    def formula(self,x1,x2,x3,r):\n",
    "        y=x1+(1/2)*x2+(1/4)*x3\n",
    "        node=(r-y)**2\n",
    "        return node\n",
    "\n",
    "a1,a2,a3,a4=verterbi_model([1,-1],5,[1.78,-0.35,0.8,1.1,0.-1.2,-1]).path((1,1))\n",
    "# verterbi_model(label,states,r-values).path(initial_point)\n",
    "print('Work Done!!!')\n",
    "# a3"
   ]
  },
  {
   "cell_type": "code",
   "execution_count": 12,
   "metadata": {},
   "outputs": [
    {
     "data": {
      "text/plain": [
       "[[(1, 1), (1, 1), (1, 1), (1, 1), (1, 1)],\n",
       " [(1, -1), (1, -1), (1, -1), (1, -1), (1, -1)],\n",
       " [(-1, 1), (-1, 1), (-1, 1), (-1, 1), (-1, 1)],\n",
       " [(-1, -1), (-1, -1), (-1, -1), (-1, -1), (-1, -1)]]"
      ]
     },
     "execution_count": 12,
     "metadata": {},
     "output_type": "execute_result"
    }
   ],
   "source": [
    "a1 # reference "
   ]
  },
  {
   "cell_type": "code",
   "execution_count": 55,
   "metadata": {},
   "outputs": [
    {
     "data": {
      "text/plain": [
       "{'001000': [(1, 1), (1, 1), (-1, 1), (1, -1), (1, 1), (1, 1)],\n",
       " '001001': [(1, 1), (1, 1), (-1, 1), (1, -1), (1, 1), (-1, 1)],\n",
       " '001010': [(1, 1), (1, 1), (-1, 1), (1, -1), (-1, 1), (1, -1)],\n",
       " '001011': [(1, 1), (1, 1), (-1, 1), (1, -1), (-1, 1), (-1, -1)]}"
      ]
     },
     "execution_count": 55,
     "metadata": {},
     "output_type": "execute_result"
    }
   ],
   "source": [
    "a2 # best 4 paths"
   ]
  },
  {
   "cell_type": "code",
   "execution_count": 14,
   "metadata": {},
   "outputs": [
    {
     "data": {
      "text/plain": [
       "{'001001': 0.9383999999999999,\n",
       " '001011': 3.4384,\n",
       " '001010': 7.2384,\n",
       " '001000': 8.7384}"
      ]
     },
     "execution_count": 14,
     "metadata": {},
     "output_type": "execute_result"
    }
   ],
   "source": [
    "a3 # # best 4 paths scores"
   ]
  },
  {
   "cell_type": "code",
   "execution_count": 15,
   "metadata": {},
   "outputs": [
    {
     "data": {
      "text/plain": [
       "{'001001': [(1, 1), (1, 1), (-1, 1), (1, -1), (1, 1), (-1, 1)]}"
      ]
     },
     "execution_count": 15,
     "metadata": {},
     "output_type": "execute_result"
    }
   ],
   "source": [
    "a4 # best of 4 path"
   ]
  },
  {
   "cell_type": "code",
   "execution_count": 26,
   "metadata": {},
   "outputs": [
    {
     "data": {
      "text/plain": [
       "[(1, -1), (-1, 1)]"
      ]
     },
     "execution_count": 26,
     "metadata": {},
     "output_type": "execute_result"
    }
   ],
   "source": [
    "rak=[1,-1]\n",
    "dash=permutations(rak,2)\n",
    "dash1=combinations_with_replacement(rak,2)\n",
    "list(dash)"
   ]
  },
  {
   "cell_type": "code",
   "execution_count": 27,
   "metadata": {},
   "outputs": [
    {
     "data": {
      "text/plain": [
       "[(1, 1), (1, -1), (-1, -1)]"
      ]
     },
     "execution_count": 27,
     "metadata": {},
     "output_type": "execute_result"
    }
   ],
   "source": [
    "list(dash1)"
   ]
  },
  {
   "cell_type": "code",
   "execution_count": 28,
   "metadata": {},
   "outputs": [],
   "source": [
    "rak=[1,2,3,4]"
   ]
  },
  {
   "cell_type": "code",
   "execution_count": 37,
   "metadata": {},
   "outputs": [
    {
     "data": {
      "text/plain": [
       "[[1, 1, 1], [2, 2, 2], [3, 3, 3], [4, 4, 4]]"
      ]
     },
     "execution_count": 37,
     "metadata": {},
     "output_type": "execute_result"
    }
   ],
   "source": [
    "strong=[[rak[re] for pe in range(3)] for re in range(len(rak))]\n",
    "strong"
   ]
  },
  {
   "cell_type": "code",
   "execution_count": 38,
   "metadata": {},
   "outputs": [],
   "source": [
    "forest={}\n",
    "forest['Tigers']=3\n",
    "forest['Pigs']='many'\n"
   ]
  },
  {
   "cell_type": "code",
   "execution_count": 42,
   "metadata": {},
   "outputs": [
    {
     "data": {
      "text/plain": [
       "dict_items([('Tigers', 3), ('Pigs', 'many')])"
      ]
     },
     "execution_count": 42,
     "metadata": {},
     "output_type": "execute_result"
    }
   ],
   "source": [
    "forest.items()"
   ]
  },
  {
   "cell_type": "code",
   "execution_count": 46,
   "metadata": {},
   "outputs": [
    {
     "name": "stdout",
     "output_type": "stream",
     "text": [
      "Tigers 3\n",
      "Pigs many\n"
     ]
    }
   ],
   "source": [
    "for i,j in forest.items():\n",
    "    print(i,j)"
   ]
  },
  {
   "cell_type": "code",
   "execution_count": 47,
   "metadata": {},
   "outputs": [
    {
     "data": {
      "text/plain": [
       "{'Tigers': 3, 'Pigs': 100}"
      ]
     },
     "execution_count": 47,
     "metadata": {},
     "output_type": "execute_result"
    }
   ],
   "source": [
    "forest['Pigs']=100\n",
    "forest"
   ]
  },
  {
   "cell_type": "code",
   "execution_count": 54,
   "metadata": {},
   "outputs": [
    {
     "data": {
      "text/plain": [
       "defaultdict(list, {'Tiger': [3], 'Pigs': ['many', 100]})"
      ]
     },
     "execution_count": 54,
     "metadata": {},
     "output_type": "execute_result"
    }
   ],
   "source": [
    "jungle=defaultdict(list)\n",
    "jungle['Tiger'].append(3)\n",
    "jungle['Pigs'].append('many')\n",
    "jungle['Pigs'].append(100)\n",
    "jungle"
   ]
  },
  {
   "cell_type": "code",
   "execution_count": null,
   "metadata": {},
   "outputs": [],
   "source": []
  }
 ],
 "metadata": {
  "kernelspec": {
   "display_name": "Python 3",
   "language": "python",
   "name": "python3"
  },
  "language_info": {
   "codemirror_mode": {
    "name": "ipython",
    "version": 3
   },
   "file_extension": ".py",
   "mimetype": "text/x-python",
   "name": "python",
   "nbconvert_exporter": "python",
   "pygments_lexer": "ipython3",
   "version": "3.8.7"
  }
 },
 "nbformat": 4,
 "nbformat_minor": 4
}
