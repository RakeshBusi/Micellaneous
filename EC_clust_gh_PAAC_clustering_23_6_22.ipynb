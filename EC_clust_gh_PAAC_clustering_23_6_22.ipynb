{
 "cells": [
  {
   "cell_type": "markdown",
   "metadata": {},
   "source": [
    "### Clustering using PseAAC features"
   ]
  },
  {
   "cell_type": "markdown",
   "metadata": {},
   "source": [
    "##### <u> Part 1: Extracting protein sequence data </u>"
   ]
  },
  {
   "cell_type": "code",
   "execution_count": 15,
   "metadata": {},
   "outputs": [],
   "source": [
    "import re\n",
    "\n",
    "class CAZy_data:\n",
    "    def __init__(self,filename1,filename2):\n",
    "        self.data,self.acc,self.seq=[],[],[]\n",
    "        with open(filename1,'r',encoding='utf-8') as inpt:\n",
    "            for each in inpt:\n",
    "                self.data.append(each.rstrip().split('$'))\n",
    "        with open(filename2,'r',encoding='utf-8') as inpt1:\n",
    "            for each1 in inpt1:\n",
    "                if each1.startswith('>'):\n",
    "                    self.acc.append(each1.rstrip())\n",
    "                else:\n",
    "                    self.seq.append(each1.rstrip())\n",
    "            \n",
    "                  \n",
    "    def data_fetch(self,typ,position):\n",
    "        typ_data=[]\n",
    "        if typ=='all':\n",
    "            typ_data=self.data\n",
    "        else:\n",
    "            for each in self.data:\n",
    "                mult=each[position].split(' ')\n",
    "                if len(mult)==1:#### In case typ = EC, Multi EC number and protein with no EC number are ignore.\n",
    "                    if mult[0]==typ:\n",
    "                        typ_data.append(each)\n",
    "        return typ_data\n",
    "    \n",
    "    def EC_GH(self,ec_no,gh_fam):\n",
    "        self.fasta=[]\n",
    "        cazy_ec=self.data_fetch(ec_no,1)\n",
    "        cazy_gh=self.data_fetch(gh_fam,-1)\n",
    "        self.common_data=[[i[0],i[1],i[3],i[4],i[-2],i[-1]] for i in cazy_ec if i in cazy_gh]\n",
    "        rm_prt, rm_prt_fasta=[],[]\n",
    "        for each in range(len(self.common_data)):\n",
    "            t=self.common_data[each]\n",
    "            if self.prtn_filter(t[0]):\n",
    "                all_acc=t[3].split(' ')\n",
    "                if all_acc[0]!='':\n",
    "                    for e_acc in all_acc:\n",
    "                        e_seq=self.seq_fetch(e_acc)\n",
    "                        try:\n",
    "                            create_error=0/len(e_seq) # to remove accession number which doesnt have hits\n",
    "                            self.fasta.append(f'>{e_acc}${t[0]}${t[1]}${t[2]}${t[-2]}${t[-1]}')\n",
    "                            self.fasta.append(e_seq[0])\n",
    "                        except ZeroDivisionError:\n",
    "                            rm_prt_fasta.append(e_acc)\n",
    "            else:\n",
    "                rm_prt.append(t)\n",
    "#         print('Total number of sequences:',len(self.fasta)/2)\n",
    "#         print('Number of removed partial or fragment proteins (CAZy):',len(rm_prt))\n",
    "#         print('Number of removed partial or fragment proteins (Fasta):',len(rm_prt_fasta))\n",
    "        return self.fasta,rm_prt,rm_prt_fasta\n",
    "    def prtn_filter(self,prt_name):\n",
    "        hit=1\n",
    "        if re.search('partial|fragment',prt_name.lower()):\n",
    "            hit-=1\n",
    "        return hit\n",
    "            \n",
    "    def seq_fetch(self,accession):\n",
    "        hits=[]\n",
    "        temp=0\n",
    "        for each in range(len(self.acc)):\n",
    "            if re.search(f'{accession}\\D',self.acc[each]):\n",
    "                temp+=1\n",
    "                \n",
    "                if self.prtn_filter(self.acc[each]): # remove partial| fragment accession numbers from GenBank description\n",
    "                    hits.append(self.seq[each])\n",
    "        if temp>1:\n",
    "            print(f'Multiple hits for {accession}')\n",
    "        elif temp==0:\n",
    "            print(f'No hits for {accession}')\n",
    "        return hits\n",
    "     \n",
    "In_data=CAZy_data('D:/After_4_4_22/data/CAZy_23_6_22/cazy_char_10_6_22.txt','D:/After_4_4_22/data/CAZy_23_6_22/char_gh_23_6_22.txt')"
   ]
  },
  {
   "cell_type": "markdown",
   "metadata": {},
   "source": [
    "##### <u> Part 2: Extracting feature from protein sequences </u>"
   ]
  },
  {
   "cell_type": "code",
   "execution_count": 19,
   "metadata": {},
   "outputs": [],
   "source": [
    "import numpy as np\n",
    "from scipy import stats\n",
    "import pandas as pd\n",
    "\n",
    "# 1: Hydrophobicity, 2: Hydrophilicity, 3: mass, 4: pk1, 5:pk2, 6:pi, 20: 14 scale, 60: Tanford\n",
    "class Standard_values:\n",
    "    def __init__(self,filename):\n",
    "        self.data=[]\n",
    "        with open(filename,'r') as inpt:\n",
    "            for each in inpt:\n",
    "                self.data.append(each.rstrip().split(','))\n",
    "        del self.data[0]\n",
    "        \n",
    "    def get_prop(self,prop):\n",
    "        got_prop,amino_acid={},{}\n",
    "        for each in prop:\n",
    "            got_prop[each]=self.properties(each)\n",
    "        d=1\n",
    "        for each in got_prop[1].keys():\n",
    "            amino_acid[d]=each\n",
    "            d+=1\n",
    "        return amino_acid,got_prop\n",
    "    \n",
    "    def properties(self, val):\n",
    "        temp,norm={},{}\n",
    "        for each in self.data:\n",
    "            temp[each[0]]=float(each[val])\n",
    "        relative=stats.zscore(np.array(list(temp.values())))\n",
    "        for a,b in zip(temp.keys(),relative):\n",
    "            norm[a]=b\n",
    "        return norm\n",
    "\n",
    "class Sequence:\n",
    "    def __init__(self,filename):\n",
    "        self.data=[]\n",
    "        if type(filename)==str:\n",
    "            with open(filename,'r') as inpt:\n",
    "                for each in inpt:\n",
    "                    self.data.append(each.rstrip())\n",
    "        else:\n",
    "            self.data=filename\n",
    "                       \n",
    "    def output(self):\n",
    "        a,s,l=[],[],[]\n",
    "        unusual=0\n",
    "        for ele in self.ml_sl():\n",
    "            if ele.startswith('>'):\n",
    "                a.append(ele)\n",
    "            else:\n",
    "                if re.search('[UZOBJX]',ele.upper()):\n",
    "#                     print(a[-1])\n",
    "                    del a[-1]\n",
    "                    unusual+=1\n",
    "                    continue\n",
    "                l.append(len(ele))\n",
    "                s.append(ele.upper())\n",
    "#         print('The length of the smallest sequence:',min(l))\n",
    "#         print('Sequence with \"X\" present:',unusual)\n",
    "        return a,s,l,unusual\n",
    "             \n",
    "    def ml_sl(self):\n",
    "        acc_seq=[]\n",
    "        for k in range(len(self.data)):\n",
    "            if self.data[k].startswith('>'):\n",
    "                acc_seq.append(self.data[k])\n",
    "                join_=0\n",
    "                for l in range(k+1,len(self.data)):\n",
    "                    if self.data[l].startswith('>') == False:\n",
    "                        join_+=1\n",
    "                    else:\n",
    "                        break\n",
    "                acc_seq.append(''.join(self.data[k+1:k+1+join_]))\n",
    "        return acc_seq\n",
    "\n",
    "class Pseaac:\n",
    "    def __init__(self,filename):\n",
    "        self.filename=filename\n",
    "    def collect(self,lamb,w,pro,nf):\n",
    "        val=[]\n",
    "        val.append(['#']+[ea for ea in keys.values()]+['\\u03BB'+str(eac+1) for eac in range(lamb)])\n",
    "        for e_seq in range(len(seq)):# single sequence taken for test\n",
    "            q=self.pse(seq[e_seq],lamb,w,pro,nf)\n",
    "            tem=acc[e_seq].split(' ')[0][1:]\n",
    "            val.append([acc[e_seq]]+q)\n",
    "        df=pd.DataFrame(val[1:],columns=val[0])\n",
    "#         print('PseAAC feature have been extracted!!!')\n",
    "        return df\n",
    "        \n",
    "    def pse(self,data,lamb,w,pro,nf):\n",
    "        thet=self.theta(data,lamb,pro)\n",
    "        deno=1+(w*sum(thet.values()))\n",
    "        p=[]\n",
    "        if nf==1:\n",
    "            norm=(len(data))\n",
    "        else:\n",
    "            norm=1\n",
    "        for u in range(1,21+lamb):\n",
    "            if u>=1 and u<=20:\n",
    "    #             print(u,'natural')\n",
    "                num=data.count(keys[u])/norm # frequency\n",
    "                p.append(num/deno)\n",
    "            elif u>=21 and u<=20+lamb:\n",
    "    #             print(u,'pseudo')\n",
    "                num=w*thet[u-20]\n",
    "                p.append(num/deno)\n",
    "        return p\n",
    "    \n",
    "    def theta(self,data,lamb,pro):\n",
    "        the={}\n",
    "        for u in range(1,lamb+1):\n",
    "            the[u]=(1/(len(data)-u))*self.rel_cal(data,u,pro)\n",
    "        return the\n",
    "    \n",
    "    def rel_cal(self,data,v,pro):\n",
    "        tem=[]\n",
    "        for u in range(len(data)-v):\n",
    "            te=[]\n",
    "            for u1 in pro:\n",
    "                x=((values[u1][data[u]])-(values[u1][data[u+v]]))**2\n",
    "                te.append(x)\n",
    "    #             print(u1,u,u+v,data[u],data[u+v],x)\n",
    "            tem.append(sum(te)/len(pro))\n",
    "        return sum(tem)\n",
    "\n",
    "keys,values=Standard_values('D:/After_4_4_22/data/CAZy_23_6_22/7_98_hydrophobicity.csv').get_prop([1,2,3,4,5,6,20,60])\n",
    "# pseaac_data['Length']=stats.zscore(min_len)"
   ]
  },
  {
   "cell_type": "code",
   "execution_count": 13,
   "metadata": {},
   "outputs": [],
   "source": [
    "'''Clustering Algorithm'''\n",
    "import os\n",
    "import time\n",
    "import matplotlib.pyplot as plt\n",
    "from sklearn import cluster, mixture, manifold, decomposition, preprocessing,metrics\n",
    "import random\n",
    "from collections import Counter,defaultdict\n",
    "import copy\n",
    "\n",
    "class clustering:\n",
    "    rs=77\n",
    "#     rn=random.randint(1,99)\n",
    "    def __init__(self,folder,data,n,cat):\n",
    "        self.x=data.iloc[:,1:].values\n",
    "        self.y=data.iloc[:,0]\n",
    "        self.folder=folder\n",
    "        self.cat=cat\n",
    "        self.anno_label={0:'acc',1:'prtn',2:'ec',3:'org',4:'species',5:'ghf'}\n",
    "        temp=[i.split('$')[cat[0]] for i in self.y]\n",
    "        lab=list(set(temp))\n",
    "        self.true_lab=[lab.index(j) for j in temp]\n",
    "        try:\n",
    "            n.isalpha()\n",
    "            self.n=len(lab)\n",
    "        except AttributeError:\n",
    "            self.n=n\n",
    "        self.temp1=','.join([f'{k}:{v}' for k,v in dict(Counter(temp)).items()])\n",
    "        \n",
    "    def kmeans(self):\n",
    "        start = time.time()\n",
    "        self.names = 'km'\n",
    "        kmeans = cluster.KMeans(n_clusters=self.n,random_state=clustering.rs) # Number of clusters\n",
    "        self.labels = kmeans.fit_predict(self.x)\n",
    "        end = time.time()\n",
    "        self.t = round((end-start),3)\n",
    "        return self.label_save()\n",
    "        \n",
    "    def affinity(self):\n",
    "        start = time.time()\n",
    "        self.names = 'apc'\n",
    "        apc = cluster.AffinityPropagation(random_state=clustering.rs)\n",
    "        self.labels = apc.fit_predict(self.x)\n",
    "        end = time.time()\n",
    "        self.t = round((end-start),3)\n",
    "        return self.label_save()\n",
    "        \n",
    "    def meanshift(self):\n",
    "        start = time.time()\n",
    "        self.names = 'ms'\n",
    "        ms = cluster.MeanShift()\n",
    "        self.labels = ms.fit_predict(self.x)\n",
    "        end = time.time()\n",
    "        self.t = round((end-start),3)\n",
    "        return self.label_save()\n",
    "        \n",
    "    def spectral(self):\n",
    "        start = time.time()\n",
    "        self.names = 'spec'\n",
    "        spectral = cluster.SpectralClustering(n_clusters=self.n,assign_labels=\"discretize\",random_state=clustering.rs) # Number of clusters\n",
    "        self.labels = spectral.fit_predict(self.x)\n",
    "        end = time.time()\n",
    "        self.t = round((end-start),3)\n",
    "        return self.label_save()\n",
    "        \n",
    "    def agglomerative(self):\n",
    "        start = time.time()\n",
    "        self.names = 'agglo'\n",
    "        agglo = cluster.AgglomerativeClustering(n_clusters=self.n) # Number of clusters\n",
    "        self.labels = agglo.fit_predict(self.x)\n",
    "        end = time.time()\n",
    "        self.t = round((end-start),3)\n",
    "        return self.label_save()\n",
    "        \n",
    "    def dbscan(self):\n",
    "        start = time.time()\n",
    "        self.names = 'dbs'\n",
    "        new_x=preprocessing.StandardScaler().fit_transform(self.x)\n",
    "        dbs = cluster.DBSCAN()\n",
    "        self.labels = dbs.fit_predict(new_x)\n",
    "        end = time.time()\n",
    "        self.t = round((end-start),3)\n",
    "        return self.label_save()\n",
    "        \n",
    "    def optics(self):\n",
    "        start = time.time()\n",
    "        self.names = 'opt'\n",
    "        opt = cluster.OPTICS()\n",
    "        self.labels = opt.fit_predict(self.x)\n",
    "        end = time.time()\n",
    "        self.t = round((end-start),3)\n",
    "        return self.label_save()\n",
    "        \n",
    "    def gaussian(self):\n",
    "        start = time.time()\n",
    "        self.names = 'gm'\n",
    "        gm = mixture.GaussianMixture(n_components=self.n,random_state=clustering.rs) # Number of Clusters\n",
    "        self.labels = gm.fit_predict(self.x)\n",
    "        end = time.time()\n",
    "        self.t = round((end-start),3)\n",
    "        return self.label_save()\n",
    "        \n",
    "    def birch(self):\n",
    "        start = time.time()\n",
    "        self.names = 'bir'\n",
    "        brc = cluster.Birch() # Number of clusters\n",
    "        self.labels = brc.fit_predict(self.x)\n",
    "        end = time.time()\n",
    "        self.t = round((end-start),3)\n",
    "        return self.label_save()\n",
    "\n",
    "    def label_save(self):\n",
    "        dfout = pd.DataFrame({'Accession': self.y,  'predicted': self.labels, 'expected':self.true_lab})\n",
    "        try:\n",
    "            os.mkdir(self.folder)\n",
    "        except FileExistsError:\n",
    "            pass\n",
    "        dfout.to_csv(f'{self.folder}\\ML_{self.names}_{len(set(self.labels))}.txt',sep='\\t', index=False)\n",
    "        self.file()\n",
    "        return self.analysis()\n",
    "    \n",
    "    def analysis(self):\n",
    "        value=metrics.fowlkes_mallows_score(self.true_lab,self.labels)\n",
    "        tot_val=[self.names,self.anno_label[self.cat[0]],str(lambda_value),str(round(value,3)),str(self.n),str(len(set(self.labels))),self.temp1,str(len(self.true_lab))]\n",
    "        return tot_val\n",
    "    \n",
    "    def file(self):\n",
    "        try:\n",
    "            os.mkdir(f'{self.folder}/table')\n",
    "        except FileExistsError:\n",
    "            pass\n",
    "        dd=defaultdict(list)\n",
    "        for i in range(len(self.labels)):\n",
    "            dd[self.labels[i]].append(self.y[i])\n",
    "        self.excel(dict(sorted(dd.items())))\n",
    "        \n",
    "    def excel(self,anno):\n",
    "        all_anno={}\n",
    "        for i in self.cat:\n",
    "            temp={}\n",
    "            for j,k in anno.items():\n",
    "                te=[]\n",
    "                for l in k:\n",
    "                    te.append(l.split('$')[i])\n",
    "                temp[j]=dict(Counter(te))\n",
    "            df=pd.DataFrame(temp).fillna(0).astype(int)\n",
    "            df.loc['Total']=df.sum(axis=0)\n",
    "            df.loc[:,'Total']=df.sum(axis=1)\n",
    "            df.to_excel(f'{self.folder}/table/{self.names}_{len(set(self.labels))}_{self.anno_label[i]}.xlsx')"
   ]
  },
  {
   "cell_type": "code",
   "execution_count": 17,
   "metadata": {},
   "outputs": [],
   "source": [
    "class ec_data:\n",
    "    def __init__(self,file):\n",
    "        self.data=[]\n",
    "        with open(file,'r') as inpt:\n",
    "            for i in inpt:\n",
    "                self.data.append(i.rstrip())\n",
    "\n",
    "    def cazy(self,dom,typ):\n",
    "        temp=[]\n",
    "        for i in self.data:\n",
    "            temp.append(i.split('$')[1].split(' '))\n",
    "        return self.domain(temp,dom,typ)\n",
    "    \n",
    "    def domain(self,ec_n,n,include):\n",
    "        single,multi=[],[]\n",
    "        for i in ec_n:\n",
    "            if len(i)<=n:\n",
    "                single.extend(i)\n",
    "            else:\n",
    "                multi.append(i)\n",
    "        print('Number of single domain:',len(single))\n",
    "        print(f'Number of multi domain (>{n}):',len(multi))\n",
    "        if include=='m':\n",
    "            for j in multi:\n",
    "                for k in j:\n",
    "                    single.append(k)\n",
    "            print('After including multi domains:',len(single))\n",
    "        return single\n",
    "    \n",
    "class analysis:\n",
    "    def __init__(self,data):\n",
    "        self.data=data\n",
    "        \n",
    "    def non_kegg_count(self):\n",
    "        temp=Counter(self.data)\n",
    "        return self.specific_ec(dict(temp))\n",
    "    \n",
    "    def kegg_count(self,label):\n",
    "        temp=defaultdict(int)\n",
    "        for j,k in zip(self.data,label):\n",
    "            temp[j]+=int(k)\n",
    "        return self.specific_ec(dict(temp))\n",
    "    \n",
    "    def specific_ec(self,dat):\n",
    "        caazy=[]\n",
    "        for u,v in dat.items():\n",
    "            if '3.2.1.' in u:\n",
    "                try:\n",
    "                    caazy.append([u,int(u.split('.')[-1])])\n",
    "                except ValueError:\n",
    "                    print(u)\n",
    "        cc_ec=[x[0] for x in sorted(caazy, key=lambda x:x[1])]\n",
    "        return cc_ec"
   ]
  },
  {
   "cell_type": "code",
   "execution_count": 23,
   "metadata": {},
   "outputs": [
    {
     "name": "stdout",
     "output_type": "stream",
     "text": [
      "Number of single domain: 7057\n",
      "Number of multi domain (>1): 320\n",
      "3.2.1.-\n",
      "3.2.1.17_or_4.2.2.n1\n",
      "No hits for NP_578206.1\n",
      "No hits for CAC02970.1\n",
      "No hits for ACD93218.2\n",
      "No hits for CAB12098.1\n",
      "No hits for NP_388186.1\n",
      "No hits for NP_812609.1\n",
      "No hits for NP_812609.1\n",
      "No hits for AAA63759.1\n",
      "No hits for NP_149331.1\n",
      "No hits for ABC18196.1\n",
      "No hits for CBL15129.1\n",
      "No hits for NP_721927.1\n",
      "No hits for NP_827158.1\n",
      "No hits for NP_229636.1\n",
      "No hits for NP_229450.1\n",
      "No hits for NP_636139.1\n",
      "No hits for A35282\n",
      "No hits for CAO78410.1\n",
      "No hits for BAB72257.1\n",
      "No hits for AAA16183.1\n",
      "No hits for NP_031472.1\n",
      "No hits for AAA37230.1\n",
      "No hits for NP_033799.1\n",
      "No hits for AAA40725.1\n",
      "No hits for AAA40731.1\n",
      "No hits for NP_113690.1\n",
      "No hits for CAB11471.1\n",
      "No hits for NP_248621.1\n",
      "No hits for NP_342630.1\n",
      "Sequence has been collected for 3.2.1.1....\n",
      "Feature has been extracted for 3.2.1.1....\n"
     ]
    },
    {
     "name": "stderr",
     "output_type": "stream",
     "text": [
      "c:\\users\\rakes\\appdata\\local\\programs\\python\\python38\\lib\\site-packages\\sklearn\\cluster\\_affinity_propagation.py:246: ConvergenceWarning: Affinity propagation did not converge, this model will not have any cluster centers.\n",
      "  warnings.warn(\"Affinity propagation did not converge, this model \"\n",
      "c:\\users\\rakes\\appdata\\local\\programs\\python\\python38\\lib\\site-packages\\sklearn\\cluster\\_optics.py:803: RuntimeWarning: divide by zero encountered in true_divide\n",
      "  ratio = reachability_plot[:-1] / reachability_plot[1:]\n",
      "c:\\users\\rakes\\appdata\\local\\programs\\python\\python38\\lib\\site-packages\\sklearn\\cluster\\_birch.py:647: ConvergenceWarning: Number of subclusters found (1) by Birch is less than (3). Decrease the threshold.\n",
      "  warnings.warn(\n"
     ]
    },
    {
     "name": "stdout",
     "output_type": "stream",
     "text": [
      "Clustering has been done for 3.2.1.1....\n",
      "No hits for NP_191958.2\n",
      "No hits for NP_921898.1\n",
      "Sequence has been collected for 3.2.1.2....\n",
      "Feature has been extracted for 3.2.1.2....\n"
     ]
    },
    {
     "name": "stderr",
     "output_type": "stream",
     "text": [
      "c:\\users\\rakes\\appdata\\local\\programs\\python\\python38\\lib\\site-packages\\sklearn\\cluster\\_affinity_propagation.py:246: ConvergenceWarning: Affinity propagation did not converge, this model will not have any cluster centers.\n",
      "  warnings.warn(\"Affinity propagation did not converge, this model \"\n",
      "c:\\users\\rakes\\appdata\\local\\programs\\python\\python38\\lib\\site-packages\\sklearn\\cluster\\_optics.py:803: RuntimeWarning: divide by zero encountered in true_divide\n",
      "  ratio = reachability_plot[:-1] / reachability_plot[1:]\n",
      "c:\\users\\rakes\\appdata\\local\\programs\\python\\python38\\lib\\site-packages\\sklearn\\cluster\\_birch.py:647: ConvergenceWarning: Number of subclusters found (1) by Birch is less than (3). Decrease the threshold.\n",
      "  warnings.warn(\n"
     ]
    },
    {
     "name": "stdout",
     "output_type": "stream",
     "text": [
      "Clustering has been done for 3.2.1.2....\n",
      "No hits for NP_248620.1\n",
      "No hits for NP_342472.1\n",
      "No hits for BAB65828.1\n",
      "No hits for NP_376719.1\n",
      "No hits for NP_393821.1\n",
      "No hits for NP_623401.1\n",
      "No hits for NP_421085.1\n",
      "No hits for AAB20818.1\n",
      "No hits for XP_327956.1\n",
      "No hits for XP_368148.1\n",
      "No hits for EAA49438.1\n",
      "No hits for NP_012167.1\n",
      "No hits for NP_812614.1\n",
      "Sequence has been collected for 3.2.1.3....\n",
      "Feature has been extracted for 3.2.1.3....\n"
     ]
    },
    {
     "name": "stderr",
     "output_type": "stream",
     "text": [
      "c:\\users\\rakes\\appdata\\local\\programs\\python\\python38\\lib\\site-packages\\sklearn\\cluster\\_optics.py:803: RuntimeWarning: divide by zero encountered in true_divide\n",
      "  ratio = reachability_plot[:-1] / reachability_plot[1:]\n",
      "c:\\users\\rakes\\appdata\\local\\programs\\python\\python38\\lib\\site-packages\\sklearn\\cluster\\_birch.py:647: ConvergenceWarning: Number of subclusters found (1) by Birch is less than (3). Decrease the threshold.\n",
      "  warnings.warn(\n"
     ]
    },
    {
     "name": "stdout",
     "output_type": "stream",
     "text": [
      "Clustering has been done for 3.2.1.3....\n",
      "No hits for NP_126623.1\n",
      "No hits for NP_143072.1\n",
      "No hits for AAU23613.1\n",
      "No hits for NP_389695.1\n",
      "No hits for NP_622045.1\n",
      "No hits for CAB01405.1\n",
      "No hits for ABZ70413.1\n",
      "No hits for AAD48494.2\n",
      "No hits for NP_241469.1\n",
      "No hits for WP_018063499.1\n",
      "No hits for AAC02964.1\n",
      "No hits for BAA12826.1\n",
      "No hits for AAZ56745.1\n",
      "No hits for AAZ54939.1\n",
      "No hits for AHA42547.1\n",
      "No hits for NP_638867.1\n",
      "No hits for NP_298108.1\n",
      "No hits for XP_324942.1\n",
      "No hits for XP_002475436.1\n",
      "No hits for AAL33630.1\n",
      "No hits for AAL33639.1\n",
      "No hits for CAA16243.1\n",
      "No hits for CAE55238.1\n",
      "No hits for NP_214576.1\n",
      "No hits for AAZ55112.1\n",
      "No hits for BAB64564.1\n",
      "No hits for BAB64563.1\n",
      "No hits for XP_366456.1\n",
      "No hits for XP_366456.2\n",
      "No hits for NP_213966.1\n",
      "No hits for NP_347552.1\n",
      "No hits for YP_003844202.1\n",
      "No hits for AAZ55662.1\n",
      "No hits for AAA27397.1\n",
      "No hits for AAZ56209.1\n",
      "No hits for EFA05721.1\n",
      "No hits for XP_001810693.1\n",
      "No hits for NP_578583.1\n",
      "No hits for CAC24331.1\n",
      "No hits for NP_343873.1\n",
      "No hits for NP_342800.1\n",
      "No hits for NP_229324.1\n",
      "No hits for NP_229325.1\n",
      "No hits for XP_391213.1\n",
      "No hits for XP_388068.1\n",
      "No hits for XP_383205.1\n",
      "No hits for XP_324478.1\n",
      "No hits for NP_228117.1\n",
      "Sequence has been collected for 3.2.1.4....\n",
      "Feature has been extracted for 3.2.1.4....\n"
     ]
    },
    {
     "name": "stderr",
     "output_type": "stream",
     "text": [
      "c:\\users\\rakes\\appdata\\local\\programs\\python\\python38\\lib\\site-packages\\sklearn\\cluster\\_affinity_propagation.py:246: ConvergenceWarning: Affinity propagation did not converge, this model will not have any cluster centers.\n",
      "  warnings.warn(\"Affinity propagation did not converge, this model \"\n",
      "c:\\users\\rakes\\appdata\\local\\programs\\python\\python38\\lib\\site-packages\\sklearn\\cluster\\_optics.py:803: RuntimeWarning: divide by zero encountered in true_divide\n",
      "  ratio = reachability_plot[:-1] / reachability_plot[1:]\n",
      "c:\\users\\rakes\\appdata\\local\\programs\\python\\python38\\lib\\site-packages\\sklearn\\cluster\\_birch.py:647: ConvergenceWarning: Number of subclusters found (1) by Birch is less than (3). Decrease the threshold.\n",
      "  warnings.warn(\n"
     ]
    },
    {
     "name": "stdout",
     "output_type": "stream",
     "text": [
      "Clustering has been done for 3.2.1.4....\n",
      "No hits for NP_437620.1\n",
      "No hits for NP_437595.1\n",
      "Sequence has been collected for 3.2.1.6....\n",
      "Feature has been extracted for 3.2.1.6....\n"
     ]
    },
    {
     "name": "stderr",
     "output_type": "stream",
     "text": [
      "c:\\users\\rakes\\appdata\\local\\programs\\python\\python38\\lib\\site-packages\\sklearn\\cluster\\_birch.py:647: ConvergenceWarning: Number of subclusters found (1) by Birch is less than (3). Decrease the threshold.\n",
      "  warnings.warn(\n"
     ]
    },
    {
     "name": "stdout",
     "output_type": "stream",
     "text": [
      "Clustering has been done for 3.2.1.6....\n",
      "Sequence has been collected for 3.2.1.7....\n",
      "Feature has been extracted for 3.2.1.7....\n"
     ]
    },
    {
     "name": "stderr",
     "output_type": "stream",
     "text": [
      "c:\\users\\rakes\\appdata\\local\\programs\\python\\python38\\lib\\site-packages\\sklearn\\cluster\\_birch.py:647: ConvergenceWarning: Number of subclusters found (1) by Birch is less than (3). Decrease the threshold.\n",
      "  warnings.warn(\n"
     ]
    },
    {
     "name": "stdout",
     "output_type": "stream",
     "text": [
      "Clustering has been done for 3.2.1.7....\n",
      "No hits for BAA31551.1\n",
      "No hits for NP_149279.1\n",
      "No hits for NP_149217.1\n",
      "No hits for AAC98123.1\n",
      "No hits for ABI49937.1\n",
      "No hits for AAC98140.1\n",
      "No hits for CAA82319.1\n",
      "No hits for NP_242986.1\n",
      "No hits for ZP_08160171.1\n",
      "No hits for ZP_08159615.1\n",
      "No hits for ACR61562.1\n",
      "No hits for BAA19777.1\n",
      "No hits for ADQ57411.1\n",
      "No hits for YP_003851606.1\n",
      "No hits for AAZ56824.1\n",
      "No hits for AAZ56956.1\n",
      "No hits for CAD48748.1\n",
      "No hits for NP_227886.1\n",
      "No hits for NP_227877.1\n",
      "No hits for AAD32593.1\n",
      "No hits for NP_644553.1\n",
      "No hits for AAP31839.1\n",
      "No hits for EAA78230.1\n",
      "No hits for XP_002470423.1\n",
      "No hits for XP_365543.1\n",
      "No hits for BAA89465.1\n",
      "No hits for NP_241765.1\n",
      "No hits for CAD65888.1\n",
      "No hits for ZP_08160424.1\n",
      "No hits for ZP_08158180.1\n",
      "No hits for ZP_08157788.1\n",
      "No hits for NP_624448.1\n",
      "No hits for NP_626540.1\n",
      "No hits for BAA19778.1\n",
      "No hits for AAZ55251.1\n",
      "No hits for ABA39289.1\n",
      "No hits for ABM55503.1\n",
      "No hits for EAA73188.1\n",
      "No hits for XP_383800.1\n",
      "No hits for XP_368051.1\n",
      "No hits for AAD37441.1\n",
      "No hits for A44594\n",
      "No hits for NP_149282.1\n",
      "No hits for ZP_03013482.1\n",
      "No hits for ZP_03013476.1\n",
      "Sequence has been collected for 3.2.1.8....\n",
      "Feature has been extracted for 3.2.1.8....\n"
     ]
    },
    {
     "name": "stderr",
     "output_type": "stream",
     "text": [
      "c:\\users\\rakes\\appdata\\local\\programs\\python\\python38\\lib\\site-packages\\sklearn\\cluster\\_affinity_propagation.py:246: ConvergenceWarning: Affinity propagation did not converge, this model will not have any cluster centers.\n",
      "  warnings.warn(\"Affinity propagation did not converge, this model \"\n",
      "c:\\users\\rakes\\appdata\\local\\programs\\python\\python38\\lib\\site-packages\\sklearn\\cluster\\_optics.py:803: RuntimeWarning: divide by zero encountered in true_divide\n",
      "  ratio = reachability_plot[:-1] / reachability_plot[1:]\n",
      "c:\\users\\rakes\\appdata\\local\\programs\\python\\python38\\lib\\site-packages\\sklearn\\cluster\\_birch.py:647: ConvergenceWarning: Number of subclusters found (1) by Birch is less than (3). Decrease the threshold.\n",
      "  warnings.warn(\n"
     ]
    },
    {
     "name": "stdout",
     "output_type": "stream",
     "text": [
      "Clustering has been done for 3.2.1.8....\n",
      "No hits for NP_011803.1\n",
      "No hits for AAI16454.1\n",
      "No hits for NP_001032.1\n",
      "Sequence has been collected for 3.2.1.10....\n",
      "Feature has been extracted for 3.2.1.10....\n"
     ]
    },
    {
     "name": "stderr",
     "output_type": "stream",
     "text": [
      "c:\\users\\rakes\\appdata\\local\\programs\\python\\python38\\lib\\site-packages\\sklearn\\cluster\\_affinity_propagation.py:246: ConvergenceWarning: Affinity propagation did not converge, this model will not have any cluster centers.\n",
      "  warnings.warn(\"Affinity propagation did not converge, this model \"\n",
      "c:\\users\\rakes\\appdata\\local\\programs\\python\\python38\\lib\\site-packages\\sklearn\\cluster\\_spectral.py:504: UserWarning: The spectral clustering API has changed. ``fit``now constructs an affinity matrix from data. To use a custom affinity matrix, set ``affinity=precomputed``.\n",
      "  warnings.warn(\"The spectral clustering API has changed. ``fit``\"\n",
      "c:\\users\\rakes\\appdata\\local\\programs\\python\\python38\\lib\\site-packages\\sklearn\\cluster\\_optics.py:803: RuntimeWarning: divide by zero encountered in true_divide\n",
      "  ratio = reachability_plot[:-1] / reachability_plot[1:]\n",
      "c:\\users\\rakes\\appdata\\local\\programs\\python\\python38\\lib\\site-packages\\sklearn\\cluster\\_birch.py:647: ConvergenceWarning: Number of subclusters found (1) by Birch is less than (3). Decrease the threshold.\n",
      "  warnings.warn(\n"
     ]
    },
    {
     "name": "stdout",
     "output_type": "stream",
     "text": [
      "Clustering has been done for 3.2.1.10....\n",
      "No hits for NP_811999.1\n",
      "Sequence has been collected for 3.2.1.11....\n",
      "Feature has been extracted for 3.2.1.11....\n"
     ]
    },
    {
     "name": "stderr",
     "output_type": "stream",
     "text": [
      "c:\\users\\rakes\\appdata\\local\\programs\\python\\python38\\lib\\site-packages\\sklearn\\cluster\\_birch.py:647: ConvergenceWarning: Number of subclusters found (1) by Birch is less than (3). Decrease the threshold.\n",
      "  warnings.warn(\n"
     ]
    },
    {
     "name": "stdout",
     "output_type": "stream",
     "text": [
      "Clustering has been done for 3.2.1.11....\n",
      "No hits for NP_279794.1\n",
      "No hits for NP_578962.1\n",
      "No hits for NP_578963.1\n",
      "No hits for NP_578962.1\n",
      "No hits for NP_833450.1\n",
      "No hits for AAU21943.1\n",
      "No hits for NP_902605.1\n",
      "No hits for AGD94964.1\n",
      "No hits for NP_814153.1\n",
      "No hits for NP_241782.1\n",
      "No hits for NP_268107.1\n",
      "No hits for CBW16119.1\n",
      "No hits for ABV39247.1\n",
      "No hits for ABV40327.1\n",
      "No hits for ABV41826.1\n",
      "No hits for ABV42574.1\n",
      "No hits for NP_630126.1\n",
      "No hits for NP_629155.1\n",
      "No hits for NP_629515.1\n",
      "No hits for NP_625711.1\n",
      "No hits for AAZ54618.1\n",
      "No hits for NP_232428.1\n",
      "No hits for AAA83586.1\n",
      "No hits for EAL00460.1\n",
      "No hits for ABC59330.1\n",
      "No hits for AGX26690.1\n",
      "No hits for AAH36339.1\n",
      "No hits for AAH47336.1\n",
      "No hits for CAH70802.1\n",
      "No hits for CAH70803.1\n",
      "No hits for CAH70804.1\n",
      "No hits for CAI19263.1\n",
      "No hits for CAI19265.1\n",
      "No hits for CAI19266.1\n",
      "No hits for NP_068569.1\n",
      "No hits for BAB25878.1\n",
      "No hits for BAB90566.1\n",
      "No hits for BAB91759.1\n",
      "No hits for ABB97081.1\n",
      "No hits for AAV58834.1\n",
      "No hits for BAA31200.1\n",
      "No hits for AAC96628.1\n",
      "No hits for AAC97066.2\n",
      "No hits for NP_048613.1\n",
      "No hits for AAC96549.2\n",
      "No hits for NP_048529.1\n",
      "No hits for AAC96549.2\n",
      "No hits for NP_048529.1\n",
      "No hits for NP_631319.1\n",
      "No hits for CAB57191.1\n",
      "No hits for NP_733504.1\n",
      "No hits for AAG21643.1\n",
      "No hits for NP_187856.1\n",
      "No hits for NP_566426.1\n",
      "No hits for AAB64320.1\n",
      "No hits for AAB64318.1\n",
      "No hits for AAB58239.1\n",
      "No hits for CAD41539.1\n",
      "Sequence has been collected for 3.2.1.14....\n",
      "Feature has been extracted for 3.2.1.14....\n"
     ]
    },
    {
     "name": "stderr",
     "output_type": "stream",
     "text": [
      "c:\\users\\rakes\\appdata\\local\\programs\\python\\python38\\lib\\site-packages\\sklearn\\cluster\\_affinity_propagation.py:246: ConvergenceWarning: Affinity propagation did not converge, this model will not have any cluster centers.\n",
      "  warnings.warn(\"Affinity propagation did not converge, this model \"\n",
      "c:\\users\\rakes\\appdata\\local\\programs\\python\\python38\\lib\\site-packages\\sklearn\\cluster\\_optics.py:803: RuntimeWarning: divide by zero encountered in true_divide\n",
      "  ratio = reachability_plot[:-1] / reachability_plot[1:]\n",
      "c:\\users\\rakes\\appdata\\local\\programs\\python\\python38\\lib\\site-packages\\sklearn\\cluster\\_birch.py:647: ConvergenceWarning: Number of subclusters found (1) by Birch is less than (3). Decrease the threshold.\n",
      "  warnings.warn(\n"
     ]
    },
    {
     "name": "stdout",
     "output_type": "stream",
     "text": [
      "Clustering has been done for 3.2.1.14....\n",
      "No hits for NP_637621.1\n",
      "No hits for NP_638805.1\n",
      "No hits for CAM91243.1\n",
      "No hits for CAM33166.1\n",
      "No hits for CAQ03437.1\n",
      "No hits for ACP18831.1\n",
      "No hits for ADU33280.1\n",
      "No hits for ADU33338.1\n",
      "No hits for ADU33339.1\n",
      "No hits for ADU33359.1\n",
      "No hits for ADU33363.1\n",
      "No hits for NP_012687.1\n",
      "Sequence has been collected for 3.2.1.15....\n",
      "Feature has been extracted for 3.2.1.15....\n"
     ]
    },
    {
     "name": "stderr",
     "output_type": "stream",
     "text": [
      "c:\\users\\rakes\\appdata\\local\\programs\\python\\python38\\lib\\site-packages\\sklearn\\cluster\\_affinity_propagation.py:246: ConvergenceWarning: Affinity propagation did not converge, this model will not have any cluster centers.\n",
      "  warnings.warn(\"Affinity propagation did not converge, this model \"\n",
      "c:\\users\\rakes\\appdata\\local\\programs\\python\\python38\\lib\\site-packages\\sklearn\\cluster\\_optics.py:803: RuntimeWarning: divide by zero encountered in true_divide\n",
      "  ratio = reachability_plot[:-1] / reachability_plot[1:]\n",
      "c:\\users\\rakes\\appdata\\local\\programs\\python\\python38\\lib\\site-packages\\sklearn\\cluster\\_birch.py:647: ConvergenceWarning: Number of subclusters found (1) by Birch is less than (3). Decrease the threshold.\n",
      "  warnings.warn(\n"
     ]
    },
    {
     "name": "stdout",
     "output_type": "stream",
     "text": [
      "Clustering has been done for 3.2.1.15....\n",
      "No hits for AAC00558.1\n",
      "No hits for ABK34500.1\n",
      "No hits for XP_046047.1\n",
      "No hits for NP_815238.1\n",
      "No hits for NP_420976.1\n",
      "No hits for NP_845781.1\n",
      "No hits for NP_845154.1\n",
      "No hits for NP_347193.1\n",
      "No hits for NP_562230.1\n",
      "No hits for NP_815667.1\n",
      "No hits for NP_814147.1\n",
      "No hits for BAB45607.1\n",
      "Sequence has been collected for 3.2.1.17....\n",
      "Feature has been extracted for 3.2.1.17....\n"
     ]
    },
    {
     "name": "stderr",
     "output_type": "stream",
     "text": [
      "c:\\users\\rakes\\appdata\\local\\programs\\python\\python38\\lib\\site-packages\\sklearn\\cluster\\_optics.py:803: RuntimeWarning: divide by zero encountered in true_divide\n",
      "  ratio = reachability_plot[:-1] / reachability_plot[1:]\n",
      "c:\\users\\rakes\\appdata\\local\\programs\\python\\python38\\lib\\site-packages\\sklearn\\cluster\\_birch.py:647: ConvergenceWarning: Number of subclusters found (1) by Birch is less than (3). Decrease the threshold.\n",
      "  warnings.warn(\n"
     ]
    },
    {
     "name": "stdout",
     "output_type": "stream",
     "text": [
      "Clustering has been done for 3.2.1.17....\n",
      "No hits for BAC56895.1\n",
      "No hits for NP_809368.1\n",
      "No hits for NP_561641.1\n",
      "No hits for NP_904664.1\n",
      "No hits for NP_971085.1\n",
      "No hits for NP_776547.1\n",
      "No hits for NP_006647.2\n",
      "No hits for XP_035091.1\n",
      "No hits for NP_005374.1\n",
      "No hits for CAI17742.1\n",
      "No hits for CAI18221.1\n",
      "No hits for CAI41850.1\n",
      "No hits for CAM26147.1\n",
      "No hits for CAQ08322.1\n",
      "No hits for CAQ09153.1\n",
      "No hits for CAQ09305.1\n",
      "No hits for CAQ09512.1\n",
      "No hits for AAH63465.1\n",
      "No hits for NP_035023.2\n",
      "No hits for NP_058826.1\n",
      "Sequence has been collected for 3.2.1.18....\n",
      "Feature has been extracted for 3.2.1.18....\n"
     ]
    },
    {
     "name": "stderr",
     "output_type": "stream",
     "text": [
      "c:\\users\\rakes\\appdata\\local\\programs\\python\\python38\\lib\\site-packages\\sklearn\\cluster\\_affinity_propagation.py:246: ConvergenceWarning: Affinity propagation did not converge, this model will not have any cluster centers.\n",
      "  warnings.warn(\"Affinity propagation did not converge, this model \"\n",
      "c:\\users\\rakes\\appdata\\local\\programs\\python\\python38\\lib\\site-packages\\sklearn\\cluster\\_optics.py:803: RuntimeWarning: divide by zero encountered in true_divide\n",
      "  ratio = reachability_plot[:-1] / reachability_plot[1:]\n",
      "c:\\users\\rakes\\appdata\\local\\programs\\python\\python38\\lib\\site-packages\\sklearn\\cluster\\_birch.py:647: ConvergenceWarning: Number of subclusters found (1) by Birch is less than (3). Decrease the threshold.\n",
      "  warnings.warn(\n"
     ]
    },
    {
     "name": "stdout",
     "output_type": "stream",
     "text": [
      "Clustering has been done for 3.2.1.18....\n",
      "No hits for NP_229631.1\n",
      "No hits for AAC73506.1\n",
      "No hits for NP_414937.1\n",
      "No hits for XP_392790.1\n",
      "No hits for XP_393379.2\n",
      "No hits for XP_394730.1\n",
      "No hits for AAF69018.1\n",
      "No hits for NP_011808.1\n",
      "No hits for NP_009858.1\n",
      "No hits for CAC24058.1\n",
      "No hits for NP_344361.1\n",
      "No hits for BAB67639.1\n",
      "No hits for NP_378530.1\n",
      "No hits for NP_393778.1\n",
      "No hits for NP_809252.1\n",
      "No hits for NP_812211.1\n",
      "No hits for ZP_01966167.1\n",
      "No hits for NP_621719.1\n",
      "No hits for AAA81491.1\n",
      "No hits for AAO91743.1\n",
      "No hits for NP_501419.1\n",
      "No hits for AAB71267.2\n",
      "No hits for AAB71267.3\n",
      "No hits for NP_508105.1\n",
      "No hits for CAA38907.1\n",
      "No hits for NP_000143.1\n",
      "No hits for NP_004659.1\n",
      "No hits for NP_004659.1\n",
      "No hits for CAM15004.1\n",
      "No hits for CAM15005.1\n",
      "No hits for CAM15006.1\n",
      "No hits for CAM15007.1\n",
      "No hits for NP_032090.2\n",
      "No hits for NP_809596.1\n",
      "No hits for NP_577861.2\n",
      "Sequence has been collected for 3.2.1.20....\n",
      "Feature has been extracted for 3.2.1.20....\n"
     ]
    },
    {
     "name": "stderr",
     "output_type": "stream",
     "text": [
      "c:\\users\\rakes\\appdata\\local\\programs\\python\\python38\\lib\\site-packages\\sklearn\\cluster\\_affinity_propagation.py:246: ConvergenceWarning: Affinity propagation did not converge, this model will not have any cluster centers.\n",
      "  warnings.warn(\"Affinity propagation did not converge, this model \"\n",
      "c:\\users\\rakes\\appdata\\local\\programs\\python\\python38\\lib\\site-packages\\sklearn\\cluster\\_optics.py:803: RuntimeWarning: divide by zero encountered in true_divide\n",
      "  ratio = reachability_plot[:-1] / reachability_plot[1:]\n",
      "c:\\users\\rakes\\appdata\\local\\programs\\python\\python38\\lib\\site-packages\\sklearn\\cluster\\_birch.py:647: ConvergenceWarning: Number of subclusters found (1) by Birch is less than (3). Decrease the threshold.\n",
      "  warnings.warn(\n"
     ]
    },
    {
     "name": "stdout",
     "output_type": "stream",
     "text": [
      "Clustering has been done for 3.2.1.20....\n",
      "No hits for NP_578171.1\n",
      "No hits for NP_142340.1\n",
      "No hits for ABP70047.1\n",
      "No hits for YP_066184.1\n",
      "No hits for NP_242789.1\n",
      "No hits for ABR73190.1\n",
      "No hits for NP_386997.1\n",
      "No hits for NP_625353.1\n",
      "No hits for NP_631601.1\n",
      "No hits for AAZ54975.1\n",
      "No hits for ADI56259.1\n",
      "No hits for NP_936184.1\n",
      "No hits for AEE33889.1\n",
      "No hits for NP_176375.1\n",
      "No hits for NP_187303.1\n",
      "No hits for AAG12895.1\n",
      "No hits for NP_198505.1\n",
      "No hits for AAA83309.1\n",
      "No hits for AAC68766.1\n",
      "No hits for NP_497558.1\n",
      "No hits for ABI34907.1\n",
      "No hits for ABI34907.2\n",
      "No hits for ACD65509.1\n",
      "No hits for EAA26947.1\n",
      "No hits for XP_322216.1\n",
      "No hits for BAB86071.1\n",
      "No hits for BAC06894.1\n",
      "No hits for BAF07003.1\n",
      "No hits for CAE05491.1\n",
      "No hits for CAE03398.1\n",
      "No hits for CAE01908.1\n",
      "No hits for CAE01909.1\n",
      "No hits for CAE01911.1\n",
      "No hits for AAA84906.2\n",
      "No hits for AAT85322.1\n",
      "No hits for AAL89551.1\n",
      "No hits for NP_812226.1\n",
      "No hits for YP_002352162.1\n",
      "No hits for ZP_01543735.1\n",
      "No hits for NP_227841.1\n",
      "No hits for XP_330872.1\n",
      "No hits for XP_324309.1\n",
      "No hits for XP_360965.1\n",
      "No hits for XP_364573.1\n",
      "No hits for AAL69548.2\n",
      "No hits for CAP58431.1\n",
      "No hits for ABR57325.1\n",
      "No hits for EAK85129.1\n",
      "No hits for NP_012272.1\n",
      "Sequence has been collected for 3.2.1.21....\n",
      "Feature has been extracted for 3.2.1.21....\n"
     ]
    },
    {
     "name": "stderr",
     "output_type": "stream",
     "text": [
      "c:\\users\\rakes\\appdata\\local\\programs\\python\\python38\\lib\\site-packages\\sklearn\\cluster\\_affinity_propagation.py:246: ConvergenceWarning: Affinity propagation did not converge, this model will not have any cluster centers.\n",
      "  warnings.warn(\"Affinity propagation did not converge, this model \"\n",
      "c:\\users\\rakes\\appdata\\local\\programs\\python\\python38\\lib\\site-packages\\sklearn\\cluster\\_optics.py:803: RuntimeWarning: divide by zero encountered in true_divide\n",
      "  ratio = reachability_plot[:-1] / reachability_plot[1:]\n",
      "c:\\users\\rakes\\appdata\\local\\programs\\python\\python38\\lib\\site-packages\\sklearn\\cluster\\_birch.py:647: ConvergenceWarning: Number of subclusters found (1) by Birch is less than (3). Decrease the threshold.\n",
      "  warnings.warn(\n"
     ]
    },
    {
     "name": "stdout",
     "output_type": "stream",
     "text": [
      "Clustering has been done for 3.2.1.21....\n",
      "No hits for NP_243094.1\n",
      "No hits for NP_813068.1\n",
      "No hits for CAB55878.1\n",
      "No hits for CAM19136.1\n",
      "No hits for CAM19137.1\n",
      "No hits for NP_038491.1\n",
      "No hits for BAF21463.1\n",
      "No hits for BAC55816.1\n",
      "No hits for BAF26853.1\n",
      "No hits for NP_922125.1\n",
      "No hits for CAC24100.1\n",
      "No hits for NP_344437.1\n",
      "No hits for BAB67666.1\n",
      "No hits for NP_378557.1\n",
      "No hits for AAD30994.1\n",
      "No hits for ABF72189.1\n",
      "No hits for NP_346329.1\n",
      "No hits for NP_624603.1\n",
      "No hits for NP_228997.1\n",
      "No hits for CAB65477.1\n",
      "No hits for ZP_06242255.1\n",
      "No hits for NP_992831.1\n",
      "No hits for NP_578173.1\n",
      "No hits for NP_810784.1\n",
      "No hits for NP_812206.1\n",
      "No hits for NP_811533.1\n",
      "No hits for NP_812575.1\n",
      "Sequence has been collected for 3.2.1.22....\n",
      "Feature has been extracted for 3.2.1.22....\n"
     ]
    },
    {
     "name": "stderr",
     "output_type": "stream",
     "text": [
      "c:\\users\\rakes\\appdata\\local\\programs\\python\\python38\\lib\\site-packages\\sklearn\\cluster\\_affinity_propagation.py:246: ConvergenceWarning: Affinity propagation did not converge, this model will not have any cluster centers.\n",
      "  warnings.warn(\"Affinity propagation did not converge, this model \"\n",
      "c:\\users\\rakes\\appdata\\local\\programs\\python\\python38\\lib\\site-packages\\sklearn\\cluster\\_optics.py:803: RuntimeWarning: divide by zero encountered in true_divide\n",
      "  ratio = reachability_plot[:-1] / reachability_plot[1:]\n",
      "c:\\users\\rakes\\appdata\\local\\programs\\python\\python38\\lib\\site-packages\\sklearn\\cluster\\_birch.py:647: ConvergenceWarning: Number of subclusters found (1) by Birch is less than (3). Decrease the threshold.\n",
      "  warnings.warn(\n"
     ]
    },
    {
     "name": "stdout",
     "output_type": "stream",
     "text": [
      "Clustering has been done for 3.2.1.22....\n",
      "No hits for BAC56904.1\n",
      "No hits for NP_813062.1\n",
      "No hits for NP_813067.1\n",
      "No hits for NP_809374.1\n",
      "No hits for NP_809906.1\n",
      "No hits for NP_813578.1\n",
      "No hits for ABE27151.1\n",
      "No hits for AAC76111.1\n",
      "No hits for NP_417547.2\n",
      "No hits for CAD65569.1\n",
      "No hits for NP_786691.1\n",
      "No hits for NP_268137.2\n",
      "No hits for NP_358159.1\n",
      "No hits for NP_345155.1\n",
      "No hits for NP_228998.1\n",
      "No hits for NP_813071.1\n",
      "No hits for NP_344609.1\n",
      "No hits for NP_638243.1\n",
      "No hits for NP_642100.1\n",
      "No hits for NP_194344.1\n",
      "No hits for NP_568978.1\n",
      "No hits for NP_190852.1\n",
      "No hits for NP_000395.1\n",
      "No hits for BAC31151.1\n",
      "No hits for BAD20774.1\n",
      "No hits for ADO34790.1\n",
      "No hits for ADO34790.2\n",
      "No hits for YP_594332.1\n",
      "No hits for NP_229000.1\n",
      "No hits for NP_228122.1\n",
      "No hits for MBF8418755.1\n",
      "No hits for EFB02686.1\n",
      "No hits for ZP_01923925.1\n",
      "Sequence has been collected for 3.2.1.23....\n",
      "Feature has been extracted for 3.2.1.23....\n"
     ]
    },
    {
     "name": "stderr",
     "output_type": "stream",
     "text": [
      "c:\\users\\rakes\\appdata\\local\\programs\\python\\python38\\lib\\site-packages\\sklearn\\cluster\\_affinity_propagation.py:246: ConvergenceWarning: Affinity propagation did not converge, this model will not have any cluster centers.\n",
      "  warnings.warn(\"Affinity propagation did not converge, this model \"\n",
      "c:\\users\\rakes\\appdata\\local\\programs\\python\\python38\\lib\\site-packages\\sklearn\\cluster\\_optics.py:803: RuntimeWarning: divide by zero encountered in true_divide\n",
      "  ratio = reachability_plot[:-1] / reachability_plot[1:]\n",
      "c:\\users\\rakes\\appdata\\local\\programs\\python\\python38\\lib\\site-packages\\sklearn\\cluster\\_birch.py:647: ConvergenceWarning: Number of subclusters found (1) by Birch is less than (3). Decrease the threshold.\n",
      "  warnings.warn(\n"
     ]
    },
    {
     "name": "stdout",
     "output_type": "stream",
     "text": [
      "Clustering has been done for 3.2.1.23....\n",
      "No hits for CAC24028.1\n",
      "No hits for NP_344318.1\n",
      "No hits for CAB07105.1\n",
      "No hits for NP_625245.1\n",
      "No hits for NP_229647.1\n",
      "No hits for AAB52345.2\n",
      "No hits for AAM81094.1\n",
      "No hits for CCD62468.1\n",
      "No hits for NP_491568.1\n",
      "No hits for NP_740847.1\n",
      "No hits for NP_740848.1\n",
      "No hits for AAA81731.2\n",
      "No hits for AAF52958.1\n",
      "No hits for NP_006113.1\n",
      "No hits for NP_006706.1\n",
      "No hits for NP_034894.1\n",
      "No hits for NP_640349.1\n",
      "No hits for NP_812439.1\n",
      "No hits for NP_812874.1\n",
      "No hits for NP_811860.1\n",
      "No hits for NP_809945.1\n",
      "No hits for NP_811024.1\n",
      "Sequence has been collected for 3.2.1.24....\n",
      "Feature has been extracted for 3.2.1.24....\n"
     ]
    },
    {
     "name": "stderr",
     "output_type": "stream",
     "text": [
      "c:\\users\\rakes\\appdata\\local\\programs\\python\\python38\\lib\\site-packages\\sklearn\\cluster\\_birch.py:647: ConvergenceWarning: Number of subclusters found (1) by Birch is less than (3). Decrease the threshold.\n",
      "  warnings.warn(\n"
     ]
    },
    {
     "name": "stdout",
     "output_type": "stream",
     "text": [
      "Clustering has been done for 3.2.1.24....\n",
      "No hits for NP_578085.1\n",
      "No hits for NP_142473.1\n",
      "No hits for AAL42528.1\n",
      "No hits for AAK87314.1\n",
      "No hits for NP_354529.1\n",
      "No hits for NP_532212.1\n",
      "No hits for BAC56899.1\n",
      "No hits for NP_809371.1\n",
      "No hits for AAZ54953.1\n",
      "No hits for NP_229424.1\n",
      "No hits for NP_638239.1\n",
      "No hits for NP_643384.1\n",
      "No hits for NP_081564.1\n",
      "No hits for NP_696497.1\n",
      "No hits for ZP_06241352.1\n",
      "No hits for WP_116885687.1\n",
      "Sequence has been collected for 3.2.1.25....\n",
      "Feature has been extracted for 3.2.1.25....\n"
     ]
    },
    {
     "name": "stderr",
     "output_type": "stream",
     "text": [
      "c:\\users\\rakes\\appdata\\local\\programs\\python\\python38\\lib\\site-packages\\sklearn\\cluster\\_birch.py:647: ConvergenceWarning: Number of subclusters found (1) by Birch is less than (3). Decrease the threshold.\n",
      "  warnings.warn(\n"
     ]
    },
    {
     "name": "stdout",
     "output_type": "stream",
     "text": [
      "Clustering has been done for 3.2.1.25....\n",
      "No hits for CAB15830.1\n",
      "No hits for NP_391683.1\n",
      "No hits for NP_347065.1\n",
      "No hits for NP_601843.1\n",
      "No hits for NP_346228.1\n",
      "No hits for NP_346161.1\n",
      "No hits for NP_229215.1\n",
      "No hits for NP_176453.1\n",
      "No hits for NP_187995.1\n",
      "No hits for XP_323605.1\n",
      "No hits for CAD41518.1\n",
      "No hits for CAE04784.2\n",
      "No hits for CAE04785.1\n",
      "No hits for BAB72022.1\n",
      "No hits for AAA69504.1\n",
      "No hits for AAV88999.1\n",
      "No hits for NP_485561.1\n",
      "No hits for NP_484862.1\n",
      "Sequence has been collected for 3.2.1.26....\n",
      "Feature has been extracted for 3.2.1.26....\n"
     ]
    },
    {
     "name": "stderr",
     "output_type": "stream",
     "text": [
      "c:\\users\\rakes\\appdata\\local\\programs\\python\\python38\\lib\\site-packages\\sklearn\\cluster\\_affinity_propagation.py:246: ConvergenceWarning: Affinity propagation did not converge, this model will not have any cluster centers.\n",
      "  warnings.warn(\"Affinity propagation did not converge, this model \"\n",
      "c:\\users\\rakes\\appdata\\local\\programs\\python\\python38\\lib\\site-packages\\sklearn\\cluster\\_optics.py:803: RuntimeWarning: divide by zero encountered in true_divide\n",
      "  ratio = reachability_plot[:-1] / reachability_plot[1:]\n",
      "c:\\users\\rakes\\appdata\\local\\programs\\python\\python38\\lib\\site-packages\\sklearn\\cluster\\_birch.py:647: ConvergenceWarning: Number of subclusters found (1) by Birch is less than (3). Decrease the threshold.\n",
      "  warnings.warn(\n"
     ]
    },
    {
     "name": "stdout",
     "output_type": "stream",
     "text": [
      "Clustering has been done for 3.2.1.26....\n",
      "No hits for NP_111834.1\n",
      "No hits for AAW44482.1\n",
      "No hits for NP_009111.1\n",
      "Sequence has been collected for 3.2.1.28....\n",
      "Feature has been extracted for 3.2.1.28....\n"
     ]
    },
    {
     "name": "stderr",
     "output_type": "stream",
     "text": [
      "c:\\users\\rakes\\appdata\\local\\programs\\python\\python38\\lib\\site-packages\\sklearn\\cluster\\_optics.py:803: RuntimeWarning: divide by zero encountered in true_divide\n",
      "  ratio = reachability_plot[:-1] / reachability_plot[1:]\n",
      "c:\\users\\rakes\\appdata\\local\\programs\\python\\python38\\lib\\site-packages\\sklearn\\cluster\\_birch.py:647: ConvergenceWarning: Number of subclusters found (1) by Birch is less than (3). Decrease the threshold.\n",
      "  warnings.warn(\n"
     ]
    },
    {
     "name": "stdout",
     "output_type": "stream",
     "text": [
      "Clustering has been done for 3.2.1.28....\n",
      "No hits for NP_809909.1\n",
      "No hits for NP_813092.1\n",
      "No hits for NP_561063.1\n",
      "No hits for ZP_02032394.1\n",
      "No hits for NP_687713.1\n",
      "No hits for Q8E0N2\n",
      "No hits for NP_228868.1\n",
      "No hits for NP_000172.1\n",
      "No hits for NP_058711.1\n",
      "Sequence has been collected for 3.2.1.31....\n",
      "Feature has been extracted for 3.2.1.31....\n"
     ]
    },
    {
     "name": "stderr",
     "output_type": "stream",
     "text": [
      "c:\\users\\rakes\\appdata\\local\\programs\\python\\python38\\lib\\site-packages\\sklearn\\cluster\\_affinity_propagation.py:246: ConvergenceWarning: Affinity propagation did not converge, this model will not have any cluster centers.\n",
      "  warnings.warn(\"Affinity propagation did not converge, this model \"\n",
      "c:\\users\\rakes\\appdata\\local\\programs\\python\\python38\\lib\\site-packages\\sklearn\\cluster\\_optics.py:803: RuntimeWarning: divide by zero encountered in true_divide\n",
      "  ratio = reachability_plot[:-1] / reachability_plot[1:]\n",
      "c:\\users\\rakes\\appdata\\local\\programs\\python\\python38\\lib\\site-packages\\sklearn\\cluster\\_birch.py:647: ConvergenceWarning: Number of subclusters found (1) by Birch is less than (3). Decrease the threshold.\n",
      "  warnings.warn(\n"
     ]
    },
    {
     "name": "stdout",
     "output_type": "stream",
     "text": [
      "Clustering has been done for 3.2.1.31....\n",
      "Sequence has been collected for 3.2.1.32....\n",
      "Feature has been extracted for 3.2.1.32....\n"
     ]
    },
    {
     "name": "stderr",
     "output_type": "stream",
     "text": [
      "c:\\users\\rakes\\appdata\\local\\programs\\python\\python38\\lib\\site-packages\\sklearn\\cluster\\_affinity_propagation.py:246: ConvergenceWarning: Affinity propagation did not converge, this model will not have any cluster centers.\n",
      "  warnings.warn(\"Affinity propagation did not converge, this model \"\n",
      "c:\\users\\rakes\\appdata\\local\\programs\\python\\python38\\lib\\site-packages\\sklearn\\cluster\\_birch.py:647: ConvergenceWarning: Number of subclusters found (1) by Birch is less than (3). Decrease the threshold.\n",
      "  warnings.warn(\n"
     ]
    },
    {
     "name": "stdout",
     "output_type": "stream",
     "text": [
      "Clustering has been done for 3.2.1.32....\n",
      "No hits for NP_000019.1\n",
      "No hits for NP_000633.1\n",
      "No hits for NP_000634.1\n",
      "No hits for NP_000635.1\n",
      "No hits for NP_000636.1\n",
      "No hits for NP_000637.1\n",
      "Sequence has been collected for 3.2.1.33....\n",
      "Feature has been extracted for 3.2.1.33....\n"
     ]
    },
    {
     "name": "stderr",
     "output_type": "stream",
     "text": [
      "c:\\users\\rakes\\appdata\\local\\programs\\python\\python38\\lib\\site-packages\\sklearn\\cluster\\_birch.py:647: ConvergenceWarning: Number of subclusters found (1) by Birch is less than (3). Decrease the threshold.\n",
      "  warnings.warn(\n"
     ]
    },
    {
     "name": "stdout",
     "output_type": "stream",
     "text": [
      "Clustering has been done for 3.2.1.33....\n",
      "No hits for AAC16482.1\n",
      "No hits for NP_033267.1\n",
      "No hits for CAP19319.1\n",
      "No hits for CAP19320.1\n",
      "No hits for CAP19321.1\n",
      "No hits for CAP19322.1\n",
      "No hits for NP_032343.2\n",
      "No hits for AAH60047.1\n",
      "No hits for NP_034619.1\n",
      "No hits for NP_742037.1\n",
      "No hits for NP_561107.1\n",
      "Sequence has been collected for 3.2.1.35....\n",
      "Feature has been extracted for 3.2.1.35....\n"
     ]
    },
    {
     "name": "stderr",
     "output_type": "stream",
     "text": [
      "c:\\users\\rakes\\appdata\\local\\programs\\python\\python38\\lib\\site-packages\\sklearn\\cluster\\_optics.py:803: RuntimeWarning: divide by zero encountered in true_divide\n",
      "  ratio = reachability_plot[:-1] / reachability_plot[1:]\n",
      "c:\\users\\rakes\\appdata\\local\\programs\\python\\python38\\lib\\site-packages\\sklearn\\cluster\\_birch.py:647: ConvergenceWarning: Number of subclusters found (1) by Birch is less than (3). Decrease the threshold.\n",
      "  warnings.warn(\n"
     ]
    },
    {
     "name": "stdout",
     "output_type": "stream",
     "text": [
      "Clustering has been done for 3.2.1.35....\n",
      "Sequence has been collected for 3.2.1.36....\n",
      "Feature has been extracted for 3.2.1.36....\n"
     ]
    },
    {
     "name": "stderr",
     "output_type": "stream",
     "text": [
      "c:\\users\\rakes\\appdata\\local\\programs\\python\\python38\\lib\\site-packages\\sklearn\\cluster\\_affinity_propagation.py:136: UserWarning: All samples have mutually equal similarities. Returning arbitrary cluster center(s).\n",
      "  warnings.warn(\"All samples have mutually equal similarities. \"\n"
     ]
    },
    {
     "name": "stdout",
     "output_type": "stream",
     "text": [
      "3.2.1.36 has 1 samples which is less than 5 min_samples \n",
      "No hits for ZP_03013483.1\n",
      "No hits for ZP_08159508.1\n",
      "No hits for BAB61064.1\n",
      "No hits for NP_227892.1\n",
      "No hits for NP_638240.1\n",
      "No hits for NP_643385.1\n",
      "No hits for NP_644530.1\n",
      "No hits for XP_329671.1\n",
      "No hits for 5VQJ_A\n",
      "No hits for ABP67986.1\n",
      "No hits for NP_421160.1\n",
      "No hits for AAC98129.1\n",
      "No hits for NP_241934.1\n",
      "No hits for NP_644357.1\n",
      "No hits for CAB13642.1\n",
      "No hits for NP_389640.1\n",
      "No hits for AAT98625.1\n",
      "No hits for NP_244550.1\n",
      "No hits for AAZ55651.1\n",
      "No hits for NP_644557.1\n",
      "No hits for CAC29083.1\n",
      "No hits for AAC98122.1\n",
      "No hits for NP_242980.1\n",
      "Sequence has been collected for 3.2.1.37....\n",
      "Feature has been extracted for 3.2.1.37....\n"
     ]
    },
    {
     "name": "stderr",
     "output_type": "stream",
     "text": [
      "c:\\users\\rakes\\appdata\\local\\programs\\python\\python38\\lib\\site-packages\\sklearn\\cluster\\_optics.py:803: RuntimeWarning: divide by zero encountered in true_divide\n",
      "  ratio = reachability_plot[:-1] / reachability_plot[1:]\n",
      "c:\\users\\rakes\\appdata\\local\\programs\\python\\python38\\lib\\site-packages\\sklearn\\cluster\\_birch.py:647: ConvergenceWarning: Number of subclusters found (1) by Birch is less than (3). Decrease the threshold.\n",
      "  warnings.warn(\n"
     ]
    },
    {
     "name": "stdout",
     "output_type": "stream",
     "text": [
      "Clustering has been done for 3.2.1.37....\n",
      "No hits for ZP_07060000.1\n",
      "No hits for ZP_07060001.1\n",
      "Sequence has been collected for 3.2.1.38....\n",
      "Feature has been extracted for 3.2.1.38....\n"
     ]
    },
    {
     "name": "stderr",
     "output_type": "stream",
     "text": [
      "c:\\users\\rakes\\appdata\\local\\programs\\python\\python38\\lib\\site-packages\\sklearn\\cluster\\_birch.py:647: ConvergenceWarning: Number of subclusters found (1) by Birch is less than (3). Decrease the threshold.\n",
      "  warnings.warn(\n"
     ]
    },
    {
     "name": "stdout",
     "output_type": "stream",
     "text": [
      "Clustering has been done for 3.2.1.38....\n",
      "No hits for NP_577805.1\n",
      "No hits for ZP_02070069.1\n",
      "No hits for AAB39377.1\n",
      "No hits for AAB39378.1\n",
      "No hits for EU589324\n",
      "No hits for NP_227840.1\n",
      "No hits for AIX48714.1\n",
      "No hits for ABR28478.1\n",
      "No hits for CAA33275.1\n",
      "No hits for NP_241102.1\n",
      "No hits for AAZ56163.1\n",
      "No hits for WP_029429093.1\n",
      "No hits for ZP_02070068.1\n",
      "No hits for ZP_06243608.1\n",
      "Sequence has been collected for 3.2.1.39....\n",
      "Feature has been extracted for 3.2.1.39....\n"
     ]
    },
    {
     "name": "stderr",
     "output_type": "stream",
     "text": [
      "c:\\users\\rakes\\appdata\\local\\programs\\python\\python38\\lib\\site-packages\\sklearn\\cluster\\_optics.py:803: RuntimeWarning: divide by zero encountered in true_divide\n",
      "  ratio = reachability_plot[:-1] / reachability_plot[1:]\n",
      "c:\\users\\rakes\\appdata\\local\\programs\\python\\python38\\lib\\site-packages\\sklearn\\cluster\\_birch.py:647: ConvergenceWarning: Number of subclusters found (1) by Birch is less than (3). Decrease the threshold.\n",
      "  warnings.warn(\n"
     ]
    },
    {
     "name": "stdout",
     "output_type": "stream",
     "text": [
      "Clustering has been done for 3.2.1.39....\n",
      "No hits for NP_809926.1\n",
      "No hits for NP_809932.1\n",
      "No hits for YP_005019950.1\n",
      "No hits for CAD65560.1\n",
      "No hits for CAD65558.1\n",
      "No hits for ZP_07366943.1\n",
      "No hits for ZP_07367044.1\n",
      "No hits for NP_822003.1\n",
      "Sequence has been collected for 3.2.1.40....\n",
      "Feature has been extracted for 3.2.1.40....\n"
     ]
    },
    {
     "name": "stderr",
     "output_type": "stream",
     "text": [
      "c:\\users\\rakes\\appdata\\local\\programs\\python\\python38\\lib\\site-packages\\sklearn\\cluster\\_birch.py:647: ConvergenceWarning: Number of subclusters found (1) by Birch is less than (3). Decrease the threshold.\n",
      "  warnings.warn(\n"
     ]
    },
    {
     "name": "stdout",
     "output_type": "stream",
     "text": [
      "Clustering has been done for 3.2.1.40....\n",
      "No hits for CAB14971.1\n",
      "No hits for NP_390871.1\n",
      "No hits for NP_810576.1\n",
      "No hits for NP_326475.1\n",
      "No hits for WP_016313728.1\n",
      "No hits for CBL15393.1\n",
      "No hits for CBL15610.1\n",
      "No hits for NP_688225.1\n",
      "No hits for NP_229641.1\n",
      "No hits for CAD39560.1\n",
      "Sequence has been collected for 3.2.1.41....\n",
      "Feature has been extracted for 3.2.1.41....\n"
     ]
    },
    {
     "name": "stderr",
     "output_type": "stream",
     "text": [
      "c:\\users\\rakes\\appdata\\local\\programs\\python\\python38\\lib\\site-packages\\sklearn\\cluster\\_optics.py:803: RuntimeWarning: divide by zero encountered in true_divide\n",
      "  ratio = reachability_plot[:-1] / reachability_plot[1:]\n",
      "c:\\users\\rakes\\appdata\\local\\programs\\python\\python38\\lib\\site-packages\\sklearn\\cluster\\_birch.py:647: ConvergenceWarning: Number of subclusters found (1) by Birch is less than (3). Decrease the threshold.\n",
      "  warnings.warn(\n"
     ]
    },
    {
     "name": "stdout",
     "output_type": "stream",
     "text": [
      "Clustering has been done for 3.2.1.41....\n",
      "No hits for AFR92751.1\n",
      "No hits for CAI95090.1\n",
      "No hits for NP_000148.1\n",
      "No hits for CAM17042.1\n",
      "No hits for CAM17043.1\n",
      "No hits for NP_766280.1\n",
      "Sequence has been collected for 3.2.1.45....\n",
      "Feature has been extracted for 3.2.1.45....\n"
     ]
    },
    {
     "name": "stderr",
     "output_type": "stream",
     "text": [
      "c:\\users\\rakes\\appdata\\local\\programs\\python\\python38\\lib\\site-packages\\sklearn\\cluster\\_optics.py:803: RuntimeWarning: divide by zero encountered in true_divide\n",
      "  ratio = reachability_plot[:-1] / reachability_plot[1:]\n",
      "c:\\users\\rakes\\appdata\\local\\programs\\python\\python38\\lib\\site-packages\\sklearn\\cluster\\_birch.py:647: ConvergenceWarning: Number of subclusters found (1) by Birch is less than (3). Decrease the threshold.\n",
      "  warnings.warn(\n"
     ]
    },
    {
     "name": "stdout",
     "output_type": "stream",
     "text": [
      "Clustering has been done for 3.2.1.45....\n",
      "No hits for CAI11729.1\n",
      "No hits for NP_000144.1\n",
      "No hits for NP_032105.1\n",
      "Sequence has been collected for 3.2.1.46....\n",
      "Feature has been extracted for 3.2.1.46....\n"
     ]
    },
    {
     "name": "stderr",
     "output_type": "stream",
     "text": [
      "c:\\users\\rakes\\appdata\\local\\programs\\python\\python38\\lib\\site-packages\\sklearn\\cluster\\_birch.py:647: ConvergenceWarning: Number of subclusters found (1) by Birch is less than (3). Decrease the threshold.\n",
      "  warnings.warn(\n"
     ]
    },
    {
     "name": "stdout",
     "output_type": "stream",
     "text": [
      "Clustering has been done for 3.2.1.46....\n",
      "No hits for NP_638705.1\n",
      "No hits for NP_643797.1\n",
      "Sequence has been collected for 3.2.1.48....\n",
      "Feature has been extracted for 3.2.1.48....\n"
     ]
    },
    {
     "name": "stderr",
     "output_type": "stream",
     "text": [
      "c:\\users\\rakes\\appdata\\local\\programs\\python\\python38\\lib\\site-packages\\sklearn\\cluster\\_birch.py:647: ConvergenceWarning: Number of subclusters found (1) by Birch is less than (3). Decrease the threshold.\n",
      "  warnings.warn(\n"
     ]
    },
    {
     "name": "stdout",
     "output_type": "stream",
     "text": [
      "Clustering has been done for 3.2.1.48....\n",
      "No hits for NP_032695.2\n",
      "Sequence has been collected for 3.2.1.49....\n",
      "Feature has been extracted for 3.2.1.49....\n"
     ]
    },
    {
     "name": "stderr",
     "output_type": "stream",
     "text": [
      "c:\\users\\rakes\\appdata\\local\\programs\\python\\python38\\lib\\site-packages\\sklearn\\cluster\\_birch.py:647: ConvergenceWarning: Number of subclusters found (1) by Birch is less than (3). Decrease the threshold.\n",
      "  warnings.warn(\n"
     ]
    },
    {
     "name": "stdout",
     "output_type": "stream",
     "text": [
      "Clustering has been done for 3.2.1.49....\n",
      "No hits for NP_561782.1\n",
      "No hits for NP_000254.1\n",
      "Sequence has been collected for 3.2.1.50....\n",
      "Feature has been extracted for 3.2.1.50....\n"
     ]
    },
    {
     "name": "stderr",
     "output_type": "stream",
     "text": [
      "c:\\users\\rakes\\appdata\\local\\programs\\python\\python38\\lib\\site-packages\\sklearn\\cluster\\_optics.py:803: RuntimeWarning: divide by zero encountered in true_divide\n",
      "  ratio = reachability_plot[:-1] / reachability_plot[1:]\n",
      "c:\\users\\rakes\\appdata\\local\\programs\\python\\python38\\lib\\site-packages\\sklearn\\cluster\\_birch.py:647: ConvergenceWarning: Number of subclusters found (1) by Birch is less than (3). Decrease the threshold.\n",
      "  warnings.warn(\n"
     ]
    },
    {
     "name": "stdout",
     "output_type": "stream",
     "text": [
      "Clustering has been done for 3.2.1.50....\n",
      "No hits for CAC24067.1\n",
      "No hits for NP_344369.1\n",
      "No hits for NP_344370.1\n",
      "No hits for NP_810538.1\n",
      "No hits for NP_811882.1\n",
      "No hits for NP_813047.1\n",
      "No hits for NP_228118.1\n",
      "No hits for NP_638236.1\n",
      "No hits for NP_788497.1\n",
      "No hits for NP_788498.1\n",
      "No hits for CAH74004.1\n",
      "No hits for CAH74004.2\n",
      "No hits for NP_000138.1\n",
      "No hits for CAB53746.1\n",
      "No hits for CAD92494.1\n",
      "No hits for CAD92495.1\n",
      "No hits for NP_036694.1\n",
      "Sequence has been collected for 3.2.1.51....\n",
      "Feature has been extracted for 3.2.1.51....\n"
     ]
    },
    {
     "name": "stderr",
     "output_type": "stream",
     "text": [
      "c:\\users\\rakes\\appdata\\local\\programs\\python\\python38\\lib\\site-packages\\sklearn\\cluster\\_affinity_propagation.py:246: ConvergenceWarning: Affinity propagation did not converge, this model will not have any cluster centers.\n",
      "  warnings.warn(\"Affinity propagation did not converge, this model \"\n",
      "c:\\users\\rakes\\appdata\\local\\programs\\python\\python38\\lib\\site-packages\\sklearn\\cluster\\_birch.py:647: ConvergenceWarning: Number of subclusters found (1) by Birch is less than (3). Decrease the threshold.\n",
      "  warnings.warn(\n"
     ]
    },
    {
     "name": "stdout",
     "output_type": "stream",
     "text": [
      "Clustering has been done for 3.2.1.51....\n",
      "No hits for BAA35922.1\n",
      "No hits for CAA17329.1\n",
      "No hits for CAE55256.1\n",
      "No hits for NP_214751.1\n",
      "No hits for NP_626989.1\n",
      "No hits for NP_629382.1\n",
      "No hits for NP_228618.1\n",
      "No hits for NP_230341.1\n",
      "No hits for BAC56902.1\n",
      "No hits for NP_809372.1\n",
      "No hits for NP_809373.1\n",
      "No hits for NP_809369.1\n",
      "No hits for NP_809419.1\n",
      "No hits for NP_267650.1\n",
      "No hits for NP_904396.1\n",
      "No hits for NP_357651.1\n",
      "No hits for NP_357651.1\n",
      "No hits for NP_344606.1\n",
      "No hits for NP_344606.1\n",
      "No hits for NP_627016.1\n",
      "No hits for NP_638238.1\n",
      "No hits for NP_191086.1\n",
      "No hits for NP_567017.1\n",
      "No hits for AAA96105.3\n",
      "No hits for CAO72175.1\n",
      "No hits for AAL35732.2\n",
      "No hits for CAA22078.2\n",
      "No hits for CAA19506.2\n",
      "No hits for CAI06053.1\n",
      "No hits for CAI06053.2\n",
      "No hits for AAG22248.1\n",
      "No hits for AAN11597.1\n",
      "No hits for NP_728974.1\n",
      "No hits for NP_728976.1\n",
      "No hits for AAF58500.2\n",
      "No hits for AAM68691.1\n",
      "No hits for AAM68693.1\n",
      "No hits for NP_610790.1\n",
      "No hits for NP_725180.1\n",
      "No hits for NP_000511.1\n",
      "No hits for NP_000512.1\n",
      "No hits for NP_034551.1\n",
      "No hits for NP_562150.1\n",
      "Sequence has been collected for 3.2.1.52....\n",
      "Feature has been extracted for 3.2.1.52....\n"
     ]
    },
    {
     "name": "stderr",
     "output_type": "stream",
     "text": [
      "c:\\users\\rakes\\appdata\\local\\programs\\python\\python38\\lib\\site-packages\\sklearn\\cluster\\_affinity_propagation.py:246: ConvergenceWarning: Affinity propagation did not converge, this model will not have any cluster centers.\n",
      "  warnings.warn(\"Affinity propagation did not converge, this model \"\n",
      "c:\\users\\rakes\\appdata\\local\\programs\\python\\python38\\lib\\site-packages\\sklearn\\cluster\\_optics.py:803: RuntimeWarning: divide by zero encountered in true_divide\n",
      "  ratio = reachability_plot[:-1] / reachability_plot[1:]\n",
      "c:\\users\\rakes\\appdata\\local\\programs\\python\\python38\\lib\\site-packages\\sklearn\\cluster\\_birch.py:647: ConvergenceWarning: Number of subclusters found (1) by Birch is less than (3). Decrease the threshold.\n",
      "  warnings.warn(\n"
     ]
    },
    {
     "name": "stdout",
     "output_type": "stream",
     "text": [
      "Clustering has been done for 3.2.1.52....\n",
      "Sequence has been collected for 3.2.1.53....\n",
      "Feature has been extracted for 3.2.1.53....\n"
     ]
    },
    {
     "name": "stderr",
     "output_type": "stream",
     "text": [
      "c:\\users\\rakes\\appdata\\local\\programs\\python\\python38\\lib\\site-packages\\sklearn\\cluster\\_affinity_propagation.py:136: UserWarning: All samples have mutually equal similarities. Returning arbitrary cluster center(s).\n",
      "  warnings.warn(\"All samples have mutually equal similarities. \"\n"
     ]
    },
    {
     "name": "stdout",
     "output_type": "stream",
     "text": [
      "3.2.1.53 has 1 samples which is less than 5 min_samples \n",
      "No hits for NP_229632.1\n",
      "Sequence has been collected for 3.2.1.54....\n",
      "Feature has been extracted for 3.2.1.54....\n"
     ]
    },
    {
     "name": "stderr",
     "output_type": "stream",
     "text": [
      "c:\\users\\rakes\\appdata\\local\\programs\\python\\python38\\lib\\site-packages\\sklearn\\cluster\\_optics.py:803: RuntimeWarning: divide by zero encountered in true_divide\n",
      "  ratio = reachability_plot[:-1] / reachability_plot[1:]\n",
      "c:\\users\\rakes\\appdata\\local\\programs\\python\\python38\\lib\\site-packages\\sklearn\\cluster\\_birch.py:647: ConvergenceWarning: Number of subclusters found (1) by Birch is less than (3). Decrease the threshold.\n",
      "  warnings.warn(\n"
     ]
    },
    {
     "name": "stdout",
     "output_type": "stream",
     "text": [
      "Clustering has been done for 3.2.1.54....\n",
      "No hits for ZP_03458529.1\n",
      "No hits for ZP_03013484.1\n",
      "No hits for NP_812586.1\n",
      "No hits for NP_812566.1\n",
      "No hits for NP_809934.1\n",
      "No hits for NP_811764.1\n",
      "No hits for NP_812573.1\n",
      "No hits for NP_812006.1\n",
      "No hits for WP_011917910.1\n",
      "No hits for WP_011917910.1\n",
      "No hits for NP_644482.1\n",
      "No hits for XP_370346.1\n",
      "No hits for ZP_00503782.1\n",
      "No hits for CAB14832.1\n",
      "No hits for NP_390750.1\n",
      "No hits for CAB14811.1\n",
      "No hits for NP_390729.1\n",
      "No hits for NP_809281.1\n",
      "No hits for NP_809261.1\n",
      "No hits for NP_695732.1\n",
      "No hits for EDY06090.1\n",
      "No hits for ZP_08160912.1\n",
      "No hits for NP_228093.1\n",
      "No hits for NP_641621.1\n",
      "No hits for BAF22602.1\n",
      "No hits for CAA52785.1\n",
      "No hits for XP_330425.1\n",
      "No hits for NP_630049.1\n",
      "No hits for BAB84113.1\n",
      "No hits for EAK85571.1\n",
      "Sequence has been collected for 3.2.1.55....\n",
      "Feature has been extracted for 3.2.1.55....\n"
     ]
    },
    {
     "name": "stderr",
     "output_type": "stream",
     "text": [
      "c:\\users\\rakes\\appdata\\local\\programs\\python\\python38\\lib\\site-packages\\sklearn\\cluster\\_optics.py:803: RuntimeWarning: divide by zero encountered in true_divide\n",
      "  ratio = reachability_plot[:-1] / reachability_plot[1:]\n",
      "c:\\users\\rakes\\appdata\\local\\programs\\python\\python38\\lib\\site-packages\\sklearn\\cluster\\_birch.py:647: ConvergenceWarning: Number of subclusters found (1) by Birch is less than (3). Decrease the threshold.\n",
      "  warnings.warn(\n"
     ]
    },
    {
     "name": "stdout",
     "output_type": "stream",
     "text": [
      "Clustering has been done for 3.2.1.55....\n",
      "Sequence has been collected for 3.2.1.57....\n",
      "Feature has been extracted for 3.2.1.57....\n"
     ]
    },
    {
     "name": "stderr",
     "output_type": "stream",
     "text": [
      "c:\\users\\rakes\\appdata\\local\\programs\\python\\python38\\lib\\site-packages\\sklearn\\cluster\\_affinity_propagation.py:136: UserWarning: All samples have mutually equal similarities. Returning arbitrary cluster center(s).\n",
      "  warnings.warn(\"All samples have mutually equal similarities. \"\n"
     ]
    },
    {
     "name": "stdout",
     "output_type": "stream",
     "text": [
      "3.2.1.57 has 2 samples which is less than 5 min_samples \n",
      "No hits for ACP74152.1\n",
      "Sequence has been collected for 3.2.1.58....\n",
      "Feature has been extracted for 3.2.1.58....\n"
     ]
    },
    {
     "name": "stderr",
     "output_type": "stream",
     "text": [
      "c:\\users\\rakes\\appdata\\local\\programs\\python\\python38\\lib\\site-packages\\sklearn\\cluster\\_optics.py:803: RuntimeWarning: divide by zero encountered in true_divide\n",
      "  ratio = reachability_plot[:-1] / reachability_plot[1:]\n",
      "c:\\users\\rakes\\appdata\\local\\programs\\python\\python38\\lib\\site-packages\\sklearn\\cluster\\_birch.py:647: ConvergenceWarning: Number of subclusters found (1) by Birch is less than (3). Decrease the threshold.\n",
      "  warnings.warn(\n"
     ]
    },
    {
     "name": "stdout",
     "output_type": "stream",
     "text": [
      "Clustering has been done for 3.2.1.58....\n",
      "No hits for CAG47121.1\n",
      "No hits for CAB11202.1\n",
      "No hits for NP_594914.1\n",
      "No hits for CAA22810.1\n",
      "No hits for NP_595364.1\n",
      "No hits for BAP10900.1\n",
      "Sequence has been collected for 3.2.1.59....\n",
      "Feature has been extracted for 3.2.1.59....\n"
     ]
    },
    {
     "name": "stderr",
     "output_type": "stream",
     "text": [
      "c:\\users\\rakes\\appdata\\local\\programs\\python\\python38\\lib\\site-packages\\sklearn\\cluster\\_birch.py:647: ConvergenceWarning: Number of subclusters found (1) by Birch is less than (3). Decrease the threshold.\n",
      "  warnings.warn(\n"
     ]
    },
    {
     "name": "stdout",
     "output_type": "stream",
     "text": [
      "Clustering has been done for 3.2.1.59....\n",
      "Sequence has been collected for 3.2.1.60....\n",
      "Feature has been extracted for 3.2.1.60....\n"
     ]
    },
    {
     "name": "stderr",
     "output_type": "stream",
     "text": [
      "c:\\users\\rakes\\appdata\\local\\programs\\python\\python38\\lib\\site-packages\\sklearn\\cluster\\_affinity_propagation.py:246: ConvergenceWarning: Affinity propagation did not converge, this model will not have any cluster centers.\n",
      "  warnings.warn(\"Affinity propagation did not converge, this model \"\n",
      "c:\\users\\rakes\\appdata\\local\\programs\\python\\python38\\lib\\site-packages\\sklearn\\cluster\\_birch.py:647: ConvergenceWarning: Number of subclusters found (1) by Birch is less than (3). Decrease the threshold.\n",
      "  warnings.warn(\n"
     ]
    },
    {
     "name": "stdout",
     "output_type": "stream",
     "text": [
      "Clustering has been done for 3.2.1.60....\n",
      "Sequence has been collected for 3.2.1.61....\n",
      "Feature has been extracted for 3.2.1.61....\n"
     ]
    },
    {
     "name": "stderr",
     "output_type": "stream",
     "text": [
      "c:\\users\\rakes\\appdata\\local\\programs\\python\\python38\\lib\\site-packages\\sklearn\\cluster\\_affinity_propagation.py:136: UserWarning: All samples have mutually equal similarities. Returning arbitrary cluster center(s).\n",
      "  warnings.warn(\"All samples have mutually equal similarities. \"\n"
     ]
    },
    {
     "name": "stdout",
     "output_type": "stream",
     "text": [
      "3.2.1.61 has 1 samples which is less than 5 min_samples \n",
      "Sequence has been collected for 3.2.1.62....\n",
      "Feature has been extracted for 3.2.1.62....\n"
     ]
    },
    {
     "name": "stderr",
     "output_type": "stream",
     "text": [
      "c:\\users\\rakes\\appdata\\local\\programs\\python\\python38\\lib\\site-packages\\sklearn\\cluster\\_affinity_propagation.py:136: UserWarning: All samples have mutually equal similarities. Returning arbitrary cluster center(s).\n",
      "  warnings.warn(\"All samples have mutually equal similarities. \"\n"
     ]
    },
    {
     "name": "stdout",
     "output_type": "stream",
     "text": [
      "3.2.1.62 has 1 samples which is less than 5 min_samples \n",
      "No hits for NP_346093.1\n",
      "No hits for NP_642102.1\n",
      "Sequence has been collected for 3.2.1.63....\n",
      "Feature has been extracted for 3.2.1.63....\n"
     ]
    },
    {
     "name": "stderr",
     "output_type": "stream",
     "text": [
      "c:\\users\\rakes\\appdata\\local\\programs\\python\\python38\\lib\\site-packages\\sklearn\\cluster\\_birch.py:647: ConvergenceWarning: Number of subclusters found (1) by Birch is less than (3). Decrease the threshold.\n",
      "  warnings.warn(\n"
     ]
    },
    {
     "name": "stdout",
     "output_type": "stream",
     "text": [
      "Clustering has been done for 3.2.1.63....\n",
      "Sequence has been collected for 3.2.1.64....\n",
      "Feature has been extracted for 3.2.1.64....\n"
     ]
    },
    {
     "name": "stderr",
     "output_type": "stream",
     "text": [
      "c:\\users\\rakes\\appdata\\local\\programs\\python\\python38\\lib\\site-packages\\sklearn\\cluster\\_affinity_propagation.py:136: UserWarning: All samples have mutually equal similarities. Returning arbitrary cluster center(s).\n",
      "  warnings.warn(\"All samples have mutually equal similarities. \"\n"
     ]
    },
    {
     "name": "stdout",
     "output_type": "stream",
     "text": [
      "3.2.1.64 has 2 samples which is less than 5 min_samples \n",
      "No hits for NP_810673.1\n",
      "Sequence has been collected for 3.2.1.65....\n",
      "Feature has been extracted for 3.2.1.65....\n"
     ]
    },
    {
     "name": "stderr",
     "output_type": "stream",
     "text": [
      "c:\\users\\rakes\\appdata\\local\\programs\\python\\python38\\lib\\site-packages\\sklearn\\cluster\\_optics.py:803: RuntimeWarning: divide by zero encountered in true_divide\n",
      "  ratio = reachability_plot[:-1] / reachability_plot[1:]\n",
      "c:\\users\\rakes\\appdata\\local\\programs\\python\\python38\\lib\\site-packages\\sklearn\\cluster\\_birch.py:647: ConvergenceWarning: Number of subclusters found (1) by Birch is less than (3). Decrease the threshold.\n",
      "  warnings.warn(\n"
     ]
    },
    {
     "name": "stdout",
     "output_type": "stream",
     "text": [
      "Clustering has been done for 3.2.1.65....\n",
      "No hits for NP_813066.1\n",
      "No hits for NP_813034.1\n",
      "No hits for NP_809931.1\n",
      "No hits for NP_228247.1\n",
      "Sequence has been collected for 3.2.1.67....\n",
      "Feature has been extracted for 3.2.1.67....\n"
     ]
    },
    {
     "name": "stderr",
     "output_type": "stream",
     "text": [
      "c:\\users\\rakes\\appdata\\local\\programs\\python\\python38\\lib\\site-packages\\sklearn\\cluster\\_birch.py:647: ConvergenceWarning: Number of subclusters found (1) by Birch is less than (3). Decrease the threshold.\n",
      "  warnings.warn(\n"
     ]
    },
    {
     "name": "stdout",
     "output_type": "stream",
     "text": [
      "Clustering has been done for 3.2.1.67....\n",
      "No hits for NP_601306.1\n",
      "No hits for NP_344806.1\n",
      "No hits for AAZ55924.1\n",
      "No hits for NP_192641.1\n",
      "Sequence has been collected for 3.2.1.68....\n",
      "Feature has been extracted for 3.2.1.68....\n"
     ]
    },
    {
     "name": "stderr",
     "output_type": "stream",
     "text": [
      "c:\\users\\rakes\\appdata\\local\\programs\\python\\python38\\lib\\site-packages\\sklearn\\cluster\\_optics.py:803: RuntimeWarning: divide by zero encountered in true_divide\n",
      "  ratio = reachability_plot[:-1] / reachability_plot[1:]\n",
      "c:\\users\\rakes\\appdata\\local\\programs\\python\\python38\\lib\\site-packages\\sklearn\\cluster\\_birch.py:647: ConvergenceWarning: Number of subclusters found (1) by Birch is less than (3). Decrease the threshold.\n",
      "  warnings.warn(\n"
     ]
    },
    {
     "name": "stdout",
     "output_type": "stream",
     "text": [
      "Clustering has been done for 3.2.1.68....\n",
      "No hits for AAF26276.1\n",
      "No hits for BAA90671.1\n",
      "Sequence has been collected for 3.2.1.70....\n",
      "Feature has been extracted for 3.2.1.70....\n"
     ]
    },
    {
     "name": "stderr",
     "output_type": "stream",
     "text": [
      "c:\\users\\rakes\\appdata\\local\\programs\\python\\python38\\lib\\site-packages\\sklearn\\cluster\\_birch.py:647: ConvergenceWarning: Number of subclusters found (1) by Birch is less than (3). Decrease the threshold.\n",
      "  warnings.warn(\n"
     ]
    },
    {
     "name": "stdout",
     "output_type": "stream",
     "text": [
      "Clustering has been done for 3.2.1.70....\n",
      "Sequence has been collected for 3.2.1.71....\n",
      "Feature has been extracted for 3.2.1.71....\n",
      "3.2.1.71 has 3 samples which is less than 5 min_samples \n",
      "Sequence has been collected for 3.2.1.72....\n",
      "Feature has been extracted for 3.2.1.72....\n"
     ]
    },
    {
     "name": "stderr",
     "output_type": "stream",
     "text": [
      "c:\\users\\rakes\\appdata\\local\\programs\\python\\python38\\lib\\site-packages\\sklearn\\cluster\\_affinity_propagation.py:136: UserWarning: All samples have mutually equal similarities. Returning arbitrary cluster center(s).\n",
      "  warnings.warn(\"All samples have mutually equal similarities. \"\n"
     ]
    },
    {
     "name": "stdout",
     "output_type": "stream",
     "text": [
      "3.2.1.72 has 1 samples which is less than 5 min_samples \n",
      "No hits for WP_084555785.1\n",
      "No hits for ZP_08159266.1\n",
      "No hits for ZP_08157835.1\n",
      "No hits for NP_442377.1\n",
      "No hits for XP_368567.1\n",
      "No hits for XP_362900.1\n",
      "No hits for EAZ34091.1\n",
      "Sequence has been collected for 3.2.1.73....\n",
      "Feature has been extracted for 3.2.1.73....\n"
     ]
    },
    {
     "name": "stderr",
     "output_type": "stream",
     "text": [
      "c:\\users\\rakes\\appdata\\local\\programs\\python\\python38\\lib\\site-packages\\sklearn\\cluster\\_optics.py:803: RuntimeWarning: divide by zero encountered in true_divide\n",
      "  ratio = reachability_plot[:-1] / reachability_plot[1:]\n",
      "c:\\users\\rakes\\appdata\\local\\programs\\python\\python38\\lib\\site-packages\\sklearn\\cluster\\_birch.py:647: ConvergenceWarning: Number of subclusters found (1) by Birch is less than (3). Decrease the threshold.\n",
      "  warnings.warn(\n"
     ]
    },
    {
     "name": "stdout",
     "output_type": "stream",
     "text": [
      "Clustering has been done for 3.2.1.73....\n",
      "No hits for NP_641782.1\n",
      "No hits for NP_642120.1\n",
      "No hits for NP_644175.1\n",
      "Sequence has been collected for 3.2.1.74....\n",
      "Feature has been extracted for 3.2.1.74....\n"
     ]
    },
    {
     "name": "stderr",
     "output_type": "stream",
     "text": [
      "c:\\users\\rakes\\appdata\\local\\programs\\python\\python38\\lib\\site-packages\\sklearn\\cluster\\_birch.py:647: ConvergenceWarning: Number of subclusters found (1) by Birch is less than (3). Decrease the threshold.\n",
      "  warnings.warn(\n"
     ]
    },
    {
     "name": "stdout",
     "output_type": "stream",
     "text": [
      "Clustering has been done for 3.2.1.74....\n",
      "No hits for NP_812224.1\n",
      "No hits for XP_323748.1\n",
      "Sequence has been collected for 3.2.1.75....\n",
      "Feature has been extracted for 3.2.1.75....\n"
     ]
    },
    {
     "name": "stderr",
     "output_type": "stream",
     "text": [
      "c:\\users\\rakes\\appdata\\local\\programs\\python\\python38\\lib\\site-packages\\sklearn\\cluster\\_birch.py:647: ConvergenceWarning: Number of subclusters found (1) by Birch is less than (3). Decrease the threshold.\n",
      "  warnings.warn(\n"
     ]
    },
    {
     "name": "stdout",
     "output_type": "stream",
     "text": [
      "Clustering has been done for 3.2.1.75....\n",
      "No hits for NP_000194.1\n",
      "No hits for XP_042678.2\n",
      "No hits for NP_032351.1\n",
      "Sequence has been collected for 3.2.1.76....\n",
      "Feature has been extracted for 3.2.1.76....\n"
     ]
    },
    {
     "name": "stderr",
     "output_type": "stream",
     "text": [
      "c:\\users\\rakes\\appdata\\local\\programs\\python\\python38\\lib\\site-packages\\sklearn\\cluster\\_optics.py:803: RuntimeWarning: divide by zero encountered in true_divide\n",
      "  ratio = reachability_plot[:-1] / reachability_plot[1:]\n",
      "c:\\users\\rakes\\appdata\\local\\programs\\python\\python38\\lib\\site-packages\\sklearn\\cluster\\_birch.py:647: ConvergenceWarning: Number of subclusters found (1) by Birch is less than (3). Decrease the threshold.\n",
      "  warnings.warn(\n"
     ]
    },
    {
     "name": "stdout",
     "output_type": "stream",
     "text": [
      "Clustering has been done for 3.2.1.76....\n",
      "No hits for ADK22147.1\n",
      "No hits for AAZ54938.1\n",
      "No hits for NP_229032.1\n",
      "No hits for NP_229550.1\n",
      "No hits for YP_001245126.1\n",
      "No hits for BAG69482.1\n",
      "No hits for NP_637144.1\n",
      "No hits for NP_171733.1\n",
      "No hits for EEF05441.1\n",
      "No hits for AAG00315.1\n",
      "No hits for AAU22320.1\n",
      "No hits for CAB12407.1\n",
      "No hits for NP_388469.1\n",
      "No hits for YP_003844078.1\n",
      "Sequence has been collected for 3.2.1.78....\n",
      "Feature has been extracted for 3.2.1.78....\n"
     ]
    },
    {
     "name": "stderr",
     "output_type": "stream",
     "text": [
      "c:\\users\\rakes\\appdata\\local\\programs\\python\\python38\\lib\\site-packages\\sklearn\\cluster\\_optics.py:803: RuntimeWarning: divide by zero encountered in true_divide\n",
      "  ratio = reachability_plot[:-1] / reachability_plot[1:]\n",
      "c:\\users\\rakes\\appdata\\local\\programs\\python\\python38\\lib\\site-packages\\sklearn\\cluster\\_birch.py:647: ConvergenceWarning: Number of subclusters found (1) by Birch is less than (3). Decrease the threshold.\n",
      "  warnings.warn(\n"
     ]
    },
    {
     "name": "stdout",
     "output_type": "stream",
     "text": [
      "Clustering has been done for 3.2.1.78....\n",
      "Sequence has been collected for 3.2.1.80....\n",
      "Feature has been extracted for 3.2.1.80....\n"
     ]
    },
    {
     "name": "stderr",
     "output_type": "stream",
     "text": [
      "c:\\users\\rakes\\appdata\\local\\programs\\python\\python38\\lib\\site-packages\\sklearn\\cluster\\_birch.py:647: ConvergenceWarning: Number of subclusters found (1) by Birch is less than (3). Decrease the threshold.\n",
      "  warnings.warn(\n"
     ]
    },
    {
     "name": "stdout",
     "output_type": "stream",
     "text": [
      "Clustering has been done for 3.2.1.80....\n",
      "No hits for ABO93616.1\n",
      "No hits for NP_627674.1\n",
      "No hits for NP_627690.1\n",
      "No hits for A32261\n",
      "Sequence has been collected for 3.2.1.81....\n",
      "Feature has been extracted for 3.2.1.81....\n"
     ]
    },
    {
     "name": "stderr",
     "output_type": "stream",
     "text": [
      "c:\\users\\rakes\\appdata\\local\\programs\\python\\python38\\lib\\site-packages\\sklearn\\cluster\\_birch.py:647: ConvergenceWarning: Number of subclusters found (1) by Birch is less than (3). Decrease the threshold.\n",
      "  warnings.warn(\n"
     ]
    },
    {
     "name": "stdout",
     "output_type": "stream",
     "text": [
      "Clustering has been done for 3.2.1.81....\n",
      "Sequence has been collected for 3.2.1.82....\n",
      "Feature has been extracted for 3.2.1.82....\n"
     ]
    },
    {
     "name": "stderr",
     "output_type": "stream",
     "text": [
      "c:\\users\\rakes\\appdata\\local\\programs\\python\\python38\\lib\\site-packages\\sklearn\\cluster\\_birch.py:647: ConvergenceWarning: Number of subclusters found (1) by Birch is less than (3). Decrease the threshold.\n",
      "  warnings.warn(\n"
     ]
    },
    {
     "name": "stdout",
     "output_type": "stream",
     "text": [
      "Clustering has been done for 3.2.1.82....\n",
      "No hits for WP_106404066.1\n",
      "Sequence has been collected for 3.2.1.83....\n",
      "Feature has been extracted for 3.2.1.83....\n"
     ]
    },
    {
     "name": "stderr",
     "output_type": "stream",
     "text": [
      "c:\\users\\rakes\\appdata\\local\\programs\\python\\python38\\lib\\site-packages\\sklearn\\cluster\\_birch.py:647: ConvergenceWarning: Number of subclusters found (1) by Birch is less than (3). Decrease the threshold.\n",
      "  warnings.warn(\n"
     ]
    },
    {
     "name": "stdout",
     "output_type": "stream",
     "text": [
      "Clustering has been done for 3.2.1.83....\n",
      "Sequence has been collected for 3.2.1.84....\n",
      "Feature has been extracted for 3.2.1.84....\n"
     ]
    },
    {
     "name": "stderr",
     "output_type": "stream",
     "text": [
      "c:\\users\\rakes\\appdata\\local\\programs\\python\\python38\\lib\\site-packages\\sklearn\\cluster\\_birch.py:647: ConvergenceWarning: Number of subclusters found (1) by Birch is less than (3). Decrease the threshold.\n",
      "  warnings.warn(\n"
     ]
    },
    {
     "name": "stdout",
     "output_type": "stream",
     "text": [
      "Clustering has been done for 3.2.1.84....\n",
      "No hits for BAB45117.1\n",
      "No hits for NP_372713.1\n",
      "Sequence has been collected for 3.2.1.85....\n",
      "Feature has been extracted for 3.2.1.85....\n"
     ]
    },
    {
     "name": "stderr",
     "output_type": "stream",
     "text": [
      "c:\\users\\rakes\\appdata\\local\\programs\\python\\python38\\lib\\site-packages\\sklearn\\cluster\\_birch.py:647: ConvergenceWarning: Number of subclusters found (1) by Birch is less than (3). Decrease the threshold.\n",
      "  warnings.warn(\n"
     ]
    },
    {
     "name": "stdout",
     "output_type": "stream",
     "text": [
      "Clustering has been done for 3.2.1.85....\n",
      "No hits for NP_391805.1\n",
      "No hits for NP_721380.1\n",
      "No hits for NP_721491.1\n",
      "No hits for NP_721937.1\n",
      "No hits for NP_345092.1\n",
      "No hits for NP_269656.1\n",
      "No hits for AAA23550.1\n",
      "No hits for BAA15523.1\n",
      "No hits for NP_229086.1\n",
      "Sequence has been collected for 3.2.1.86....\n",
      "Feature has been extracted for 3.2.1.86....\n"
     ]
    },
    {
     "name": "stderr",
     "output_type": "stream",
     "text": [
      "c:\\users\\rakes\\appdata\\local\\programs\\python\\python38\\lib\\site-packages\\sklearn\\cluster\\_affinity_propagation.py:246: ConvergenceWarning: Affinity propagation did not converge, this model will not have any cluster centers.\n",
      "  warnings.warn(\"Affinity propagation did not converge, this model \"\n",
      "c:\\users\\rakes\\appdata\\local\\programs\\python\\python38\\lib\\site-packages\\sklearn\\cluster\\_optics.py:803: RuntimeWarning: divide by zero encountered in true_divide\n",
      "  ratio = reachability_plot[:-1] / reachability_plot[1:]\n",
      "c:\\users\\rakes\\appdata\\local\\programs\\python\\python38\\lib\\site-packages\\sklearn\\cluster\\_birch.py:647: ConvergenceWarning: Number of subclusters found (1) by Birch is less than (3). Decrease the threshold.\n",
      "  warnings.warn(\n"
     ]
    },
    {
     "name": "stdout",
     "output_type": "stream",
     "text": [
      "Clustering has been done for 3.2.1.86....\n",
      "No hits for NP_823362.1\n",
      "Sequence has been collected for 3.2.1.88....\n",
      "Feature has been extracted for 3.2.1.88....\n",
      "3.2.1.88 has 4 samples which is less than 5 min_samples \n",
      "No hits for NP_391292.1\n",
      "No hits for NP_813579.1\n",
      "No hits for ACO06241.1\n",
      "No hits for NP_695463.1\n",
      "No hits for AEH26456.1\n",
      "No hits for NP_229006.1\n",
      "Sequence has been collected for 3.2.1.89....\n",
      "Feature has been extracted for 3.2.1.89....\n"
     ]
    },
    {
     "name": "stderr",
     "output_type": "stream",
     "text": [
      "c:\\users\\rakes\\appdata\\local\\programs\\python\\python38\\lib\\site-packages\\sklearn\\cluster\\_birch.py:647: ConvergenceWarning: Number of subclusters found (1) by Birch is less than (3). Decrease the threshold.\n",
      "  warnings.warn(\n"
     ]
    },
    {
     "name": "stdout",
     "output_type": "stream",
     "text": [
      "Clustering has been done for 3.2.1.89....\n",
      "No hits for AAZ54658.1\n",
      "No hits for XP_360146.1\n",
      "No hits for CAA56918.1\n",
      "Sequence has been collected for 3.2.1.91....\n",
      "Feature has been extracted for 3.2.1.91....\n"
     ]
    },
    {
     "name": "stderr",
     "output_type": "stream",
     "text": [
      "c:\\users\\rakes\\appdata\\local\\programs\\python\\python38\\lib\\site-packages\\sklearn\\cluster\\_birch.py:647: ConvergenceWarning: Number of subclusters found (1) by Birch is less than (3). Decrease the threshold.\n",
      "  warnings.warn(\n"
     ]
    },
    {
     "name": "stdout",
     "output_type": "stream",
     "text": [
      "Clustering has been done for 3.2.1.91....\n",
      "Sequence has been collected for 3.2.1.92....\n"
     ]
    },
    {
     "name": "stderr",
     "output_type": "stream",
     "text": [
      "c:\\users\\rakes\\appdata\\local\\programs\\python\\python38\\lib\\site-packages\\sklearn\\cluster\\_affinity_propagation.py:136: UserWarning: All samples have mutually equal similarities. Returning arbitrary cluster center(s).\n",
      "  warnings.warn(\"All samples have mutually equal similarities. \"\n"
     ]
    },
    {
     "name": "stdout",
     "output_type": "stream",
     "text": [
      "Feature has been extracted for 3.2.1.92....\n",
      "3.2.1.92 has 5 samples which is less than 5 min_samples \n",
      "Sequence has been collected for 3.2.1.93....\n",
      "Feature has been extracted for 3.2.1.93....\n"
     ]
    },
    {
     "name": "stderr",
     "output_type": "stream",
     "text": [
      "c:\\users\\rakes\\appdata\\local\\programs\\python\\python38\\lib\\site-packages\\sklearn\\cluster\\_optics.py:803: RuntimeWarning: divide by zero encountered in true_divide\n",
      "  ratio = reachability_plot[:-1] / reachability_plot[1:]\n",
      "c:\\users\\rakes\\appdata\\local\\programs\\python\\python38\\lib\\site-packages\\sklearn\\cluster\\_birch.py:647: ConvergenceWarning: Number of subclusters found (1) by Birch is less than (3). Decrease the threshold.\n",
      "  warnings.warn(\n"
     ]
    },
    {
     "name": "stdout",
     "output_type": "stream",
     "text": [
      "Clustering has been done for 3.2.1.93....\n",
      "Sequence has been collected for 3.2.1.94....\n",
      "Feature has been extracted for 3.2.1.94....\n",
      "3.2.1.94 has 3 samples which is less than 5 min_samples \n",
      "Sequence has been collected for 3.2.1.95....\n",
      "Feature has been extracted for 3.2.1.95....\n"
     ]
    },
    {
     "name": "stderr",
     "output_type": "stream",
     "text": [
      "c:\\users\\rakes\\appdata\\local\\programs\\python\\python38\\lib\\site-packages\\sklearn\\cluster\\_affinity_propagation.py:136: UserWarning: All samples have mutually equal similarities. Returning arbitrary cluster center(s).\n",
      "  warnings.warn(\"All samples have mutually equal similarities. \"\n"
     ]
    },
    {
     "name": "stdout",
     "output_type": "stream",
     "text": [
      "3.2.1.95 has 1 samples which is less than 5 min_samples \n",
      "No hits for NP_809957.1\n",
      "No hits for NP_812898.1\n",
      "No hits for NP_816485.1\n",
      "No hits for NP_269818.1\n",
      "No hits for NP_696499.1\n",
      "No hits for NP_241651.1\n",
      "No hits for NP_345016.1\n",
      "No hits for AEE74996.1\n",
      "No hits for NP_187715.1\n",
      "No hits for NP_196165.2\n",
      "No hits for AAC46644.3\n",
      "No hits for AAN84828.1\n",
      "No hits for AAU05578.1\n",
      "No hits for NP_498267.2\n",
      "No hits for NP_073596.1\n",
      "Sequence has been collected for 3.2.1.96....\n",
      "Feature has been extracted for 3.2.1.96....\n"
     ]
    },
    {
     "name": "stderr",
     "output_type": "stream",
     "text": [
      "c:\\users\\rakes\\appdata\\local\\programs\\python\\python38\\lib\\site-packages\\sklearn\\cluster\\_affinity_propagation.py:246: ConvergenceWarning: Affinity propagation did not converge, this model will not have any cluster centers.\n",
      "  warnings.warn(\"Affinity propagation did not converge, this model \"\n",
      "c:\\users\\rakes\\appdata\\local\\programs\\python\\python38\\lib\\site-packages\\sklearn\\cluster\\_birch.py:647: ConvergenceWarning: Number of subclusters found (1) by Birch is less than (3). Decrease the threshold.\n",
      "  warnings.warn(\n"
     ]
    },
    {
     "name": "stdout",
     "output_type": "stream",
     "text": [
      "Clustering has been done for 3.2.1.96....\n",
      "No hits for NP_695661.1\n",
      "No hits for NP_561609.1\n",
      "No hits for WP_004611020.1\n",
      "No hits for WP_004612822.1\n",
      "Sequence has been collected for 3.2.1.97....\n",
      "Feature has been extracted for 3.2.1.97....\n"
     ]
    },
    {
     "name": "stderr",
     "output_type": "stream",
     "text": [
      "c:\\users\\rakes\\appdata\\local\\programs\\python\\python38\\lib\\site-packages\\sklearn\\cluster\\_birch.py:647: ConvergenceWarning: Number of subclusters found (1) by Birch is less than (3). Decrease the threshold.\n",
      "  warnings.warn(\n"
     ]
    },
    {
     "name": "stdout",
     "output_type": "stream",
     "text": [
      "Clustering has been done for 3.2.1.97....\n",
      "No hits for NP_241279.1\n",
      "Sequence has been collected for 3.2.1.98....\n",
      "Feature has been extracted for 3.2.1.98....\n"
     ]
    },
    {
     "name": "stderr",
     "output_type": "stream",
     "text": [
      "c:\\users\\rakes\\appdata\\local\\programs\\python\\python38\\lib\\site-packages\\sklearn\\cluster\\_affinity_propagation.py:246: ConvergenceWarning: Affinity propagation did not converge, this model will not have any cluster centers.\n",
      "  warnings.warn(\"Affinity propagation did not converge, this model \"\n",
      "c:\\users\\rakes\\appdata\\local\\programs\\python\\python38\\lib\\site-packages\\sklearn\\cluster\\_optics.py:803: RuntimeWarning: divide by zero encountered in true_divide\n",
      "  ratio = reachability_plot[:-1] / reachability_plot[1:]\n",
      "c:\\users\\rakes\\appdata\\local\\programs\\python\\python38\\lib\\site-packages\\sklearn\\cluster\\_birch.py:647: ConvergenceWarning: Number of subclusters found (1) by Birch is less than (3). Decrease the threshold.\n",
      "  warnings.warn(\n"
     ]
    },
    {
     "name": "stdout",
     "output_type": "stream",
     "text": [
      "Clustering has been done for 3.2.1.98....\n",
      "No hits for AAU22854.1\n",
      "No hits for CAB15969.1\n",
      "No hits for NP_391812.1\n",
      "No hits for CAB14841.1\n",
      "No hits for NP_390759.1\n",
      "No hits for NP_809273.1\n",
      "No hits for NP_809280.1\n",
      "No hits for BAD89094.1\n",
      "Sequence has been collected for 3.2.1.99....\n",
      "Feature has been extracted for 3.2.1.99....\n"
     ]
    },
    {
     "name": "stderr",
     "output_type": "stream",
     "text": [
      "c:\\users\\rakes\\appdata\\local\\programs\\python\\python38\\lib\\site-packages\\sklearn\\cluster\\_optics.py:803: RuntimeWarning: divide by zero encountered in true_divide\n",
      "  ratio = reachability_plot[:-1] / reachability_plot[1:]\n",
      "c:\\users\\rakes\\appdata\\local\\programs\\python\\python38\\lib\\site-packages\\sklearn\\cluster\\_birch.py:647: ConvergenceWarning: Number of subclusters found (1) by Birch is less than (3). Decrease the threshold.\n",
      "  warnings.warn(\n"
     ]
    },
    {
     "name": "stdout",
     "output_type": "stream",
     "text": [
      "Clustering has been done for 3.2.1.99....\n",
      "Sequence has been collected for 3.2.1.100....\n",
      "Feature has been extracted for 3.2.1.100....\n"
     ]
    },
    {
     "name": "stderr",
     "output_type": "stream",
     "text": [
      "c:\\users\\rakes\\appdata\\local\\programs\\python\\python38\\lib\\site-packages\\sklearn\\cluster\\_birch.py:647: ConvergenceWarning: Number of subclusters found (1) by Birch is less than (3). Decrease the threshold.\n",
      "  warnings.warn(\n"
     ]
    },
    {
     "name": "stdout",
     "output_type": "stream",
     "text": [
      "Clustering has been done for 3.2.1.100....\n",
      "No hits for NP_812693.1\n",
      "No hits for NP_811544.1\n",
      "No hits for NP_811536.1\n",
      "No hits for NP_812703.1\n",
      "No hits for XP_328833.1\n",
      "No hits for XP_323071.1\n",
      "Sequence has been collected for 3.2.1.101....\n",
      "Feature has been extracted for 3.2.1.101....\n"
     ]
    },
    {
     "name": "stderr",
     "output_type": "stream",
     "text": [
      "c:\\users\\rakes\\appdata\\local\\programs\\python\\python38\\lib\\site-packages\\sklearn\\cluster\\_birch.py:647: ConvergenceWarning: Number of subclusters found (1) by Birch is less than (3). Decrease the threshold.\n",
      "  warnings.warn(\n"
     ]
    },
    {
     "name": "stdout",
     "output_type": "stream",
     "text": [
      "Clustering has been done for 3.2.1.101....\n",
      "No hits for NP_561245.1\n",
      "No hits for NP_346573.1\n",
      "Sequence has been collected for 3.2.1.102....\n",
      "Feature has been extracted for 3.2.1.102....\n"
     ]
    },
    {
     "name": "stderr",
     "output_type": "stream",
     "text": [
      "c:\\users\\rakes\\appdata\\local\\programs\\python\\python38\\lib\\site-packages\\sklearn\\cluster\\_birch.py:647: ConvergenceWarning: Number of subclusters found (1) by Birch is less than (3). Decrease the threshold.\n",
      "  warnings.warn(\n"
     ]
    },
    {
     "name": "stdout",
     "output_type": "stream",
     "text": [
      "Clustering has been done for 3.2.1.102....\n",
      "Sequence has been collected for 3.2.1.103....\n",
      "Feature has been extracted for 3.2.1.103....\n"
     ]
    },
    {
     "name": "stderr",
     "output_type": "stream",
     "text": [
      "c:\\users\\rakes\\appdata\\local\\programs\\python\\python38\\lib\\site-packages\\sklearn\\cluster\\_affinity_propagation.py:136: UserWarning: All samples have mutually equal similarities. Returning arbitrary cluster center(s).\n",
      "  warnings.warn(\"All samples have mutually equal similarities. \"\n"
     ]
    },
    {
     "name": "stdout",
     "output_type": "stream",
     "text": [
      "3.2.1.103 has 1 samples which is less than 5 min_samples \n",
      "Sequence has been collected for 3.2.1.104....\n",
      "Feature has been extracted for 3.2.1.104....\n"
     ]
    },
    {
     "name": "stderr",
     "output_type": "stream",
     "text": [
      "c:\\users\\rakes\\appdata\\local\\programs\\python\\python38\\lib\\site-packages\\sklearn\\cluster\\_affinity_propagation.py:136: UserWarning: All samples have mutually equal similarities. Returning arbitrary cluster center(s).\n",
      "  warnings.warn(\"All samples have mutually equal similarities. \"\n"
     ]
    },
    {
     "name": "stdout",
     "output_type": "stream",
     "text": [
      "3.2.1.104 has 1 samples which is less than 5 min_samples \n",
      "Sequence has been collected for 3.2.1.105....\n",
      "Feature has been extracted for 3.2.1.105....\n"
     ]
    },
    {
     "name": "stderr",
     "output_type": "stream",
     "text": [
      "c:\\users\\rakes\\appdata\\local\\programs\\python\\python38\\lib\\site-packages\\sklearn\\cluster\\_birch.py:647: ConvergenceWarning: Number of subclusters found (1) by Birch is less than (3). Decrease the threshold.\n",
      "  warnings.warn(\n"
     ]
    },
    {
     "name": "stdout",
     "output_type": "stream",
     "text": [
      "Clustering has been done for 3.2.1.105....\n",
      "No hits for NP_176916.1\n",
      "No hits for CAA92954.1\n",
      "No hits for NP_006293.1\n",
      "No hits for BAF07139.1\n",
      "No hits for NP_113937.1\n",
      "Sequence has been collected for 3.2.1.106....\n",
      "Feature has been extracted for 3.2.1.106....\n"
     ]
    },
    {
     "name": "stderr",
     "output_type": "stream",
     "text": [
      "c:\\users\\rakes\\appdata\\local\\programs\\python\\python38\\lib\\site-packages\\sklearn\\cluster\\_optics.py:803: RuntimeWarning: divide by zero encountered in true_divide\n",
      "  ratio = reachability_plot[:-1] / reachability_plot[1:]\n",
      "c:\\users\\rakes\\appdata\\local\\programs\\python\\python38\\lib\\site-packages\\sklearn\\cluster\\_birch.py:647: ConvergenceWarning: Number of subclusters found (1) by Birch is less than (3). Decrease the threshold.\n",
      "  warnings.warn(\n"
     ]
    },
    {
     "name": "stdout",
     "output_type": "stream",
     "text": [
      "Clustering has been done for 3.2.1.106....\n",
      "No hits for NP_079368.1\n",
      "Sequence has been collected for 3.2.1.107....\n",
      "Feature has been extracted for 3.2.1.107....\n"
     ]
    },
    {
     "name": "stderr",
     "output_type": "stream",
     "text": [
      "c:\\users\\rakes\\appdata\\local\\programs\\python\\python38\\lib\\site-packages\\sklearn\\cluster\\_birch.py:647: ConvergenceWarning: Number of subclusters found (1) by Birch is less than (3). Decrease the threshold.\n",
      "  warnings.warn(\n"
     ]
    },
    {
     "name": "stdout",
     "output_type": "stream",
     "text": [
      "Clustering has been done for 3.2.1.107....\n",
      "No hits for NP_002290.1\n",
      "Sequence has been collected for 3.2.1.108....\n",
      "Feature has been extracted for 3.2.1.108....\n"
     ]
    },
    {
     "name": "stderr",
     "output_type": "stream",
     "text": [
      "c:\\users\\rakes\\appdata\\local\\programs\\python\\python38\\lib\\site-packages\\sklearn\\cluster\\_birch.py:647: ConvergenceWarning: Number of subclusters found (1) by Birch is less than (3). Decrease the threshold.\n",
      "  warnings.warn(\n"
     ]
    },
    {
     "name": "stdout",
     "output_type": "stream",
     "text": [
      "Clustering has been done for 3.2.1.108....\n",
      "Sequence has been collected for 3.2.1.109....\n",
      "Feature has been extracted for 3.2.1.109....\n"
     ]
    },
    {
     "name": "stderr",
     "output_type": "stream",
     "text": [
      "c:\\users\\rakes\\appdata\\local\\programs\\python\\python38\\lib\\site-packages\\sklearn\\cluster\\_affinity_propagation.py:136: UserWarning: All samples have mutually equal similarities. Returning arbitrary cluster center(s).\n",
      "  warnings.warn(\"All samples have mutually equal similarities. \"\n"
     ]
    },
    {
     "name": "stdout",
     "output_type": "stream",
     "text": [
      "3.2.1.109 has 2 samples which is less than 5 min_samples \n",
      "No hits for NP_811105.1\n",
      "No hits for NP_346563.1\n",
      "No hits for NP_180377.1\n",
      "Sequence has been collected for 3.2.1.111....\n",
      "Feature has been extracted for 3.2.1.111....\n"
     ]
    },
    {
     "name": "stderr",
     "output_type": "stream",
     "text": [
      "c:\\users\\rakes\\appdata\\local\\programs\\python\\python38\\lib\\site-packages\\sklearn\\cluster\\_birch.py:647: ConvergenceWarning: Number of subclusters found (1) by Birch is less than (3). Decrease the threshold.\n",
      "  warnings.warn(\n"
     ]
    },
    {
     "name": "stdout",
     "output_type": "stream",
     "text": [
      "Clustering has been done for 3.2.1.111....\n",
      "No hits for ABE88173.1\n",
      "No hits for XP_003629280.1\n",
      "No hits for ABZ73160.1\n",
      "No hits for AAM14008.1\n",
      "No hits for AAG12868.1\n",
      "No hits for AAG12762.1\n",
      "No hits for AAG29692.1\n",
      "No hits for CBW48349.1\n",
      "No hits for NP_506006.1\n",
      "No hits for NP_501577.1\n",
      "No hits for ABB36773.2\n",
      "No hits for CAB50704.1\n",
      "No hits for CAI19713.1\n",
      "No hits for CAI19714.1\n",
      "No hits for CAB37989.1\n",
      "No hits for CAB75695.1\n",
      "No hits for CAB75695.2\n",
      "No hits for CAI20315.1\n",
      "No hits for CAC10451.1\n",
      "No hits for CAH71079.1\n",
      "No hits for CAH71080.1\n",
      "No hits for CAI22315.1\n",
      "No hits for CAI22316.1\n",
      "No hits for CAI22317.1\n",
      "No hits for CAI22318.1\n",
      "No hits for CAH72871.2\n",
      "No hits for CAH72887.1\n",
      "No hits for CAI12781.1\n",
      "No hits for NP_009161.1\n",
      "No hits for NP_057303.1\n",
      "No hits for CAI26211.1\n",
      "No hits for CAI26213.1\n",
      "No hits for CAI26214.1\n",
      "No hits for CAM19090.1\n",
      "No hits for CAM19091.1\n",
      "No hits for CAM22047.1\n",
      "No hits for XP_193956.3\n",
      "No hits for EDK02328.1\n",
      "No hits for XP_368250.1\n",
      "No hits for NP_012665.1\n",
      "No hits for NP_012074.1\n",
      "No hits for CAB86344.1\n",
      "No hits for CAC36930.1\n",
      "No hits for NP_812901.1\n",
      "No hits for NP_811112.1\n",
      "No hits for NP_812873.1\n",
      "No hits for NP_812695.1\n",
      "No hits for NP_811542.1\n",
      "No hits for NP_813003.1\n",
      "No hits for NP_815878.1\n",
      "No hits for NP_346562.1\n",
      "Sequence has been collected for 3.2.1.113....\n",
      "Feature has been extracted for 3.2.1.113....\n"
     ]
    },
    {
     "name": "stderr",
     "output_type": "stream",
     "text": [
      "c:\\users\\rakes\\appdata\\local\\programs\\python\\python38\\lib\\site-packages\\sklearn\\cluster\\_affinity_propagation.py:246: ConvergenceWarning: Affinity propagation did not converge, this model will not have any cluster centers.\n",
      "  warnings.warn(\"Affinity propagation did not converge, this model \"\n",
      "c:\\users\\rakes\\appdata\\local\\programs\\python\\python38\\lib\\site-packages\\sklearn\\cluster\\_optics.py:803: RuntimeWarning: divide by zero encountered in true_divide\n",
      "  ratio = reachability_plot[:-1] / reachability_plot[1:]\n",
      "c:\\users\\rakes\\appdata\\local\\programs\\python\\python38\\lib\\site-packages\\sklearn\\cluster\\_birch.py:647: ConvergenceWarning: Number of subclusters found (1) by Birch is less than (3). Decrease the threshold.\n",
      "  warnings.warn(\n"
     ]
    },
    {
     "name": "stdout",
     "output_type": "stream",
     "text": [
      "Clustering has been done for 3.2.1.113....\n",
      "No hits for CAB00104.1\n",
      "No hits for NP_505995.1\n",
      "No hits for AAF54376.1\n",
      "No hits for NP_002363.1\n",
      "No hits for NP_032575.1\n",
      "No hits for NP_766491.1\n",
      "Sequence has been collected for 3.2.1.114....\n",
      "Feature has been extracted for 3.2.1.114....\n"
     ]
    },
    {
     "name": "stderr",
     "output_type": "stream",
     "text": [
      "c:\\users\\rakes\\appdata\\local\\programs\\python\\python38\\lib\\site-packages\\sklearn\\cluster\\_optics.py:803: RuntimeWarning: divide by zero encountered in true_divide\n",
      "  ratio = reachability_plot[:-1] / reachability_plot[1:]\n",
      "c:\\users\\rakes\\appdata\\local\\programs\\python\\python38\\lib\\site-packages\\sklearn\\cluster\\_birch.py:647: ConvergenceWarning: Number of subclusters found (1) by Birch is less than (3). Decrease the threshold.\n",
      "  warnings.warn(\n"
     ]
    },
    {
     "name": "stdout",
     "output_type": "stream",
     "text": [
      "Clustering has been done for 3.2.1.114....\n",
      "Sequence has been collected for 3.2.1.116....\n",
      "Feature has been extracted for 3.2.1.116....\n"
     ]
    },
    {
     "name": "stderr",
     "output_type": "stream",
     "text": [
      "c:\\users\\rakes\\appdata\\local\\programs\\python\\python38\\lib\\site-packages\\sklearn\\cluster\\_affinity_propagation.py:136: UserWarning: All samples have mutually equal similarities. Returning arbitrary cluster center(s).\n",
      "  warnings.warn(\"All samples have mutually equal similarities. \"\n"
     ]
    },
    {
     "name": "stdout",
     "output_type": "stream",
     "text": [
      "3.2.1.116 has 2 samples which is less than 5 min_samples \n",
      "Sequence has been collected for 3.2.1.117....\n",
      "Feature has been extracted for 3.2.1.117....\n"
     ]
    },
    {
     "name": "stderr",
     "output_type": "stream",
     "text": [
      "c:\\users\\rakes\\appdata\\local\\programs\\python\\python38\\lib\\site-packages\\sklearn\\cluster\\_affinity_propagation.py:136: UserWarning: All samples have mutually equal similarities. Returning arbitrary cluster center(s).\n",
      "  warnings.warn(\"All samples have mutually equal similarities. \"\n",
      "c:\\users\\rakes\\appdata\\local\\programs\\python\\python38\\lib\\site-packages\\sklearn\\cluster\\_birch.py:647: ConvergenceWarning: Number of subclusters found (1) by Birch is less than (3). Decrease the threshold.\n",
      "  warnings.warn(\n"
     ]
    },
    {
     "name": "stdout",
     "output_type": "stream",
     "text": [
      "Clustering has been done for 3.2.1.117....\n",
      "Sequence has been collected for 3.2.1.118....\n",
      "Feature has been extracted for 3.2.1.118....\n"
     ]
    },
    {
     "name": "stderr",
     "output_type": "stream",
     "text": [
      "c:\\users\\rakes\\appdata\\local\\programs\\python\\python38\\lib\\site-packages\\sklearn\\cluster\\_birch.py:647: ConvergenceWarning: Number of subclusters found (1) by Birch is less than (3). Decrease the threshold.\n",
      "  warnings.warn(\n"
     ]
    },
    {
     "name": "stdout",
     "output_type": "stream",
     "text": [
      "Clustering has been done for 3.2.1.118....\n",
      "Sequence has been collected for 3.2.1.119....\n",
      "3.2.1.119 : doesnt have sequences\n",
      "Sequence has been collected for 3.2.1.120....\n",
      "Feature has been extracted for 3.2.1.120....\n"
     ]
    },
    {
     "name": "stderr",
     "output_type": "stream",
     "text": [
      "c:\\users\\rakes\\appdata\\local\\programs\\python\\python38\\lib\\site-packages\\sklearn\\cluster\\_affinity_propagation.py:136: UserWarning: All samples have mutually equal similarities. Returning arbitrary cluster center(s).\n",
      "  warnings.warn(\"All samples have mutually equal similarities. \"\n"
     ]
    },
    {
     "name": "stdout",
     "output_type": "stream",
     "text": [
      "3.2.1.120 has 2 samples which is less than 5 min_samples \n",
      "No hits for NP_347172.1\n",
      "No hits for NP_350016.1\n",
      "Sequence has been collected for 3.2.1.122....\n",
      "Feature has been extracted for 3.2.1.122....\n"
     ]
    },
    {
     "name": "stderr",
     "output_type": "stream",
     "text": [
      "c:\\users\\rakes\\appdata\\local\\programs\\python\\python38\\lib\\site-packages\\sklearn\\cluster\\_birch.py:647: ConvergenceWarning: Number of subclusters found (1) by Birch is less than (3). Decrease the threshold.\n",
      "  warnings.warn(\n"
     ]
    },
    {
     "name": "stdout",
     "output_type": "stream",
     "text": [
      "Clustering has been done for 3.2.1.122....\n",
      "Sequence has been collected for 3.2.1.123....\n",
      "Feature has been extracted for 3.2.1.123....\n"
     ]
    },
    {
     "name": "stderr",
     "output_type": "stream",
     "text": [
      "c:\\users\\rakes\\appdata\\local\\programs\\python\\python38\\lib\\site-packages\\sklearn\\cluster\\_birch.py:647: ConvergenceWarning: Number of subclusters found (1) by Birch is less than (3). Decrease the threshold.\n",
      "  warnings.warn(\n"
     ]
    },
    {
     "name": "stdout",
     "output_type": "stream",
     "text": [
      "Clustering has been done for 3.2.1.123....\n",
      "No hits for NP_809926.1\n",
      "No hits for NP_207375.1\n",
      "Sequence has been collected for 3.2.1.124....\n",
      "Feature has been extracted for 3.2.1.124....\n"
     ]
    },
    {
     "name": "stderr",
     "output_type": "stream",
     "text": [
      "c:\\users\\rakes\\appdata\\local\\programs\\python\\python38\\lib\\site-packages\\sklearn\\cluster\\_birch.py:647: ConvergenceWarning: Number of subclusters found (1) by Birch is less than (3). Decrease the threshold.\n",
      "  warnings.warn(\n"
     ]
    },
    {
     "name": "stdout",
     "output_type": "stream",
     "text": [
      "Clustering has been done for 3.2.1.124....\n",
      "Sequence has been collected for 3.2.1.125....\n",
      "Feature has been extracted for 3.2.1.125....\n"
     ]
    },
    {
     "name": "stderr",
     "output_type": "stream",
     "text": [
      "c:\\users\\rakes\\appdata\\local\\programs\\python\\python38\\lib\\site-packages\\sklearn\\cluster\\_affinity_propagation.py:136: UserWarning: All samples have mutually equal similarities. Returning arbitrary cluster center(s).\n",
      "  warnings.warn(\"All samples have mutually equal similarities. \"\n"
     ]
    },
    {
     "name": "stdout",
     "output_type": "stream",
     "text": [
      "3.2.1.125 has 1 samples which is less than 5 min_samples \n",
      "Sequence has been collected for 3.2.1.127....\n",
      "Feature has been extracted for 3.2.1.127....\n"
     ]
    },
    {
     "name": "stderr",
     "output_type": "stream",
     "text": [
      "c:\\users\\rakes\\appdata\\local\\programs\\python\\python38\\lib\\site-packages\\sklearn\\cluster\\_affinity_propagation.py:136: UserWarning: All samples have mutually equal similarities. Returning arbitrary cluster center(s).\n",
      "  warnings.warn(\"All samples have mutually equal similarities. \"\n"
     ]
    },
    {
     "name": "stdout",
     "output_type": "stream",
     "text": [
      "3.2.1.127 has 2 samples which is less than 5 min_samples \n",
      "Sequence has been collected for 3.2.1.128....\n",
      "Feature has been extracted for 3.2.1.128....\n"
     ]
    },
    {
     "name": "stderr",
     "output_type": "stream",
     "text": [
      "c:\\users\\rakes\\appdata\\local\\programs\\python\\python38\\lib\\site-packages\\sklearn\\cluster\\_affinity_propagation.py:136: UserWarning: All samples have mutually equal similarities. Returning arbitrary cluster center(s).\n",
      "  warnings.warn(\"All samples have mutually equal similarities. \"\n",
      "c:\\users\\rakes\\appdata\\local\\programs\\python\\python38\\lib\\site-packages\\scipy\\sparse\\linalg\\eigen\\arpack\\arpack.py:1593: RuntimeWarning: k >= N for N * N square matrix. Attempting to use scipy.linalg.eigh instead.\n",
      "  warnings.warn(\"k >= N for N * N square matrix. \"\n"
     ]
    },
    {
     "name": "stdout",
     "output_type": "stream",
     "text": [
      "3.2.1.128 has 2 samples which is less than 5 min_samples \n",
      "Sequence has been collected for 3.2.1.129....\n",
      "Feature has been extracted for 3.2.1.129....\n"
     ]
    },
    {
     "name": "stderr",
     "output_type": "stream",
     "text": [
      "c:\\users\\rakes\\appdata\\local\\programs\\python\\python38\\lib\\site-packages\\sklearn\\cluster\\_birch.py:647: ConvergenceWarning: Number of subclusters found (1) by Birch is less than (3). Decrease the threshold.\n",
      "  warnings.warn(\n"
     ]
    },
    {
     "name": "stdout",
     "output_type": "stream",
     "text": [
      "Clustering has been done for 3.2.1.129....\n",
      "No hits for CAI17346.1\n",
      "No hits for CAI17347.1\n",
      "No hits for NP_542963.1\n",
      "No hits for XP_346734.1\n",
      "Sequence has been collected for 3.2.1.130....\n",
      "Feature has been extracted for 3.2.1.130....\n"
     ]
    },
    {
     "name": "stderr",
     "output_type": "stream",
     "text": [
      "c:\\users\\rakes\\appdata\\local\\programs\\python\\python38\\lib\\site-packages\\sklearn\\cluster\\_birch.py:647: ConvergenceWarning: Number of subclusters found (1) by Birch is less than (3). Decrease the threshold.\n",
      "  warnings.warn(\n"
     ]
    },
    {
     "name": "stdout",
     "output_type": "stream",
     "text": [
      "Clustering has been done for 3.2.1.130....\n",
      "No hits for AAC98128.2\n",
      "No hits for ZP_08159559.1\n",
      "Sequence has been collected for 3.2.1.131....\n",
      "Feature has been extracted for 3.2.1.131....\n"
     ]
    },
    {
     "name": "stderr",
     "output_type": "stream",
     "text": [
      "c:\\users\\rakes\\appdata\\local\\programs\\python\\python38\\lib\\site-packages\\sklearn\\cluster\\_birch.py:647: ConvergenceWarning: Number of subclusters found (1) by Birch is less than (3). Decrease the threshold.\n",
      "  warnings.warn(\n"
     ]
    },
    {
     "name": "stdout",
     "output_type": "stream",
     "text": [
      "Clustering has been done for 3.2.1.131....\n",
      "No hits for NP_832437.1\n",
      "No hits for NP_624986.1\n",
      "No hits for NP_823026.1\n",
      "Sequence has been collected for 3.2.1.132....\n",
      "Feature has been extracted for 3.2.1.132....\n"
     ]
    },
    {
     "name": "stderr",
     "output_type": "stream",
     "text": [
      "c:\\users\\rakes\\appdata\\local\\programs\\python\\python38\\lib\\site-packages\\sklearn\\cluster\\_optics.py:803: RuntimeWarning: divide by zero encountered in true_divide\n",
      "  ratio = reachability_plot[:-1] / reachability_plot[1:]\n",
      "c:\\users\\rakes\\appdata\\local\\programs\\python\\python38\\lib\\site-packages\\sklearn\\cluster\\_birch.py:647: ConvergenceWarning: Number of subclusters found (1) by Birch is less than (3). Decrease the threshold.\n",
      "  warnings.warn(\n"
     ]
    },
    {
     "name": "stdout",
     "output_type": "stream",
     "text": [
      "Clustering has been done for 3.2.1.132....\n",
      "No hits for NP_110736.1\n",
      "No hits for ZP_00047084.1\n",
      "No hits for NP_578599.1\n",
      "Sequence has been collected for 3.2.1.133....\n",
      "Feature has been extracted for 3.2.1.133....\n"
     ]
    },
    {
     "name": "stderr",
     "output_type": "stream",
     "text": [
      "c:\\users\\rakes\\appdata\\local\\programs\\python\\python38\\lib\\site-packages\\sklearn\\cluster\\_birch.py:647: ConvergenceWarning: Number of subclusters found (1) by Birch is less than (3). Decrease the threshold.\n",
      "  warnings.warn(\n"
     ]
    },
    {
     "name": "stdout",
     "output_type": "stream",
     "text": [
      "Clustering has been done for 3.2.1.133....\n",
      "No hits for NP_812615.1\n",
      "Sequence has been collected for 3.2.1.135....\n",
      "Feature has been extracted for 3.2.1.135....\n"
     ]
    },
    {
     "name": "stderr",
     "output_type": "stream",
     "text": [
      "c:\\users\\rakes\\appdata\\local\\programs\\python\\python38\\lib\\site-packages\\sklearn\\cluster\\_birch.py:647: ConvergenceWarning: Number of subclusters found (1) by Birch is less than (3). Decrease the threshold.\n",
      "  warnings.warn(\n"
     ]
    },
    {
     "name": "stdout",
     "output_type": "stream",
     "text": [
      "Clustering has been done for 3.2.1.135....\n",
      "Sequence has been collected for 3.2.1.136....\n",
      "Feature has been extracted for 3.2.1.136....\n",
      "3.2.1.136 has 3 samples which is less than 5 min_samples \n",
      "No hits for NP_228244.1\n",
      "No hits for NP_228561.1\n",
      "Sequence has been collected for 3.2.1.139....\n",
      "Feature has been extracted for 3.2.1.139....\n"
     ]
    },
    {
     "name": "stderr",
     "output_type": "stream",
     "text": [
      "c:\\users\\rakes\\appdata\\local\\programs\\python\\python38\\lib\\site-packages\\sklearn\\cluster\\_birch.py:647: ConvergenceWarning: Number of subclusters found (1) by Birch is less than (3). Decrease the threshold.\n",
      "  warnings.warn(\n"
     ]
    },
    {
     "name": "stdout",
     "output_type": "stream",
     "text": [
      "Clustering has been done for 3.2.1.139....\n",
      "Sequence has been collected for 3.2.1.140....\n",
      "Feature has been extracted for 3.2.1.140....\n"
     ]
    },
    {
     "name": "stderr",
     "output_type": "stream",
     "text": [
      "c:\\users\\rakes\\appdata\\local\\programs\\python\\python38\\lib\\site-packages\\sklearn\\cluster\\_birch.py:647: ConvergenceWarning: Number of subclusters found (1) by Birch is less than (3). Decrease the threshold.\n",
      "  warnings.warn(\n"
     ]
    },
    {
     "name": "stdout",
     "output_type": "stream",
     "text": [
      "Clustering has been done for 3.2.1.140....\n",
      "No hits for CAC23737.1\n",
      "No hits for NP_343482.1\n",
      "No hits for NP_601327.2\n",
      "No hits for NP_294187.1\n",
      "Sequence has been collected for 3.2.1.141....\n",
      "Feature has been extracted for 3.2.1.141....\n"
     ]
    },
    {
     "name": "stderr",
     "output_type": "stream",
     "text": [
      "c:\\users\\rakes\\appdata\\local\\programs\\python\\python38\\lib\\site-packages\\sklearn\\cluster\\_birch.py:647: ConvergenceWarning: Number of subclusters found (1) by Birch is less than (3). Decrease the threshold.\n",
      "  warnings.warn(\n"
     ]
    },
    {
     "name": "stdout",
     "output_type": "stream",
     "text": [
      "Clustering has been done for 3.2.1.141....\n",
      "No hits for NP_809178.1\n",
      "No hits for NP_823285.1\n",
      "Sequence has been collected for 3.2.1.145....\n",
      "Feature has been extracted for 3.2.1.145....\n"
     ]
    },
    {
     "name": "stderr",
     "output_type": "stream",
     "text": [
      "c:\\users\\rakes\\appdata\\local\\programs\\python\\python38\\lib\\site-packages\\sklearn\\cluster\\_birch.py:647: ConvergenceWarning: Number of subclusters found (1) by Birch is less than (3). Decrease the threshold.\n",
      "  warnings.warn(\n"
     ]
    },
    {
     "name": "stdout",
     "output_type": "stream",
     "text": [
      "Clustering has been done for 3.2.1.145....\n",
      "No hits for CAB08388.1\n",
      "Sequence has been collected for 3.2.1.146....\n",
      "Feature has been extracted for 3.2.1.146....\n"
     ]
    },
    {
     "name": "stderr",
     "output_type": "stream",
     "text": [
      "c:\\users\\rakes\\appdata\\local\\programs\\python\\python38\\lib\\site-packages\\sklearn\\cluster\\_birch.py:647: ConvergenceWarning: Number of subclusters found (1) by Birch is less than (3). Decrease the threshold.\n",
      "  warnings.warn(\n"
     ]
    },
    {
     "name": "stdout",
     "output_type": "stream",
     "text": [
      "Clustering has been done for 3.2.1.146....\n",
      "No hits for NP_197972.1\n",
      "No hits for AAG12767.1\n",
      "No hits for NP_175558.1\n",
      "No hits for AEZ01595.1\n",
      "Sequence has been collected for 3.2.1.147....\n",
      "Feature has been extracted for 3.2.1.147....\n"
     ]
    },
    {
     "name": "stderr",
     "output_type": "stream",
     "text": [
      "c:\\users\\rakes\\appdata\\local\\programs\\python\\python38\\lib\\site-packages\\sklearn\\cluster\\_optics.py:803: RuntimeWarning: divide by zero encountered in true_divide\n",
      "  ratio = reachability_plot[:-1] / reachability_plot[1:]\n",
      "c:\\users\\rakes\\appdata\\local\\programs\\python\\python38\\lib\\site-packages\\sklearn\\cluster\\_birch.py:647: ConvergenceWarning: Number of subclusters found (1) by Birch is less than (3). Decrease the threshold.\n",
      "  warnings.warn(\n"
     ]
    },
    {
     "name": "stdout",
     "output_type": "stream",
     "text": [
      "Clustering has been done for 3.2.1.147....\n",
      "No hits for AAS83105.1\n",
      "No hits for ADV40931.1\n",
      "No hits for CAK97604.1\n",
      "Sequence has been collected for 3.2.1.149....\n",
      "Feature has been extracted for 3.2.1.149....\n"
     ]
    },
    {
     "name": "stderr",
     "output_type": "stream",
     "text": [
      "c:\\users\\rakes\\appdata\\local\\programs\\python\\python38\\lib\\site-packages\\sklearn\\cluster\\_birch.py:647: ConvergenceWarning: Number of subclusters found (1) by Birch is less than (3). Decrease the threshold.\n",
      "  warnings.warn(\n"
     ]
    },
    {
     "name": "stdout",
     "output_type": "stream",
     "text": [
      "Clustering has been done for 3.2.1.149....\n",
      "Sequence has been collected for 3.2.1.150....\n",
      "Feature has been extracted for 3.2.1.150....\n",
      "3.2.1.150 has 3 samples which is less than 5 min_samples \n",
      "No hits for NP_642837.1\n",
      "No hits for XP_386027.1\n",
      "No hits for XP_361895.1\n",
      "No hits for NP_823032.1\n",
      "No hits for NP_823750.1\n",
      "No hits for NP_630626.1\n",
      "No hits for AAZ55647.1\n",
      "No hits for ZP_00056977.1\n",
      "No hits for NP_637119.1\n",
      "No hits for NP_642098.1\n",
      "Sequence has been collected for 3.2.1.151....\n",
      "Feature has been extracted for 3.2.1.151....\n"
     ]
    },
    {
     "name": "stderr",
     "output_type": "stream",
     "text": [
      "c:\\users\\rakes\\appdata\\local\\programs\\python\\python38\\lib\\site-packages\\sklearn\\cluster\\_optics.py:803: RuntimeWarning: divide by zero encountered in true_divide\n",
      "  ratio = reachability_plot[:-1] / reachability_plot[1:]\n",
      "c:\\users\\rakes\\appdata\\local\\programs\\python\\python38\\lib\\site-packages\\sklearn\\cluster\\_birch.py:647: ConvergenceWarning: Number of subclusters found (1) by Birch is less than (3). Decrease the threshold.\n",
      "  warnings.warn(\n"
     ]
    },
    {
     "name": "stdout",
     "output_type": "stream",
     "text": [
      "Clustering has been done for 3.2.1.151....\n",
      "No hits for AAK76608.1\n",
      "No hits for AAM14288.1\n",
      "No hits for NP_172375.1\n",
      "No hits for NP_563833.1\n",
      "No hits for BAD89079.1\n",
      "Sequence has been collected for 3.2.1.152....\n",
      "Feature has been extracted for 3.2.1.152....\n"
     ]
    },
    {
     "name": "stderr",
     "output_type": "stream",
     "text": [
      "c:\\users\\rakes\\appdata\\local\\programs\\python\\python38\\lib\\site-packages\\sklearn\\cluster\\_birch.py:647: ConvergenceWarning: Number of subclusters found (1) by Birch is less than (3). Decrease the threshold.\n",
      "  warnings.warn(\n"
     ]
    },
    {
     "name": "stdout",
     "output_type": "stream",
     "text": [
      "Clustering has been done for 3.2.1.152....\n",
      "No hits for AAY81958.1\n",
      "Sequence has been collected for 3.2.1.153....\n",
      "Feature has been extracted for 3.2.1.153....\n"
     ]
    },
    {
     "name": "stderr",
     "output_type": "stream",
     "text": [
      "c:\\users\\rakes\\appdata\\local\\programs\\python\\python38\\lib\\site-packages\\sklearn\\cluster\\_birch.py:647: ConvergenceWarning: Number of subclusters found (1) by Birch is less than (3). Decrease the threshold.\n",
      "  warnings.warn(\n"
     ]
    },
    {
     "name": "stdout",
     "output_type": "stream",
     "text": [
      "Clustering has been done for 3.2.1.153....\n",
      "Sequence has been collected for 3.2.1.154....\n",
      "Feature has been extracted for 3.2.1.154....\n",
      "3.2.1.154 has 3 samples which is less than 5 min_samples \n",
      "No hits for NP_242971.1\n",
      "No hits for NP_644548.1\n",
      "Sequence has been collected for 3.2.1.156....\n",
      "Feature has been extracted for 3.2.1.156....\n"
     ]
    },
    {
     "name": "stderr",
     "output_type": "stream",
     "text": [
      "c:\\users\\rakes\\appdata\\local\\programs\\python\\python38\\lib\\site-packages\\sklearn\\cluster\\_birch.py:647: ConvergenceWarning: Number of subclusters found (1) by Birch is less than (3). Decrease the threshold.\n",
      "  warnings.warn(\n"
     ]
    },
    {
     "name": "stdout",
     "output_type": "stream",
     "text": [
      "Clustering has been done for 3.2.1.156....\n",
      "Sequence has been collected for 3.2.1.157....\n",
      "Feature has been extracted for 3.2.1.157....\n"
     ]
    },
    {
     "name": "stderr",
     "output_type": "stream",
     "text": [
      "c:\\users\\rakes\\appdata\\local\\programs\\python\\python38\\lib\\site-packages\\sklearn\\cluster\\_birch.py:647: ConvergenceWarning: Number of subclusters found (1) by Birch is less than (3). Decrease the threshold.\n",
      "  warnings.warn(\n"
     ]
    },
    {
     "name": "stdout",
     "output_type": "stream",
     "text": [
      "Clustering has been done for 3.2.1.157....\n",
      "Sequence has been collected for 3.2.1.158....\n",
      "Feature has been extracted for 3.2.1.158....\n",
      "3.2.1.158 has 3 samples which is less than 5 min_samples \n",
      "No hits for BAQ55620.2\n",
      "No hits for NP_627684.1\n",
      "Sequence has been collected for 3.2.1.159....\n",
      "Feature has been extracted for 3.2.1.159....\n"
     ]
    },
    {
     "name": "stderr",
     "output_type": "stream",
     "text": [
      "c:\\users\\rakes\\appdata\\local\\programs\\python\\python38\\lib\\site-packages\\sklearn\\cluster\\_birch.py:647: ConvergenceWarning: Number of subclusters found (1) by Birch is less than (3). Decrease the threshold.\n",
      "  warnings.warn(\n"
     ]
    },
    {
     "name": "stdout",
     "output_type": "stream",
     "text": [
      "Clustering has been done for 3.2.1.159....\n",
      "Sequence has been collected for 3.2.1.161....\n",
      "Feature has been extracted for 3.2.1.161....\n"
     ]
    },
    {
     "name": "stderr",
     "output_type": "stream",
     "text": [
      "c:\\users\\rakes\\appdata\\local\\programs\\python\\python38\\lib\\site-packages\\sklearn\\cluster\\_affinity_propagation.py:136: UserWarning: All samples have mutually equal similarities. Returning arbitrary cluster center(s).\n",
      "  warnings.warn(\"All samples have mutually equal similarities. \"\n"
     ]
    },
    {
     "name": "stdout",
     "output_type": "stream",
     "text": [
      "3.2.1.161 has 1 samples which is less than 5 min_samples \n",
      "Sequence has been collected for 3.2.1.162....\n",
      "Feature has been extracted for 3.2.1.162....\n"
     ]
    },
    {
     "name": "stderr",
     "output_type": "stream",
     "text": [
      "c:\\users\\rakes\\appdata\\local\\programs\\python\\python38\\lib\\site-packages\\sklearn\\cluster\\_affinity_propagation.py:136: UserWarning: All samples have mutually equal similarities. Returning arbitrary cluster center(s).\n",
      "  warnings.warn(\"All samples have mutually equal similarities. \"\n"
     ]
    },
    {
     "name": "stdout",
     "output_type": "stream",
     "text": [
      "3.2.1.162 has 2 samples which is less than 5 min_samples \n",
      "No hits for BAA76779.1\n",
      "No hits for XP_052620.6\n",
      "Sequence has been collected for 3.2.1.163....\n",
      "Feature has been extracted for 3.2.1.163....\n"
     ]
    },
    {
     "name": "stderr",
     "output_type": "stream",
     "text": [
      "c:\\users\\rakes\\appdata\\local\\programs\\python\\python38\\lib\\site-packages\\sklearn\\cluster\\_birch.py:647: ConvergenceWarning: Number of subclusters found (1) by Birch is less than (3). Decrease the threshold.\n",
      "  warnings.warn(\n"
     ]
    },
    {
     "name": "stdout",
     "output_type": "stream",
     "text": [
      "Clustering has been done for 3.2.1.163....\n",
      "No hits for NP_826382.1\n",
      "No hits for XP_330352.1\n",
      "Sequence has been collected for 3.2.1.164....\n",
      "Feature has been extracted for 3.2.1.164....\n"
     ]
    },
    {
     "name": "stderr",
     "output_type": "stream",
     "text": [
      "c:\\users\\rakes\\appdata\\local\\programs\\python\\python38\\lib\\site-packages\\sklearn\\cluster\\_birch.py:647: ConvergenceWarning: Number of subclusters found (1) by Birch is less than (3). Decrease the threshold.\n",
      "  warnings.warn(\n"
     ]
    },
    {
     "name": "stdout",
     "output_type": "stream",
     "text": [
      "Clustering has been done for 3.2.1.164....\n",
      "No hits for AAX62629.1\n",
      "No hits for NP_822398.1\n",
      "No hits for NP_142480.1\n",
      "Sequence has been collected for 3.2.1.165....\n",
      "Feature has been extracted for 3.2.1.165....\n"
     ]
    },
    {
     "name": "stderr",
     "output_type": "stream",
     "text": [
      "c:\\users\\rakes\\appdata\\local\\programs\\python\\python38\\lib\\site-packages\\sklearn\\cluster\\_birch.py:647: ConvergenceWarning: Number of subclusters found (1) by Birch is less than (3). Decrease the threshold.\n",
      "  warnings.warn(\n"
     ]
    },
    {
     "name": "stdout",
     "output_type": "stream",
     "text": [
      "Clustering has been done for 3.2.1.165....\n",
      "No hits for CAK05012.1\n",
      "No hits for NP_006656.1\n",
      "Sequence has been collected for 3.2.1.166....\n",
      "Feature has been extracted for 3.2.1.166....\n"
     ]
    },
    {
     "name": "stderr",
     "output_type": "stream",
     "text": [
      "c:\\users\\rakes\\appdata\\local\\programs\\python\\python38\\lib\\site-packages\\sklearn\\cluster\\_optics.py:803: RuntimeWarning: divide by zero encountered in true_divide\n",
      "  ratio = reachability_plot[:-1] / reachability_plot[1:]\n",
      "c:\\users\\rakes\\appdata\\local\\programs\\python\\python38\\lib\\site-packages\\sklearn\\cluster\\_birch.py:647: ConvergenceWarning: Number of subclusters found (1) by Birch is less than (3). Decrease the threshold.\n",
      "  warnings.warn(\n"
     ]
    },
    {
     "name": "stdout",
     "output_type": "stream",
     "text": [
      "Clustering has been done for 3.2.1.166....\n",
      "Sequence has been collected for 3.2.1.167....\n",
      "Feature has been extracted for 3.2.1.167....\n",
      "3.2.1.167 has 2 samples which is less than 5 min_samples \n",
      "Sequence has been collected for 3.2.1.168...."
     ]
    },
    {
     "name": "stderr",
     "output_type": "stream",
     "text": [
      "c:\\users\\rakes\\appdata\\local\\programs\\python\\python38\\lib\\site-packages\\sklearn\\cluster\\_affinity_propagation.py:136: UserWarning: All samples have mutually equal similarities. Returning arbitrary cluster center(s).\n",
      "  warnings.warn(\"All samples have mutually equal similarities. \"\n"
     ]
    },
    {
     "name": "stdout",
     "output_type": "stream",
     "text": [
      "\n",
      "Feature has been extracted for 3.2.1.168....\n"
     ]
    },
    {
     "name": "stderr",
     "output_type": "stream",
     "text": [
      "c:\\users\\rakes\\appdata\\local\\programs\\python\\python38\\lib\\site-packages\\sklearn\\cluster\\_affinity_propagation.py:136: UserWarning: All samples have mutually equal similarities. Returning arbitrary cluster center(s).\n",
      "  warnings.warn(\"All samples have mutually equal similarities. \"\n",
      "c:\\users\\rakes\\appdata\\local\\programs\\python\\python38\\lib\\site-packages\\scipy\\sparse\\linalg\\eigen\\arpack\\arpack.py:1593: RuntimeWarning: k >= N for N * N square matrix. Attempting to use scipy.linalg.eigh instead.\n",
      "  warnings.warn(\"k >= N for N * N square matrix. \"\n"
     ]
    },
    {
     "name": "stdout",
     "output_type": "stream",
     "text": [
      "3.2.1.168 has 2 samples which is less than 5 min_samples \n",
      "No hits for NP_813306.1\n",
      "No hits for NP_269657.1\n",
      "No hits for BAA31654.2\n",
      "Sequence has been collected for 3.2.1.169....\n",
      "Feature has been extracted for 3.2.1.169....\n"
     ]
    },
    {
     "name": "stderr",
     "output_type": "stream",
     "text": [
      "c:\\users\\rakes\\appdata\\local\\programs\\python\\python38\\lib\\site-packages\\sklearn\\cluster\\_birch.py:647: ConvergenceWarning: Number of subclusters found (1) by Birch is less than (3). Decrease the threshold.\n",
      "  warnings.warn(\n"
     ]
    },
    {
     "name": "stdout",
     "output_type": "stream",
     "text": [
      "Clustering has been done for 3.2.1.169....\n",
      "Sequence has been collected for 3.2.1.170....\n",
      "Feature has been extracted for 3.2.1.170....\n"
     ]
    },
    {
     "name": "stderr",
     "output_type": "stream",
     "text": [
      "c:\\users\\rakes\\appdata\\local\\programs\\python\\python38\\lib\\site-packages\\sklearn\\cluster\\_birch.py:647: ConvergenceWarning: Number of subclusters found (1) by Birch is less than (3). Decrease the threshold.\n",
      "  warnings.warn(\n"
     ]
    },
    {
     "name": "stdout",
     "output_type": "stream",
     "text": [
      "Clustering has been done for 3.2.1.170....\n",
      "Sequence has been collected for 3.2.1.171....\n",
      "Feature has been extracted for 3.2.1.171....\n"
     ]
    },
    {
     "name": "stderr",
     "output_type": "stream",
     "text": [
      "c:\\users\\rakes\\appdata\\local\\programs\\python\\python38\\lib\\site-packages\\sklearn\\cluster\\_birch.py:647: ConvergenceWarning: Number of subclusters found (1) by Birch is less than (3). Decrease the threshold.\n",
      "  warnings.warn(\n"
     ]
    },
    {
     "name": "stdout",
     "output_type": "stream",
     "text": [
      "Clustering has been done for 3.2.1.171....\n",
      "No hits for CAB14990.1\n",
      "No hits for NP_813087.1\n",
      "Sequence has been collected for 3.2.1.172....\n",
      "Feature has been extracted for 3.2.1.172....\n"
     ]
    },
    {
     "name": "stderr",
     "output_type": "stream",
     "text": [
      "c:\\users\\rakes\\appdata\\local\\programs\\python\\python38\\lib\\site-packages\\sklearn\\cluster\\_optics.py:803: RuntimeWarning: divide by zero encountered in true_divide\n",
      "  ratio = reachability_plot[:-1] / reachability_plot[1:]\n",
      "c:\\users\\rakes\\appdata\\local\\programs\\python\\python38\\lib\\site-packages\\sklearn\\cluster\\_birch.py:647: ConvergenceWarning: Number of subclusters found (1) by Birch is less than (3). Decrease the threshold.\n",
      "  warnings.warn(\n"
     ]
    },
    {
     "name": "stdout",
     "output_type": "stream",
     "text": [
      "Clustering has been done for 3.2.1.172....\n",
      "No hits for NP_813057.1\n",
      "No hits for NP_813064.1\n",
      "Sequence has been collected for 3.2.1.173....\n",
      "Feature has been extracted for 3.2.1.173....\n",
      "3.2.1.173 has 3 samples which is less than 5 min_samples \n",
      "Sequence has been collected for 3.2.1.174....\n",
      "Feature has been extracted for 3.2.1.174....\n",
      "3.2.1.174 has 3 samples which is less than 5 min_samples \n",
      "Sequence has been collected for 3.2.1.175....\n",
      "Feature has been extracted for 3.2.1.175....\n"
     ]
    },
    {
     "name": "stderr",
     "output_type": "stream",
     "text": [
      "c:\\users\\rakes\\appdata\\local\\programs\\python\\python38\\lib\\site-packages\\sklearn\\cluster\\_birch.py:647: ConvergenceWarning: Number of subclusters found (1) by Birch is less than (3). Decrease the threshold.\n",
      "  warnings.warn(\n"
     ]
    },
    {
     "name": "stdout",
     "output_type": "stream",
     "text": [
      "Clustering has been done for 3.2.1.175....\n",
      "No hits for XP_327626.1\n",
      "No hits for XP_367082.1\n",
      "No hits for AAC38571.2\n",
      "No hits for AAZ55992.1\n",
      "Sequence has been collected for 3.2.1.176....\n",
      "Feature has been extracted for 3.2.1.176....\n"
     ]
    },
    {
     "name": "stderr",
     "output_type": "stream",
     "text": [
      "c:\\users\\rakes\\appdata\\local\\programs\\python\\python38\\lib\\site-packages\\sklearn\\cluster\\_birch.py:647: ConvergenceWarning: Number of subclusters found (1) by Birch is less than (3). Decrease the threshold.\n",
      "  warnings.warn(\n"
     ]
    },
    {
     "name": "stdout",
     "output_type": "stream",
     "text": [
      "Clustering has been done for 3.2.1.176....\n",
      "No hits for CAC24044.1\n",
      "No hits for NP_344333.1\n",
      "No hits for NP_642101.1\n",
      "Sequence has been collected for 3.2.1.177....\n",
      "Feature has been extracted for 3.2.1.177....\n"
     ]
    },
    {
     "name": "stderr",
     "output_type": "stream",
     "text": [
      "c:\\users\\rakes\\appdata\\local\\programs\\python\\python38\\lib\\site-packages\\sklearn\\cluster\\_optics.py:803: RuntimeWarning: divide by zero encountered in true_divide\n",
      "  ratio = reachability_plot[:-1] / reachability_plot[1:]\n",
      "c:\\users\\rakes\\appdata\\local\\programs\\python\\python38\\lib\\site-packages\\sklearn\\cluster\\_birch.py:647: ConvergenceWarning: Number of subclusters found (1) by Birch is less than (3). Decrease the threshold.\n",
      "  warnings.warn(\n"
     ]
    },
    {
     "name": "stdout",
     "output_type": "stream",
     "text": [
      "Clustering has been done for 3.2.1.177....\n",
      "Sequence has been collected for 3.2.1.178....\n",
      "Feature has been extracted for 3.2.1.178....\n"
     ]
    },
    {
     "name": "stderr",
     "output_type": "stream",
     "text": [
      "c:\\users\\rakes\\appdata\\local\\programs\\python\\python38\\lib\\site-packages\\sklearn\\cluster\\_birch.py:647: ConvergenceWarning: Number of subclusters found (1) by Birch is less than (3). Decrease the threshold.\n",
      "  warnings.warn(\n"
     ]
    },
    {
     "name": "stdout",
     "output_type": "stream",
     "text": [
      "Clustering has been done for 3.2.1.178....\n",
      "Sequence has been collected for 3.2.1.179....\n",
      "Feature has been extracted for 3.2.1.179....\n"
     ]
    },
    {
     "name": "stderr",
     "output_type": "stream",
     "text": [
      "c:\\users\\rakes\\appdata\\local\\programs\\python\\python38\\lib\\site-packages\\sklearn\\cluster\\_affinity_propagation.py:136: UserWarning: All samples have mutually equal similarities. Returning arbitrary cluster center(s).\n",
      "  warnings.warn(\"All samples have mutually equal similarities. \"\n"
     ]
    },
    {
     "name": "stdout",
     "output_type": "stream",
     "text": [
      "3.2.1.179 has 1 samples which is less than 5 min_samples \n",
      "No hits for NP_736323.1\n",
      "No hits for NP_357886.1\n",
      "No hits for NP_268879.1\n",
      "Sequence has been collected for 3.2.1.180....\n",
      "Feature has been extracted for 3.2.1.180....\n",
      "3.2.1.180 has 3 samples which is less than 5 min_samples \n",
      "No hits for EED49498.1\n",
      "Sequence has been collected for 3.2.1.181....\n",
      "Feature has been extracted for 3.2.1.181....\n",
      "3.2.1.181 has 4 samples which is less than 5 min_samples \n",
      "No hits for NP_809909.1\n",
      "Sequence has been collected for 3.2.1.185....\n",
      "Feature has been extracted for 3.2.1.185....\n"
     ]
    },
    {
     "name": "stderr",
     "output_type": "stream",
     "text": [
      "c:\\users\\rakes\\appdata\\local\\programs\\python\\python38\\lib\\site-packages\\sklearn\\cluster\\_birch.py:647: ConvergenceWarning: Number of subclusters found (1) by Birch is less than (3). Decrease the threshold.\n",
      "  warnings.warn(\n"
     ]
    },
    {
     "name": "stdout",
     "output_type": "stream",
     "text": [
      "Clustering has been done for 3.2.1.185....\n",
      "Sequence has been collected for 3.2.1.186....\n",
      "Feature has been extracted for 3.2.1.186....\n"
     ]
    },
    {
     "name": "stderr",
     "output_type": "stream",
     "text": [
      "c:\\users\\rakes\\appdata\\local\\programs\\python\\python38\\lib\\site-packages\\sklearn\\cluster\\_affinity_propagation.py:136: UserWarning: All samples have mutually equal similarities. Returning arbitrary cluster center(s).\n",
      "  warnings.warn(\"All samples have mutually equal similarities. \"\n"
     ]
    },
    {
     "name": "stdout",
     "output_type": "stream",
     "text": [
      "3.2.1.186 has 2 samples which is less than 5 min_samples \n",
      "Sequence has been collected for 3.2.1.187....\n",
      "Feature has been extracted for 3.2.1.187....\n"
     ]
    },
    {
     "name": "stderr",
     "output_type": "stream",
     "text": [
      "c:\\users\\rakes\\appdata\\local\\programs\\python\\python38\\lib\\site-packages\\sklearn\\cluster\\_affinity_propagation.py:136: UserWarning: All samples have mutually equal similarities. Returning arbitrary cluster center(s).\n",
      "  warnings.warn(\"All samples have mutually equal similarities. \"\n"
     ]
    },
    {
     "name": "stdout",
     "output_type": "stream",
     "text": [
      "3.2.1.187 has 2 samples which is less than 5 min_samples \n",
      "No hits for S50756\n",
      "Sequence has been collected for 3.2.1.188....\n",
      "Feature has been extracted for 3.2.1.188....\n"
     ]
    },
    {
     "name": "stderr",
     "output_type": "stream",
     "text": [
      "c:\\users\\rakes\\appdata\\local\\programs\\python\\python38\\lib\\site-packages\\sklearn\\cluster\\_optics.py:803: RuntimeWarning: divide by zero encountered in true_divide\n",
      "  ratio = reachability_plot[:-1] / reachability_plot[1:]\n",
      "c:\\users\\rakes\\appdata\\local\\programs\\python\\python38\\lib\\site-packages\\sklearn\\cluster\\_birch.py:647: ConvergenceWarning: Number of subclusters found (1) by Birch is less than (3). Decrease the threshold.\n",
      "  warnings.warn(\n"
     ]
    },
    {
     "name": "stdout",
     "output_type": "stream",
     "text": [
      "Clustering has been done for 3.2.1.188....\n",
      "Sequence has been collected for 3.2.1.197....\n",
      "Feature has been extracted for 3.2.1.197....\n",
      "3.2.1.197 has 4 samples which is less than 5 min_samples \n",
      "Sequence has been collected for 3.2.1.199....\n",
      "Feature has been extracted for 3.2.1.199....\n"
     ]
    },
    {
     "name": "stderr",
     "output_type": "stream",
     "text": [
      "c:\\users\\rakes\\appdata\\local\\programs\\python\\python38\\lib\\site-packages\\sklearn\\cluster\\_optics.py:803: RuntimeWarning: divide by zero encountered in true_divide\n",
      "  ratio = reachability_plot[:-1] / reachability_plot[1:]\n",
      "c:\\users\\rakes\\appdata\\local\\programs\\python\\python38\\lib\\site-packages\\sklearn\\cluster\\_birch.py:647: ConvergenceWarning: Number of subclusters found (1) by Birch is less than (3). Decrease the threshold.\n",
      "  warnings.warn(\n"
     ]
    },
    {
     "name": "stdout",
     "output_type": "stream",
     "text": [
      "Clustering has been done for 3.2.1.199....\n",
      "No hits for BAA02908.1\n",
      "Sequence has been collected for 3.2.1.200....\n",
      "Feature has been extracted for 3.2.1.200....\n"
     ]
    },
    {
     "name": "stderr",
     "output_type": "stream",
     "text": [
      "c:\\users\\rakes\\appdata\\local\\programs\\python\\python38\\lib\\site-packages\\sklearn\\cluster\\_birch.py:647: ConvergenceWarning: Number of subclusters found (1) by Birch is less than (3). Decrease the threshold.\n",
      "  warnings.warn(\n"
     ]
    },
    {
     "name": "stdout",
     "output_type": "stream",
     "text": [
      "Clustering has been done for 3.2.1.200....\n",
      "Sequence has been collected for 3.2.1.201....\n",
      "Feature has been extracted for 3.2.1.201....\n"
     ]
    },
    {
     "name": "stderr",
     "output_type": "stream",
     "text": [
      "c:\\users\\rakes\\appdata\\local\\programs\\python\\python38\\lib\\site-packages\\sklearn\\cluster\\_birch.py:647: ConvergenceWarning: Number of subclusters found (1) by Birch is less than (3). Decrease the threshold.\n",
      "  warnings.warn(\n"
     ]
    },
    {
     "name": "stdout",
     "output_type": "stream",
     "text": [
      "Clustering has been done for 3.2.1.201....\n",
      "Sequence has been collected for 3.2.1.204....\n",
      "Feature has been extracted for 3.2.1.204....\n",
      "3.2.1.204 has 4 samples which is less than 5 min_samples \n",
      "Sequence has been collected for 3.2.1.205....\n",
      "Feature has been extracted for 3.2.1.205....\n"
     ]
    },
    {
     "name": "stderr",
     "output_type": "stream",
     "text": [
      "c:\\users\\rakes\\appdata\\local\\programs\\python\\python38\\lib\\site-packages\\sklearn\\cluster\\_affinity_propagation.py:136: UserWarning: All samples have mutually equal similarities. Returning arbitrary cluster center(s).\n",
      "  warnings.warn(\"All samples have mutually equal similarities. \"\n"
     ]
    },
    {
     "name": "stdout",
     "output_type": "stream",
     "text": [
      "3.2.1.205 has 1 samples which is less than 5 min_samples \n",
      "Sequence has been collected for 3.2.1.206....\n",
      "Feature has been extracted for 3.2.1.206....\n"
     ]
    },
    {
     "name": "stderr",
     "output_type": "stream",
     "text": [
      "c:\\users\\rakes\\appdata\\local\\programs\\python\\python38\\lib\\site-packages\\sklearn\\cluster\\_affinity_propagation.py:136: UserWarning: All samples have mutually equal similarities. Returning arbitrary cluster center(s).\n",
      "  warnings.warn(\"All samples have mutually equal similarities. \"\n"
     ]
    },
    {
     "name": "stdout",
     "output_type": "stream",
     "text": [
      "3.2.1.206 has 1 samples which is less than 5 min_samples \n",
      "No hits for NP_269660.1\n",
      "No hits for NP_810791.1\n",
      "No hits for NP_812042.1\n",
      "No hits for NP_812905.1\n",
      "No hits for NP_812684.1\n",
      "No hits for NP_812902.1\n",
      "No hits for NP_810682.1\n",
      "No hits for NP_812769.1\n",
      "No hits for NP_638242.1\n",
      "Sequence has been collected for 3.2.1.207....\n",
      "Feature has been extracted for 3.2.1.207....\n"
     ]
    },
    {
     "name": "stderr",
     "output_type": "stream",
     "text": [
      "c:\\users\\rakes\\appdata\\local\\programs\\python\\python38\\lib\\site-packages\\sklearn\\cluster\\_birch.py:647: ConvergenceWarning: Number of subclusters found (1) by Birch is less than (3). Decrease the threshold.\n",
      "  warnings.warn(\n"
     ]
    },
    {
     "name": "stdout",
     "output_type": "stream",
     "text": [
      "Clustering has been done for 3.2.1.207....\n",
      "Sequence has been collected for 3.2.1.211....\n",
      "Feature has been extracted for 3.2.1.211....\n"
     ]
    },
    {
     "name": "stderr",
     "output_type": "stream",
     "text": [
      "c:\\users\\rakes\\appdata\\local\\programs\\python\\python38\\lib\\site-packages\\sklearn\\cluster\\_affinity_propagation.py:136: UserWarning: All samples have mutually equal similarities. Returning arbitrary cluster center(s).\n",
      "  warnings.warn(\"All samples have mutually equal similarities. \"\n"
     ]
    },
    {
     "name": "stdout",
     "output_type": "stream",
     "text": [
      "3.2.1.211 has 2 samples which is less than 5 min_samples \n",
      "Sequence has been collected for 3.2.1.212....\n",
      "Feature has been extracted for 3.2.1.212....\n"
     ]
    },
    {
     "name": "stderr",
     "output_type": "stream",
     "text": [
      "c:\\users\\rakes\\appdata\\local\\programs\\python\\python38\\lib\\site-packages\\sklearn\\cluster\\_birch.py:647: ConvergenceWarning: Number of subclusters found (1) by Birch is less than (3). Decrease the threshold.\n",
      "  warnings.warn(\n"
     ]
    },
    {
     "name": "stdout",
     "output_type": "stream",
     "text": [
      "Clustering has been done for 3.2.1.212....\n",
      "Sequence has been collected for 3.2.1.213....\n",
      "Feature has been extracted for 3.2.1.213....\n"
     ]
    },
    {
     "name": "stderr",
     "output_type": "stream",
     "text": [
      "c:\\users\\rakes\\appdata\\local\\programs\\python\\python38\\lib\\site-packages\\sklearn\\cluster\\_affinity_propagation.py:136: UserWarning: All samples have mutually equal similarities. Returning arbitrary cluster center(s).\n",
      "  warnings.warn(\"All samples have mutually equal similarities. \"\n"
     ]
    },
    {
     "name": "stdout",
     "output_type": "stream",
     "text": [
      "3.2.1.213 has 1 samples which is less than 5 min_samples \n",
      "Sequence has been collected for 3.2.1.214....\n",
      "Feature has been extracted for 3.2.1.214....\n"
     ]
    },
    {
     "name": "stderr",
     "output_type": "stream",
     "text": [
      "c:\\users\\rakes\\appdata\\local\\programs\\python\\python38\\lib\\site-packages\\sklearn\\cluster\\_affinity_propagation.py:136: UserWarning: All samples have mutually equal similarities. Returning arbitrary cluster center(s).\n",
      "  warnings.warn(\"All samples have mutually equal similarities. \"\n"
     ]
    },
    {
     "name": "stdout",
     "output_type": "stream",
     "text": [
      "3.2.1.214 has 1 samples which is less than 5 min_samples \n",
      "Sequence has been collected for 3.2.1.215....\n",
      "Feature has been extracted for 3.2.1.215....\n"
     ]
    },
    {
     "name": "stderr",
     "output_type": "stream",
     "text": [
      "c:\\users\\rakes\\appdata\\local\\programs\\python\\python38\\lib\\site-packages\\sklearn\\cluster\\_affinity_propagation.py:136: UserWarning: All samples have mutually equal similarities. Returning arbitrary cluster center(s).\n",
      "  warnings.warn(\"All samples have mutually equal similarities. \"\n"
     ]
    },
    {
     "name": "stdout",
     "output_type": "stream",
     "text": [
      "3.2.1.215 has 1 samples which is less than 5 min_samples \n",
      "Sequence has been collected for 3.2.1.216....\n",
      "Feature has been extracted for 3.2.1.216....\n"
     ]
    },
    {
     "name": "stderr",
     "output_type": "stream",
     "text": [
      "c:\\users\\rakes\\appdata\\local\\programs\\python\\python38\\lib\\site-packages\\sklearn\\cluster\\_affinity_propagation.py:136: UserWarning: All samples have mutually equal similarities. Returning arbitrary cluster center(s).\n",
      "  warnings.warn(\"All samples have mutually equal similarities. \"\n"
     ]
    },
    {
     "name": "stdout",
     "output_type": "stream",
     "text": [
      "3.2.1.216 has 2 samples which is less than 5 min_samples \n",
      "Sequence has been collected for 3.2.1.217....\n",
      "Feature has been extracted for 3.2.1.217....\n",
      "Clustering has been done for 3.2.1.217....\n",
      "Mission completed in 735.599 seconds\n"
     ]
    },
    {
     "name": "stderr",
     "output_type": "stream",
     "text": [
      "c:\\users\\rakes\\appdata\\local\\programs\\python\\python38\\lib\\site-packages\\sklearn\\cluster\\_birch.py:647: ConvergenceWarning: Number of subclusters found (1) by Birch is less than (3). Decrease the threshold.\n",
      "  warnings.warn(\n"
     ]
    }
   ],
   "source": [
    "# '1' stands for single domain, and 'm' stands for to include mutli domain in single domain sequences\n",
    "a_cazy=ec_data('D:/After_4_4_22/data/CAZy_23_6_22/cazy_char_10_6_22.txt').cazy(1,'s')\n",
    "c_cazy=analysis(a_cazy).non_kegg_count()\n",
    "\n",
    "t1=time.perf_counter()\n",
    "total_data=[]\n",
    "total_rm_cazy,total_rm_genbank={},{}\n",
    "value_error,no_entry=[],[]\n",
    "for each in c_cazy:\n",
    "    ec_number=each\n",
    "    gh_family='all'\n",
    "    cazy_acc_seq,rm_cazy,rm_genbank=In_data.EC_GH(ec_number,gh_family) # write all to fetch all the EC number or all the GH family\n",
    "    total_rm_cazy[each],total_rm_genbank[each]=rm_cazy,rm_genbank\n",
    "    acc,seq,min_len,x_aa=Sequence(cazy_acc_seq).output()\n",
    "    print(f'Sequence has been collected for {each}....')\n",
    "    min_lamb=30\n",
    "    try:\n",
    "        if min(min_len)<min_lamb:\n",
    "            lambda_value=min(min_len)\n",
    "        else:\n",
    "            lambda_value=min_lamb\n",
    "    except ValueError:\n",
    "        print(each,': doesnt have sequences')\n",
    "        no_entry.append(each)\n",
    "        continue\n",
    "    pseaac_data=Pseaac(f'PAAC_{ec_number}_{gh_family}_L{lambda_value}.txt').collect(lambda_value,0.05,[60,2,3],1)\n",
    "    print(f'Feature has been extracted for {each}....')\n",
    "    ec_=ec_number.replace('.','_')\n",
    "    # In the below statement 'auto' means it takes automatic clusters based on number labels given, you can also choose any number.\n",
    "    clust=clustering(f'{gh_family}_{ec_}',pseaac_data,'auto',[5]) # 0:'acc',1:'prtn',2:'ec',3:'org',4:'species',5:'ghf'\n",
    "    try:\n",
    "        km=clust.kmeans()\n",
    "        apc=clust.affinity()\n",
    "        ms=clust.meanshift()\n",
    "        spec=clust.spectral()\n",
    "        agglo=clust.agglomerative()\n",
    "        dbs=clust.dbscan()\n",
    "        opt=clust.optics()\n",
    "        gm=clust.gaussian()\n",
    "        bir=clust.birch()\n",
    "    except ValueError:\n",
    "        print(f'{each} has {len(acc)} samples which is less than 5 min_samples ')\n",
    "        value_error.append([each,len(acc)])\n",
    "        continue\n",
    "    print(f'Clustering has been done for {each}....')\n",
    "    all_clust={'km':km,'apc':apc,'ms':ms,'spec':spec,'agglo':agglo,'dbs':dbs,'opt':opt,'gm':gm,'bir':bir}\n",
    "    for aa in all_clust.values():\n",
    "        bb=[each]+aa+[str(len(rm_cazy)),str(len(rm_genbank))]+[str(x_aa)]\n",
    "        total_data.append('$'.join(bb))\n",
    "t2=time.perf_counter()\n",
    "print('Mission completed in',round(t2-t1,3),'seconds')"
   ]
  },
  {
   "cell_type": "code",
   "execution_count": 24,
   "metadata": {},
   "outputs": [
    {
     "name": "stderr",
     "output_type": "stream",
     "text": [
      "100%|█████████████████████████████████████████████████████████████████████████| 1080/1080 [00:00<00:00, 1073423.77it/s]\n"
     ]
    }
   ],
   "source": [
    "from tqdm import tqdm\n",
    "titl=['EC_number','Method','label_type','lambda','FMI','ex_groups','pred_groups','distribution','total','CAZy_partial','Fasta_partial','X_aa']\n",
    "outpt=open('ec_number_cluster_ghf.txt','w')\n",
    "outpt.write('$'.join(titl)+'\\n')\n",
    "for line in tqdm(total_data):\n",
    "    outpt.write(line+'\\n')\n",
    "outpt.close()"
   ]
  },
  {
   "cell_type": "code",
   "execution_count": null,
   "metadata": {},
   "outputs": [],
   "source": []
  }
 ],
 "metadata": {
  "kernelspec": {
   "display_name": "Python 3",
   "language": "python",
   "name": "python3"
  },
  "language_info": {
   "codemirror_mode": {
    "name": "ipython",
    "version": 3
   },
   "file_extension": ".py",
   "mimetype": "text/x-python",
   "name": "python",
   "nbconvert_exporter": "python",
   "pygments_lexer": "ipython3",
   "version": "3.8.7"
  }
 },
 "nbformat": 4,
 "nbformat_minor": 4
}
