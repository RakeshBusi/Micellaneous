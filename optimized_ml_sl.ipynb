{
 "cells": [
  {
   "cell_type": "code",
   "execution_count": null,
   "metadata": {},
   "outputs": [],
   "source": [
    "data,temp=[],''\n",
    "with open('temp/fasta_nr_1.fasta','r') as inpt:\n",
    "    for i in inpt:\n",
    "        if i.startswith('>'):\n",
    "            data.append(temp)\n",
    "            data.append(i)\n",
    "            temp=''\n",
    "        else:\n",
    "            temp=temp+i.rstrip()\n",
    "    data.append(temp)"
   ]
  }
 ],
 "metadata": {
  "kernelspec": {
   "display_name": "Python 3",
   "language": "python",
   "name": "python3"
  },
  "language_info": {
   "codemirror_mode": {
    "name": "ipython",
    "version": 3
   },
   "file_extension": ".py",
   "mimetype": "text/x-python",
   "name": "python",
   "nbconvert_exporter": "python",
   "pygments_lexer": "ipython3",
   "version": "3.8.7"
  }
 },
 "nbformat": 4,
 "nbformat_minor": 4
}
