{
 "cells": [
  {
   "cell_type": "code",
   "execution_count": null,
   "metadata": {},
   "outputs": [],
   "source": [
    "import urllib.request\n",
    "def download(url,filename):\n",
    "    response=urllib.request.urlopen(url)\n",
    "    file=open(f'{filename}.gz','wb')\n",
    "    file.write(response.read())\n",
    "    file.close()\n",
    "for i in ['PF00062']:\n",
    "    download(f'http://pfam.xfam.org/family/{i}/alignment/seed/gzipped',i)"
   ]
  }
 ],
 "metadata": {
  "kernelspec": {
   "display_name": "Python 3",
   "language": "python",
   "name": "python3"
  },
  "language_info": {
   "codemirror_mode": {
    "name": "ipython",
    "version": 3
   },
   "file_extension": ".py",
   "mimetype": "text/x-python",
   "name": "python",
   "nbconvert_exporter": "python",
   "pygments_lexer": "ipython3",
   "version": "3.8.7"
  }
 },
 "nbformat": 4,
 "nbformat_minor": 4
}
