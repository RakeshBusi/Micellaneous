{
 "cells": [
  {
   "cell_type": "code",
   "execution_count": 133,
   "metadata": {},
   "outputs": [
    {
     "name": "stdout",
     "output_type": "stream",
     "text": [
      "Once deleted, variables cannot be recovered. Proceed (y/[n])? y\n"
     ]
    }
   ],
   "source": [
    "%reset"
   ]
  },
  {
   "cell_type": "code",
   "execution_count": 299,
   "metadata": {
    "scrolled": true
   },
   "outputs": [
    {
     "name": "stdout",
     "output_type": "stream",
     "text": [
      "Wall time: 47 ms\n"
     ]
    }
   ],
   "source": [
    "%%time\n",
    "import pandas as pd\n",
    "from sklearn import metrics,cluster\n",
    "import numpy as np\n",
    "import random\n",
    "\n",
    "#### Reading the feature and calculating the pairwise distance between all the points\n",
    "\n",
    "df = pd.read_csv('gh_cellulase_PAAC.txt', sep='\\t')# input file which contains features, header=None if no column title\n",
    "x=df.iloc[:,1:].values\n",
    "\n",
    "# distance=metrics.pairwise.pairwise_distances(x)\n",
    "\n",
    "def cal_dist(b,c):\n",
    "    temp=np.zeros([len(x),len(b)])\n",
    "    for i1 in range(len(x)):\n",
    "        for j1 in b:\n",
    "            temp_dis=np.sqrt(sum([(xx-yy)**2 for xx,yy in zip(x[i1],c[j1])]))\n",
    "            temp[i1][j1]=temp_dis\n",
    "    return temp\n",
    "\n",
    "#### collecting intra and inter distance for clusters\n",
    "\n",
    "\n",
    "class clust:\n",
    "    def __init__(self,ref,comp):\n",
    "        self.ref=ref\n",
    "        self.comp=comp\n",
    "        if self.ref==self.comp:\n",
    "#             print(f'The intra cluster distance within cluster {self.ref}')\n",
    "            self.c=1\n",
    "        else:\n",
    "#             print(f'The inter cluster distance between cluster {self.ref} and {self.comp}')\n",
    "            self.c=0\n",
    "        \n",
    "    def all_dist(self):\n",
    "        al_data=[]\n",
    "        for x1 in range(len(labels)):\n",
    "            for y1 in range((x1+1)*self.c,len(labels)):\n",
    "                if labels[x1]==self.ref and labels[y1]==self.comp:\n",
    "#                     print(f'{x1}..{y1}',distance[x1][y1])\n",
    "                    al_data.append(distance[x1][y1])\n",
    "        self.data=al_data\n",
    "        self.avg=sum(al_data)/len(al_data)\n",
    "        return self\n",
    "\n",
    "    def centroid_dist(self):\n",
    "        al_data=[]\n",
    "        for x1 in range(len(labels)):\n",
    "            if labels[x1]==self.ref:\n",
    "                al_data.append(cent_dist[x1][self.comp])\n",
    "        self.data=al_data\n",
    "        self.avg=sum(al_data)/len(al_data)\n",
    "        return self               \n",
    "\n",
    "def un_learn(n):\n",
    "    kmeans = cluster.KMeans(n_clusters=n).fit(x) # Number of clusters\n",
    "    lab = kmeans.labels_\n",
    "    centroid=kmeans.cluster_centers_\n",
    "    cent_lab=kmeans.predict(centroid)\n",
    "    c_d=cal_dist(cent_lab,centroid)\n",
    "    return lab,centroid,c_d\n",
    "\n",
    "labels,cent,cent_dist=un_learn(3)\n",
    "a=clust(0,0).centroid_dist() # cluster compared to centroid"
   ]
  },
  {
   "cell_type": "code",
   "execution_count": 300,
   "metadata": {
    "scrolled": true
   },
   "outputs": [
    {
     "name": "stdout",
     "output_type": "stream",
     "text": [
      "Wall time: 3.62 s\n"
     ]
    }
   ],
   "source": [
    "%%time\n",
    "from collections import Counter\n",
    "from itertools import combinations\n",
    "import numpy as np\n",
    "\n",
    "# a=clust(0,1).all_dist()\n",
    "# b=clust(0,0).all_dist()\n",
    "##########################################################################\n",
    "nn=3 # number of cluster\n",
    "ni=100 # number of iterations\n",
    "##########################################################################\n",
    "lis=[s for s in range(nn)]\n",
    "grp=list(combinations(lis,2))\n",
    "grp.extend([(i,i) for i in lis])\n",
    "\n",
    "grp_taken=grp\n",
    "\n",
    "min_dis,max_dis,avg_dis={},{},{}\n",
    "for each in grp_taken:\n",
    "    min_dis[each],max_dis[each],avg_dis[each]=[],[],[]\n",
    "    \n",
    "ll=[]\n",
    "for each_iter in range(ni):\n",
    "#     print(f'Iteration:{each_iter+1}')\n",
    "#     labels,no_lab=un_learn(nn)\n",
    "    labels,cent,cent_dist=un_learn(nn)\n",
    "    ll.append(labels)\n",
    "    for j in grp_taken:\n",
    "#         c=clust(j[0],j[1]).all_dist()\n",
    "        c=clust(j[0],j[0]).centroid_dist() # cluster compared to centroid\n",
    "        min_dis[j].append(min(c.data))\n",
    "        max_dis[j].append(max(c.data))\n",
    "        avg_dis[j].append(c.avg)\n",
    "\n",
    "main_list_max=[]\n",
    "main_list_min=[]\n",
    "for each_iter in range(ni):\n",
    "#     print(f'Iteration:{each_iter+1}')\n",
    "    emp_array_avg=np.zeros((len(cent),len(cent)))\n",
    "    emp_array_m=np.zeros((len(cent),len(cent)))\n",
    "    sub_list=[]\n",
    "    for k in grp_taken:\n",
    "        if k[0]==k[1]:\n",
    "            emp_array_m[k[0]][k[1]]=max_dis[k][each_iter]\n",
    "            sub_list.append(max_dis[k][each_iter])\n",
    "    main_list_max.append(max(sub_list))# maximum of maximum intra cluster distance from centroid\n",
    "    main_list_min.append(min(sub_list))# minimum of maximum intra cluster distance from centroid\n",
    "#         print(min(sub_list))\n",
    "#         else:\n",
    "#             emp_array_m[k[1]][k[0]]=min_dis[k][each_iter]\n",
    "#             emp_array_m[k[0]][k[1]]=min_dis[k][each_iter]\n",
    "# df1=pd.DataFrame(emp_array_m)\n",
    "# df1"
   ]
  },
  {
   "cell_type": "code",
   "execution_count": 303,
   "metadata": {},
   "outputs": [
    {
     "name": "stdout",
     "output_type": "stream",
     "text": [
      "max: {0.030951986995242247: 54, 0.03111538226367291: 17, 0.031511899096967076: 7, 0.031077890787835655: 7, 0.031151143432181918: 1, 0.030978424498234697: 2, 0.0322556332187436: 1, 0.031261463267333145: 1, 0.03148044151015463: 2, 0.0316331895658817: 1, 0.031168096400549697: 1, 0.03162207502437474: 1, 0.031104210859222253: 3, 0.03274791490624315: 1, 0.03119866361442764: 1}\n",
      "min: {0.029516337953961497: 56, 0.02424619302646035: 27, 0.023761131912604774: 6, 0.02341369943100249: 2, 0.023129977990335115: 1, 0.022658981546510092: 1, 0.02334451044011748: 4, 0.02191390861299122: 1, 0.0231610710582992: 1, 0.020343681474981584: 1}\n"
     ]
    }
   ],
   "source": [
    "cx,ci=dict(Counter(main_list_max)),dict(Counter(main_list_min))\n",
    "print('max:',cx)# lyso max\n",
    "print('min:',ci)# lyso min"
   ]
  },
  {
   "cell_type": "code",
   "execution_count": 292,
   "metadata": {},
   "outputs": [
    {
     "data": {
      "text/plain": [
       "array([2, 1, 2, 2, 1, 2, 2, 2, 2, 1, 2, 2, 2, 2, 2, 2, 2, 2, 2, 2, 2, 0,\n",
       "       0, 0, 0, 0, 0, 0, 0, 0, 0, 0, 0, 0, 0, 0, 0, 0, 0, 0, 0, 0, 0, 0,\n",
       "       0, 0, 0, 0, 0, 0, 0, 0, 0, 0, 0, 0, 0, 0, 0, 0, 0, 0, 0, 1, 0, 0,\n",
       "       0, 0, 0, 1, 0, 0, 0, 0, 0, 0, 0, 0, 0, 0, 0, 0, 0, 0, 0, 1, 1, 1,\n",
       "       1, 1, 1, 1, 1, 1, 1, 1, 1, 1, 1, 1, 1, 1, 1, 1, 1, 2, 1, 1, 1, 1,\n",
       "       1, 1, 1, 1, 1, 1, 1, 1, 1, 1, 1, 1, 1, 1, 1, 1, 1, 1, 1, 1, 1, 1,\n",
       "       1, 1, 1, 1, 1, 1, 1, 1, 1, 1, 1], dtype=int64)"
      ]
     },
     "execution_count": 292,
     "metadata": {},
     "output_type": "execute_result"
    }
   ],
   "source": [
    "%store -r ll_dist"
   ]
  },
  {
   "cell_type": "code",
   "execution_count": 269,
   "metadata": {},
   "outputs": [
    {
     "data": {
      "text/plain": [
       "Counter({0.02272888530397871: 100})"
      ]
     },
     "execution_count": 269,
     "metadata": {},
     "output_type": "execute_result"
    }
   ],
   "source": [
    "Counter(main_list)# H1N1 maximum"
   ]
  },
  {
   "cell_type": "code",
   "execution_count": 271,
   "metadata": {},
   "outputs": [
    {
     "data": {
      "text/plain": [
       "Counter({0.006620163628200178: 25,\n",
       "         0.006620163628200176: 71,\n",
       "         0.006620163628200175: 4})"
      ]
     },
     "execution_count": 271,
     "metadata": {},
     "output_type": "execute_result"
    }
   ],
   "source": [
    "Counter(main_list)# H1N1 minimum"
   ]
  },
  {
   "cell_type": "code",
   "execution_count": 272,
   "metadata": {
    "scrolled": true
   },
   "outputs": [
    {
     "name": "stdout",
     "output_type": "stream",
     "text": [
      "25\n",
      "71\n"
     ]
    }
   ],
   "source": [
    "c=[]\n",
    "for ii in range(len(main_list)):\n",
    "    if main_list[ii]==0.006620163628200178:\n",
    "        c.append(ll[ii])\n",
    "print(len(c))\n",
    "d=[]\n",
    "for ii in range(len(main_list)):\n",
    "    if main_list[ii]==0.006620163628200176:\n",
    "        d.append(ll[ii])\n",
    "print(len(d))"
   ]
  },
  {
   "cell_type": "code",
   "execution_count": 266,
   "metadata": {
    "collapsed": true
   },
   "outputs": [
    {
     "name": "stdout",
     "output_type": "stream",
     "text": [
      "(0, 1)\n",
      "{'11': 16, '22': 37, '00': 59}\n",
      "(0, 2)\n",
      "{'12': 16, '21': 37, '00': 59}\n",
      "(0, 3)\n",
      "{'12': 16, '20': 37, '01': 59}\n",
      "(0, 4)\n",
      "{'10': 16, '21': 37, '02': 59}\n",
      "(0, 5)\n",
      "{'12': 16, '21': 37, '00': 59}\n",
      "(1, 2)\n",
      "{'12': 16, '21': 37, '00': 59}\n",
      "(1, 3)\n",
      "{'12': 16, '20': 37, '01': 59}\n",
      "(1, 4)\n",
      "{'10': 16, '21': 37, '02': 59}\n",
      "(1, 5)\n",
      "{'12': 16, '21': 37, '00': 59}\n",
      "(2, 3)\n",
      "{'22': 16, '10': 37, '01': 59}\n",
      "(2, 4)\n",
      "{'20': 16, '11': 37, '02': 59}\n",
      "(2, 5)\n",
      "{'22': 16, '11': 37, '00': 59}\n",
      "(3, 4)\n",
      "{'20': 16, '01': 37, '12': 59}\n",
      "(3, 5)\n",
      "{'22': 16, '01': 37, '10': 59}\n",
      "(4, 5)\n",
      "{'02': 16, '11': 37, '20': 59}\n"
     ]
    }
   ],
   "source": [
    "from itertools import combinations\n",
    "aa=list(combinations([z for z in range(6)],2))\n",
    "for aaa in aa:\n",
    "    print(aaa)\n",
    "    a=[]\n",
    "    for x,y in zip(c[aaa[0]],c[aaa[1]]):\n",
    "        a.append(f'{x}{y}')\n",
    "    \n",
    "    if len(dict(Counter(a)))==3:\n",
    "        print(dict(Counter(a)))\n",
    "    else:\n",
    "        print('Alert!!!!!!!!!!!!')"
   ]
  },
  {
   "cell_type": "code",
   "execution_count": 297,
   "metadata": {},
   "outputs": [
    {
     "name": "stdout",
     "output_type": "stream",
     "text": [
      "{'22': 19, '01': 57, '21': 5, '10': 61, '20': 1}\n",
      "Alert!!!!!!!!!!!!\n"
     ]
    }
   ],
   "source": [
    "a=[]\n",
    "for x,y in zip(ll[0],ll_dist[0]):\n",
    "        a.append(f'{x}{y}')\n",
    "    \n",
    "if len(dict(Counter(a)))==3:\n",
    "    print(dict(Counter(a)))\n",
    "else:\n",
    "    print(dict(Counter(a)))\n",
    "    print('Alert!!!!!!!!!!!!')"
   ]
  },
  {
   "cell_type": "code",
   "execution_count": 257,
   "metadata": {},
   "outputs": [
    {
     "data": {
      "text/plain": [
       "Counter({0.023653583339059068: 81,\n",
       "         0.023479456571733056: 6,\n",
       "         0.023664171775432848: 13})"
      ]
     },
     "execution_count": 257,
     "metadata": {},
     "output_type": "execute_result"
    }
   ],
   "source": [
    "Counter(main_list)# hemoglobin"
   ]
  }
 ],
 "metadata": {
  "kernelspec": {
   "display_name": "Python 3",
   "language": "python",
   "name": "python3"
  },
  "language_info": {
   "codemirror_mode": {
    "name": "ipython",
    "version": 3
   },
   "file_extension": ".py",
   "mimetype": "text/x-python",
   "name": "python",
   "nbconvert_exporter": "python",
   "pygments_lexer": "ipython3",
   "version": "3.8.7"
  }
 },
 "nbformat": 4,
 "nbformat_minor": 4
}
