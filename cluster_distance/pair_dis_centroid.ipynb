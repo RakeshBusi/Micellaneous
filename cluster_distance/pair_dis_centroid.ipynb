{
 "cells": [
  {
   "cell_type": "code",
   "execution_count": 9,
   "metadata": {},
   "outputs": [],
   "source": [
    "import pandas as pd\n",
    "from sklearn import metrics,cluster\n",
    "\n",
    "#### Reading the feature and calculating the pairwise distance between all the points\n",
    "\n",
    "df = pd.read_csv('gh_lyso_PAAC.txt', sep='\\t')# input file which contains features, header=None if no column title\n",
    "x=df.iloc[:,1:].values\n",
    "distance=metrics.pairwise.pairwise_distances(x)\n",
    "\n",
    "#### Clustering\n",
    "\n",
    "kmeans = cluster.KMeans(n_clusters=3,random_state=42).fit(x) # Number of clusters\n",
    "labels = kmeans.labels_\n",
    "centroid=kmeans.cluster_centers_\n",
    "cent_label=kmeans.predict(centroid)\n",
    "\n",
    "\n",
    "#### collecting intra and inter distance for clusters\n",
    "\n",
    "class clust:\n",
    "    def __init__(self,ref,comp):\n",
    "        self.ref=ref\n",
    "        self.comp=comp\n",
    "        if self.ref==self.comp:\n",
    "            print(f'The intra cluster distance within cluster {self.ref}')\n",
    "            self.c=1\n",
    "        else:\n",
    "            print(f'The inter cluster distance between cluster {self.ref} and {self.comp}')\n",
    "            self.c=0\n",
    "        \n",
    "    def all_dist(self):\n",
    "        al_data=[]\n",
    "        for x1 in range(len(labels)):\n",
    "            for y1 in range((x1+1)*self.c,len(labels)):\n",
    "                if labels[x1]==self.ref and labels[y1]==self.comp:\n",
    "#                     print(f'{x1}..{y1}',distance[x1][y1])\n",
    "                    al_data.append(distance[x1][y1])\n",
    "        return al_data\n",
    "                          \n",
    "# a=clust(0,1).all_dist()\n",
    "# b=clust(0,0).all_dist()"
   ]
  },
  {
   "cell_type": "code",
   "execution_count": 7,
   "metadata": {},
   "outputs": [
    {
     "data": {
      "text/plain": [
       "array([2, 0, 2, 2, 2, 2, 2, 2, 2, 0, 2, 2, 2, 2, 2, 2, 2, 2, 2, 2, 2, 1,\n",
       "       1, 1, 1, 1, 1, 1, 1, 1, 1, 1, 1, 1, 1, 1, 1, 1, 1, 1, 1, 1, 1, 1,\n",
       "       2, 1, 1, 1, 1, 1, 1, 1, 1, 1, 1, 1, 1, 1, 1, 1, 1, 1, 1, 0, 1, 1,\n",
       "       1, 1, 1, 0, 1, 1, 1, 1, 1, 1, 1, 1, 1, 1, 1, 1, 1, 1, 1, 0, 0, 0,\n",
       "       0, 0, 0, 0, 0, 0, 0, 0, 0, 0, 0, 0, 0, 0, 0, 0, 0, 2, 0, 0, 0, 0,\n",
       "       0, 0, 0, 0, 0, 0, 2, 0, 0, 2, 0, 0, 0, 2, 0, 0, 0, 0, 0, 0, 0, 0,\n",
       "       0, 0, 0, 0, 0, 0, 0, 0, 2, 0, 0])"
      ]
     },
     "execution_count": 7,
     "metadata": {},
     "output_type": "execute_result"
    }
   ],
   "source": [
    "labels"
   ]
  },
  {
   "cell_type": "code",
   "execution_count": 8,
   "metadata": {},
   "outputs": [
    {
     "data": {
      "text/plain": [
       "array([[0.03153644, 0.00415653, 0.01368392, 0.00465001, 0.01252685,\n",
       "        0.03202206, 0.00610189, 0.01199674, 0.00975414, 0.01648111,\n",
       "        0.00470907, 0.01246332, 0.01031211, 0.00821828, 0.00679   ,\n",
       "        0.02834656, 0.02097201, 0.0118598 , 0.00854663, 0.0160218 ,\n",
       "        0.02475574, 0.02526016, 0.0244899 , 0.02387724, 0.02401027,\n",
       "        0.02465904, 0.023474  , 0.02407751, 0.02485778, 0.02451014,\n",
       "        0.02380502, 0.02462666, 0.02527053, 0.02422633, 0.02412836,\n",
       "        0.02433256, 0.02304753, 0.02341199, 0.02346828, 0.02469479,\n",
       "        0.02376041, 0.02380391, 0.02428294, 0.02464732, 0.02449224,\n",
       "        0.02381464, 0.02482714, 0.025057  , 0.02490207, 0.02427924],\n",
       "       [0.02099295, 0.01397598, 0.01367832, 0.00731533, 0.00590227,\n",
       "        0.01858204, 0.00422606, 0.01109787, 0.01361521, 0.01966675,\n",
       "        0.00383651, 0.01697063, 0.00437184, 0.00928663, 0.01553698,\n",
       "        0.01563089, 0.01117948, 0.01592416, 0.00837854, 0.00920128,\n",
       "        0.02592102, 0.02669973, 0.02349844, 0.02504484, 0.02479724,\n",
       "        0.02297688, 0.02615478, 0.02674701, 0.02475104, 0.02600799,\n",
       "        0.02530446, 0.02691949, 0.02675823, 0.02588051, 0.02598973,\n",
       "        0.02591087, 0.02515184, 0.02740479, 0.02564593, 0.02452413,\n",
       "        0.02538176, 0.02501187, 0.02539385, 0.02683321, 0.02325973,\n",
       "        0.02338274, 0.02669088, 0.02401384, 0.02346292, 0.02511052],\n",
       "       [0.02169927, 0.00324112, 0.01546391, 0.01068271, 0.00902932,\n",
       "        0.02693312, 0.00786155, 0.01588816, 0.01625241, 0.01493772,\n",
       "        0.00515304, 0.00929699, 0.00583122, 0.01034241, 0.0118016 ,\n",
       "        0.01680758, 0.01378742, 0.01434424, 0.00554727, 0.0092073 ,\n",
       "        0.02599428, 0.02600685, 0.02373133, 0.02432089, 0.02593611,\n",
       "        0.02664689, 0.02494644, 0.0255949 , 0.02568949, 0.02408122,\n",
       "        0.02474439, 0.02515355, 0.02415473, 0.02445192, 0.02503227,\n",
       "        0.02576514, 0.02521496, 0.02614197, 0.02528119, 0.02587   ,\n",
       "        0.02645217, 0.02580729, 0.02449499, 0.0251719 , 0.02476997,\n",
       "        0.02455544, 0.02399604, 0.02514655, 0.02533375, 0.025405  ]])"
      ]
     },
     "execution_count": 8,
     "metadata": {},
     "output_type": "execute_result"
    }
   ],
   "source": [
    "centroid"
   ]
  },
  {
   "cell_type": "code",
   "execution_count": 10,
   "metadata": {},
   "outputs": [
    {
     "data": {
      "text/plain": [
       "array([0, 1, 2])"
      ]
     },
     "execution_count": 10,
     "metadata": {},
     "output_type": "execute_result"
    }
   ],
   "source": [
    "cent_label"
   ]
  },
  {
   "cell_type": "code",
   "execution_count": null,
   "metadata": {},
   "outputs": [],
   "source": []
  }
 ],
 "metadata": {
  "kernelspec": {
   "display_name": "Python 3",
   "language": "python",
   "name": "python3"
  },
  "language_info": {
   "codemirror_mode": {
    "name": "ipython",
    "version": 3
   },
   "file_extension": ".py",
   "mimetype": "text/x-python",
   "name": "python",
   "nbconvert_exporter": "python",
   "pygments_lexer": "ipython3",
   "version": "3.8.7"
  }
 },
 "nbformat": 4,
 "nbformat_minor": 4
}
