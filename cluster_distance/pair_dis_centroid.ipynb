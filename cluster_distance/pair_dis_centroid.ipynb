{
 "cells": [
  {
   "cell_type": "code",
   "execution_count": 133,
   "metadata": {},
   "outputs": [
    {
     "name": "stdout",
     "output_type": "stream",
     "text": [
      "Once deleted, variables cannot be recovered. Proceed (y/[n])? y\n"
     ]
    }
   ],
   "source": [
    "%reset"
   ]
  },
  {
   "cell_type": "code",
   "execution_count": 186,
   "metadata": {
    "scrolled": true
   },
   "outputs": [
    {
     "name": "stdout",
     "output_type": "stream",
     "text": [
      "Wall time: 49.8 ms\n"
     ]
    }
   ],
   "source": [
    "%%time\n",
    "import pandas as pd\n",
    "from sklearn import metrics,cluster\n",
    "import numpy as np\n",
    "import random\n",
    "\n",
    "#### Reading the feature and calculating the pairwise distance between all the points\n",
    "\n",
    "df = pd.read_csv('gh_lyso_PAAC.txt', sep='\\t')# input file which contains features, header=None if no column title\n",
    "x=df.iloc[:,1:].values\n",
    "\n",
    "# distance=metrics.pairwise.pairwise_distances(x)\n",
    "\n",
    "def cal_dist(b,c):\n",
    "    temp=np.zeros([len(x),len(b)])\n",
    "    for i1 in range(len(x)):\n",
    "        for j1 in b:\n",
    "            temp_dis=np.sqrt(sum([(xx-yy)**2 for xx,yy in zip(x[i1],c[j1])]))\n",
    "            temp[i1][j1]=temp_dis\n",
    "    return temp\n",
    "\n",
    "#### collecting intra and inter distance for clusters\n",
    "\n",
    "\n",
    "class clust:\n",
    "    def __init__(self,ref,comp):\n",
    "        self.ref=ref\n",
    "        self.comp=comp\n",
    "        if self.ref==self.comp:\n",
    "#             print(f'The intra cluster distance within cluster {self.ref}')\n",
    "            self.c=1\n",
    "        else:\n",
    "#             print(f'The inter cluster distance between cluster {self.ref} and {self.comp}')\n",
    "            self.c=0\n",
    "        \n",
    "    def all_dist(self):\n",
    "        al_data=[]\n",
    "        for x1 in range(len(labels)):\n",
    "            for y1 in range((x1+1)*self.c,len(labels)):\n",
    "                if labels[x1]==self.ref and labels[y1]==self.comp:\n",
    "#                     print(f'{x1}..{y1}',distance[x1][y1])\n",
    "                    al_data.append(distance[x1][y1])\n",
    "        self.data=al_data\n",
    "        self.avg=sum(al_data)/len(al_data)\n",
    "        return self\n",
    "\n",
    "    def centroid_dist(self):\n",
    "        al_data=[]\n",
    "        for x1 in range(len(labels)):\n",
    "            if labels[x1]==self.ref:\n",
    "                al_data.append(cent_dist[x1][self.comp])\n",
    "        self.data=al_data\n",
    "        self.avg=sum(al_data)/len(al_data)\n",
    "        return self               \n",
    "\n",
    "def un_learn(n):\n",
    "    kmeans = cluster.KMeans(n_clusters=n).fit(x) # Number of clusters\n",
    "    lab = kmeans.labels_\n",
    "    centroid=kmeans.cluster_centers_\n",
    "    cent_lab=kmeans.predict(centroid)\n",
    "    c_d=cal_dist(cent_lab,centroid)\n",
    "    return lab,centroid,c_d\n",
    "\n",
    "labels,cent,cent_dist=un_learn(3)\n",
    "a=clust(0,0).centroid_dist() # cluster compared to centroid"
   ]
  },
  {
   "cell_type": "code",
   "execution_count": 187,
   "metadata": {
    "scrolled": true
   },
   "outputs": [
    {
     "name": "stdout",
     "output_type": "stream",
     "text": [
      "Wall time: 4.6 s\n"
     ]
    }
   ],
   "source": [
    "%%time\n",
    "from collections import Counter\n",
    "from itertools import combinations\n",
    "import numpy as np\n",
    "\n",
    "# a=clust(0,1).all_dist()\n",
    "# b=clust(0,0).all_dist()\n",
    "##########################################################################\n",
    "nn=3 # number of cluster\n",
    "ni=100 # number of iterations\n",
    "##########################################################################\n",
    "lis=[s for s in range(nn)]\n",
    "grp=list(combinations(lis,2))\n",
    "grp.extend([(i,i) for i in lis])\n",
    "\n",
    "grp_taken=grp\n",
    "\n",
    "min_dis,max_dis,avg_dis={},{},{}\n",
    "for each in grp_taken:\n",
    "    min_dis[each],max_dis[each],avg_dis[each]=[],[],[]\n",
    "    \n",
    "for each_iter in range(ni):\n",
    "#     print(f'Iteration:{each_iter+1}')\n",
    "#     labels,no_lab=un_learn(nn)\n",
    "    labels,cent,cent_dist=un_learn(3)\n",
    "    for j in grp_taken:\n",
    "#         c=clust(j[0],j[1]).all_dist()\n",
    "        c=clust(j[0],j[0]).centroid_dist() # cluster compared to centroid\n",
    "        min_dis[j].append(min(c.data))\n",
    "        max_dis[j].append(max(c.data))\n",
    "        avg_dis[j].append(c.avg)"
   ]
  },
  {
   "cell_type": "code",
   "execution_count": 188,
   "metadata": {
    "scrolled": true
   },
   "outputs": [],
   "source": [
    "main_list=[]\n",
    "for each_iter in range(ni):\n",
    "#     print(f'Iteration:{each_iter+1}')\n",
    "    emp_array_avg=np.zeros((len(cent),len(cent)))\n",
    "    emp_array_m=np.zeros((len(cent),len(cent)))\n",
    "    sub_list=[]\n",
    "    for k in grp_taken:\n",
    "        if k[0]==k[1]:\n",
    "            emp_array_m[k[0]][k[1]]=max_dis[k][each_iter]\n",
    "            sub_list.append(max_dis[k][each_iter])\n",
    "    main_list.append(min(sub_list))\n",
    "    \n",
    "#         print(min(sub_list))\n",
    "#         else:\n",
    "#             emp_array_m[k[1]][k[0]]=min_dis[k][each_iter]\n",
    "#             emp_array_m[k[0]][k[1]]=min_dis[k][each_iter]\n",
    "# df1=pd.DataFrame(emp_array_m)\n",
    "# df1"
   ]
  },
  {
   "cell_type": "code",
   "execution_count": 113,
   "metadata": {},
   "outputs": [],
   "source": [
    "out=open('min_max_intra_cent_km.txt','w')\n",
    "for line in main_list:\n",
    "    out.write(f'{line}\\n')\n",
    "out.close()"
   ]
  },
  {
   "cell_type": "code",
   "execution_count": 181,
   "metadata": {},
   "outputs": [
    {
     "data": {
      "text/plain": [
       "0.017790729803026702"
      ]
     },
     "execution_count": 181,
     "metadata": {},
     "output_type": "execute_result"
    }
   ],
   "source": [
    "min(main_list)"
   ]
  },
  {
   "cell_type": "code",
   "execution_count": 189,
   "metadata": {},
   "outputs": [
    {
     "data": {
      "text/plain": [
       "Counter({0.024427904756936757: 100})"
      ]
     },
     "execution_count": 189,
     "metadata": {},
     "output_type": "execute_result"
    }
   ],
   "source": [
    "Counter(main_list)# lysozyme"
   ]
  },
  {
   "cell_type": "code",
   "execution_count": 182,
   "metadata": {},
   "outputs": [
    {
     "data": {
      "text/plain": [
       "Counter({0.017790729803026702: 92,\n",
       "         0.018657292036083805: 6,\n",
       "         0.018683315608651628: 1,\n",
       "         0.020138663431649415: 1})"
      ]
     },
     "execution_count": 182,
     "metadata": {},
     "output_type": "execute_result"
    }
   ],
   "source": [
    "Counter(main_list)# hemoglobin"
   ]
  },
  {
   "cell_type": "code",
   "execution_count": 175,
   "metadata": {},
   "outputs": [
    {
     "data": {
      "text/plain": [
       "Counter({0.02334451044011748: 9,\n",
       "         0.029516337953961497: 61,\n",
       "         0.02424619302646035: 21,\n",
       "         0.023761131912604774: 5,\n",
       "         0.029197061000493584: 1,\n",
       "         0.02191390861299122: 1,\n",
       "         0.023526093971853176: 1,\n",
       "         0.020343681474981584: 1})"
      ]
     },
     "execution_count": 175,
     "metadata": {},
     "output_type": "execute_result"
    }
   ],
   "source": [
    "Counter(main_list)# cellulases"
   ]
  }
 ],
 "metadata": {
  "kernelspec": {
   "display_name": "Python 3",
   "language": "python",
   "name": "python3"
  },
  "language_info": {
   "codemirror_mode": {
    "name": "ipython",
    "version": 3
   },
   "file_extension": ".py",
   "mimetype": "text/x-python",
   "name": "python",
   "nbconvert_exporter": "python",
   "pygments_lexer": "ipython3",
   "version": "3.8.7"
  }
 },
 "nbformat": 4,
 "nbformat_minor": 4
}
