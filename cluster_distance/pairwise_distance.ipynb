{
 "cells": [
  {
   "cell_type": "code",
   "execution_count": 27,
   "metadata": {},
   "outputs": [
    {
     "name": "stdout",
     "output_type": "stream",
     "text": [
      "Wall time: 20.7 ms\n"
     ]
    }
   ],
   "source": [
    "%%time\n",
    "import pandas as pd\n",
    "from sklearn import metrics,cluster\n",
    "\n",
    "#### Reading the feature and calculating the pairwise distance between all the points\n",
    "\n",
    "df = pd.read_csv('gh_lyso_PAAC.txt', sep='\\t')# input file which contains features, header=None if no column title\n",
    "x=df.iloc[:,1:].values\n",
    "distance=metrics.pairwise.pairwise_distances(x)\n",
    "\n",
    "#### collecting intra and inter distance for clusters\n",
    "\n",
    "class clust:\n",
    "    def __init__(self,ref,comp):\n",
    "        self.ref=ref\n",
    "        self.comp=comp\n",
    "        if self.ref==self.comp:\n",
    "#             print(f'The intra cluster distance within cluster {self.ref}')\n",
    "            self.c=1\n",
    "        else:\n",
    "#             print(f'The inter cluster distance between cluster {self.ref} and {self.comp}')\n",
    "            self.c=0\n",
    "        \n",
    "    def all_dist(self):\n",
    "        al_data=[]\n",
    "        for x1 in range(len(labels)):\n",
    "            for y1 in range((x1+1)*self.c,len(labels)):\n",
    "                if labels[x1]==self.ref and labels[y1]==self.comp:\n",
    "#                     print(f'{x1}..{y1}',distance[x1][y1])\n",
    "                    al_data.append(distance[x1][y1])\n",
    "        self.data=al_data\n",
    "        self.avg=sum(al_data)/len(al_data)\n",
    "        return self\n",
    "\n",
    "def un_learn(n):\n",
    "    kmeans = cluster.KMeans(n_clusters=n,random_state=42) # Number of clusters\n",
    "    lab = kmeans.fit_predict(x)\n",
    "    no_l =list(set(lab))\n",
    "    return lab,no_l\n",
    "\n",
    "def un_learn_hierarchial(n):\n",
    "    hc = cluster.AgglomerativeClustering(n_clusters=n) # Number of clusters\n",
    "    lab = hc.fit_predict(x)\n",
    "    no_l =list(set(lab))\n",
    "    return lab,no_l"
   ]
  },
  {
   "cell_type": "markdown",
   "metadata": {},
   "source": [
    "#### To find min and max distance for intra and inter clusters for 10000 iterations"
   ]
  },
  {
   "cell_type": "code",
   "execution_count": 30,
   "metadata": {
    "scrolled": true
   },
   "outputs": [
    {
     "name": "stdout",
     "output_type": "stream",
     "text": [
      "Iteration:1\n",
      "Iteration:2\n",
      "Iteration:3\n",
      "Iteration:4\n",
      "Iteration:5\n",
      "Iteration:6\n",
      "Iteration:7\n",
      "Iteration:8\n",
      "Iteration:9\n",
      "Iteration:10\n",
      "Iteration:11\n",
      "Iteration:12\n",
      "Iteration:13\n",
      "Iteration:14\n",
      "Iteration:15\n",
      "Iteration:16\n",
      "Iteration:17\n",
      "Iteration:18\n",
      "Iteration:19\n",
      "Iteration:20\n",
      "Iteration:21\n",
      "Iteration:22\n",
      "Iteration:23\n",
      "Iteration:24\n",
      "Iteration:25\n",
      "Iteration:26\n",
      "Iteration:27\n",
      "Iteration:28\n",
      "Iteration:29\n",
      "Iteration:30\n",
      "Iteration:31\n",
      "Iteration:32\n",
      "Iteration:33\n",
      "Iteration:34\n",
      "Iteration:35\n",
      "Iteration:36\n",
      "Iteration:37\n",
      "Iteration:38\n",
      "Iteration:39\n",
      "Iteration:40\n",
      "Iteration:41\n",
      "Iteration:42\n",
      "Iteration:43\n",
      "Iteration:44\n",
      "Iteration:45\n",
      "Iteration:46\n",
      "Iteration:47\n",
      "Iteration:48\n",
      "Iteration:49\n",
      "Iteration:50\n",
      "Iteration:51\n",
      "Iteration:52\n",
      "Iteration:53\n",
      "Iteration:54\n",
      "Iteration:55\n",
      "Iteration:56\n",
      "Iteration:57\n",
      "Iteration:58\n",
      "Iteration:59\n",
      "Iteration:60\n",
      "Iteration:61\n",
      "Iteration:62\n",
      "Iteration:63\n",
      "Iteration:64\n",
      "Iteration:65\n",
      "Iteration:66\n",
      "Iteration:67\n",
      "Iteration:68\n",
      "Iteration:69\n",
      "Iteration:70\n",
      "Iteration:71\n",
      "Iteration:72\n",
      "Iteration:73\n",
      "Iteration:74\n",
      "Iteration:75\n",
      "Iteration:76\n",
      "Iteration:77\n",
      "Iteration:78\n",
      "Iteration:79\n",
      "Iteration:80\n",
      "Iteration:81\n",
      "Iteration:82\n",
      "Iteration:83\n",
      "Iteration:84\n",
      "Iteration:85\n",
      "Iteration:86\n",
      "Iteration:87\n",
      "Iteration:88\n",
      "Iteration:89\n",
      "Iteration:90\n",
      "Iteration:91\n",
      "Iteration:92\n",
      "Iteration:93\n",
      "Iteration:94\n",
      "Iteration:95\n",
      "Iteration:96\n",
      "Iteration:97\n",
      "Iteration:98\n",
      "Iteration:99\n",
      "Iteration:100\n",
      "Wall time: 10.9 s\n"
     ]
    }
   ],
   "source": [
    "%%time\n",
    "from collections import Counter\n",
    "from itertools import combinations\n",
    "import numpy as np\n",
    "\n",
    "# a=clust(0,1).all_dist()\n",
    "# b=clust(0,0).all_dist()\n",
    "##########################################################################\n",
    "nn=3 # number of cluster\n",
    "ni=100 # number of iterations\n",
    "##########################################################################\n",
    "lis=[s for s in range(nn)]\n",
    "grp=list(combinations(lis,2))\n",
    "grp.extend([(i,i) for i in lis])\n",
    "\n",
    "min_dis,max_dis,avg_dis={},{},{}\n",
    "for each in grp:\n",
    "    min_dis[each],max_dis[each],avg_dis[each]=[],[],[]\n",
    "    \n",
    "for each_iter in range(ni):\n",
    "#     print(f'Iteration:{each_iter+1}')\n",
    "    labels,no_lab=un_learn_hierarchial(nn)\n",
    "    for j in grp:\n",
    "        c=clust(j[0],j[1]).all_dist()\n",
    "        min_dis[j].append(min(c.data))\n",
    "        max_dis[j].append(max(c.data))\n",
    "        avg_dis[j].append(c.avg)\n",
    "\n",
    "main_list_max=[]\n",
    "main_list_min=[]\n",
    "for each_iter in range(ni):\n",
    "    emp_array_avg=np.zeros((nn,nn))\n",
    "    emp_array_m=np.zeros((nn,nn))\n",
    "    sub_list=[]\n",
    "    for k in grp:\n",
    "        if k[0]==k[1]:\n",
    "            emp_array_m[k[0]][k[1]]=max_dis[k][each_iter]\n",
    "            sub_list.append(max_dis[k][each_iter])\n",
    "    main_list_max.append(max(sub_list))# maximum of maximum intra cluster distance from centroid\n",
    "    main_list_min.append(min(sub_list))# minimum of maximum intra cluster distance from centroid"
   ]
  },
  {
   "cell_type": "code",
   "execution_count": 38,
   "metadata": {},
   "outputs": [
    {
     "name": "stdout",
     "output_type": "stream",
     "text": [
      "max: {0.04264212956559001: 100}\n",
      "min: {0.037432793335289906: 100}\n"
     ]
    }
   ],
   "source": [
    "print('max:',dict(Counter(main_list_max)))# lyso max\n",
    "print('min:',dict(Counter(main_list_min)))# lyso min"
   ]
  },
  {
   "cell_type": "markdown",
   "metadata": {},
   "source": [
    "#### To download the values"
   ]
  },
  {
   "cell_type": "code",
   "execution_count": 25,
   "metadata": {},
   "outputs": [],
   "source": [
    "out=open('within_min_dist.txt','w')\n",
    "for iii in temp:\n",
    "    out.write(str(iii)+'\\n')\n",
    "out.close()   "
   ]
  },
  {
   "cell_type": "markdown",
   "metadata": {},
   "source": [
    "#### To visualize the data in the table for Average distance clusters"
   ]
  },
  {
   "cell_type": "code",
   "execution_count": 49,
   "metadata": {},
   "outputs": [
    {
     "name": "stdout",
     "output_type": "stream",
     "text": [
      "Iteration:1\n"
     ]
    },
    {
     "data": {
      "text/html": [
       "<div>\n",
       "<style scoped>\n",
       "    .dataframe tbody tr th:only-of-type {\n",
       "        vertical-align: middle;\n",
       "    }\n",
       "\n",
       "    .dataframe tbody tr th {\n",
       "        vertical-align: top;\n",
       "    }\n",
       "\n",
       "    .dataframe thead th {\n",
       "        text-align: right;\n",
       "    }\n",
       "</style>\n",
       "<table border=\"1\" class=\"dataframe\">\n",
       "  <thead>\n",
       "    <tr style=\"text-align: right;\">\n",
       "      <th></th>\n",
       "      <th>0</th>\n",
       "      <th>1</th>\n",
       "      <th>2</th>\n",
       "    </tr>\n",
       "  </thead>\n",
       "  <tbody>\n",
       "    <tr>\n",
       "      <th>0</th>\n",
       "      <td>0.021259</td>\n",
       "      <td>0.039074</td>\n",
       "      <td>0.033306</td>\n",
       "    </tr>\n",
       "    <tr>\n",
       "      <th>1</th>\n",
       "      <td>0.039074</td>\n",
       "      <td>0.023733</td>\n",
       "      <td>0.031968</td>\n",
       "    </tr>\n",
       "    <tr>\n",
       "      <th>2</th>\n",
       "      <td>0.033306</td>\n",
       "      <td>0.031968</td>\n",
       "      <td>0.023998</td>\n",
       "    </tr>\n",
       "  </tbody>\n",
       "</table>\n",
       "</div>"
      ],
      "text/plain": [
       "          0         1         2\n",
       "0  0.021259  0.039074  0.033306\n",
       "1  0.039074  0.023733  0.031968\n",
       "2  0.033306  0.031968  0.023998"
      ]
     },
     "execution_count": 49,
     "metadata": {},
     "output_type": "execute_result"
    }
   ],
   "source": [
    "for each_iter in range(1):\n",
    "    print(f'Iteration:{each_iter+1}')\n",
    "    labels,no_lab=un_learn(nn)\n",
    "    label_c=dict(Counter(labels))\n",
    "    emp_array_avg=np.zeros((len(label_c),len(label_c)))\n",
    "    emp_array_m=np.zeros((len(label_c),len(label_c)))\n",
    "    for j in grp:\n",
    "        c=clust(j[0],j[1]).all_dist()\n",
    "        emp_array_avg[j[0]][j[1]]=c.avg\n",
    "        emp_array_avg[j[1]][j[0]]=c.avg\n",
    "        if j[0]==j[1]:\n",
    "            emp_array_m[j[0]][j[1]]=max(c.data)\n",
    "        else:\n",
    "            emp_array_m[j[0]][j[1]]=min(c.data)\n",
    "            emp_array_m[j[1]][j[0]]=min(c.data)\n",
    "\n",
    "pd.DataFrame(emp_array_avg)"
   ]
  },
  {
   "cell_type": "code",
   "execution_count": 21,
   "metadata": {},
   "outputs": [],
   "source": []
  },
  {
   "cell_type": "code",
   "execution_count": 50,
   "metadata": {},
   "outputs": [
    {
     "data": {
      "text/html": [
       "<div>\n",
       "<style scoped>\n",
       "    .dataframe tbody tr th:only-of-type {\n",
       "        vertical-align: middle;\n",
       "    }\n",
       "\n",
       "    .dataframe tbody tr th {\n",
       "        vertical-align: top;\n",
       "    }\n",
       "\n",
       "    .dataframe thead th {\n",
       "        text-align: right;\n",
       "    }\n",
       "</style>\n",
       "<table border=\"1\" class=\"dataframe\">\n",
       "  <thead>\n",
       "    <tr style=\"text-align: right;\">\n",
       "      <th></th>\n",
       "      <th>0</th>\n",
       "      <th>1</th>\n",
       "      <th>2</th>\n",
       "    </tr>\n",
       "  </thead>\n",
       "  <tbody>\n",
       "    <tr>\n",
       "      <th>0</th>\n",
       "      <td>0.037433</td>\n",
       "      <td>0.025910</td>\n",
       "      <td>0.019056</td>\n",
       "    </tr>\n",
       "    <tr>\n",
       "      <th>1</th>\n",
       "      <td>0.025910</td>\n",
       "      <td>0.042642</td>\n",
       "      <td>0.022109</td>\n",
       "    </tr>\n",
       "    <tr>\n",
       "      <th>2</th>\n",
       "      <td>0.019056</td>\n",
       "      <td>0.022109</td>\n",
       "      <td>0.037556</td>\n",
       "    </tr>\n",
       "  </tbody>\n",
       "</table>\n",
       "</div>"
      ],
      "text/plain": [
       "          0         1         2\n",
       "0  0.037433  0.025910  0.019056\n",
       "1  0.025910  0.042642  0.022109\n",
       "2  0.019056  0.022109  0.037556"
      ]
     },
     "execution_count": 50,
     "metadata": {},
     "output_type": "execute_result"
    }
   ],
   "source": [
    "pd.DataFrame(emp_array_m)"
   ]
  },
  {
   "cell_type": "code",
   "execution_count": 13,
   "metadata": {},
   "outputs": [
    {
     "data": {
      "text/plain": [
       "[(0, 0), (1, 1), (2, 2)]"
      ]
     },
     "execution_count": 13,
     "metadata": {},
     "output_type": "execute_result"
    }
   ],
   "source": [
    "grp[3:]"
   ]
  }
 ],
 "metadata": {
  "kernelspec": {
   "display_name": "Python 3",
   "language": "python",
   "name": "python3"
  },
  "language_info": {
   "codemirror_mode": {
    "name": "ipython",
    "version": 3
   },
   "file_extension": ".py",
   "mimetype": "text/x-python",
   "name": "python",
   "nbconvert_exporter": "python",
   "pygments_lexer": "ipython3",
   "version": "3.8.7"
  }
 },
 "nbformat": 4,
 "nbformat_minor": 4
}
