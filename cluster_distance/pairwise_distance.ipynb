{
 "cells": [
  {
   "cell_type": "code",
   "execution_count": 1,
   "metadata": {},
   "outputs": [
    {
     "name": "stdout",
     "output_type": "stream",
     "text": [
      "Wall time: 3.49 s\n"
     ]
    }
   ],
   "source": [
    "%%time\n",
    "import pandas as pd\n",
    "from sklearn import metrics,cluster\n",
    "\n",
    "#### Reading the feature and calculating the pairwise distance between all the points\n",
    "\n",
    "df = pd.read_csv('gh_lyso_PAAC.txt', sep='\\t')# input file which contains features, header=None if no column title\n",
    "x=df.iloc[:,1:].values\n",
    "distance=metrics.pairwise.pairwise_distances(x)\n",
    "\n",
    "#### collecting intra and inter distance for clusters\n",
    "\n",
    "class clust:\n",
    "    def __init__(self,ref,comp):\n",
    "        self.ref=ref\n",
    "        self.comp=comp\n",
    "        if self.ref==self.comp:\n",
    "#             print(f'The intra cluster distance within cluster {self.ref}')\n",
    "            self.c=1\n",
    "        else:\n",
    "#             print(f'The inter cluster distance between cluster {self.ref} and {self.comp}')\n",
    "            self.c=0\n",
    "        \n",
    "    def all_dist(self):\n",
    "        al_data=[]\n",
    "        for x1 in range(len(labels)):\n",
    "            for y1 in range((x1+1)*self.c,len(labels)):\n",
    "                if labels[x1]==self.ref and labels[y1]==self.comp:\n",
    "#                     print(f'{x1}..{y1}',distance[x1][y1])\n",
    "                    al_data.append(distance[x1][y1])\n",
    "        self.data=al_data\n",
    "        self.avg=sum(al_data)/len(al_data)\n",
    "        return self\n",
    "\n",
    "def un_learn(n):\n",
    "    kmeans = cluster.KMeans(n_clusters=n,random_state=42) # Number of clusters\n",
    "    lab = kmeans.fit_predict(x)\n",
    "    no_l =list(set(lab))\n",
    "    return lab,no_l"
   ]
  },
  {
   "cell_type": "markdown",
   "metadata": {},
   "source": [
    "#### To find min and max distance for intra and inter clusters for 10000 iterations"
   ]
  },
  {
   "cell_type": "code",
   "execution_count": 24,
   "metadata": {
    "scrolled": true
   },
   "outputs": [
    {
     "name": "stdout",
     "output_type": "stream",
     "text": [
      "Iteration:1\n",
      "Wall time: 86.6 ms\n"
     ]
    }
   ],
   "source": [
    "%%time\n",
    "from collections import Counter\n",
    "from itertools import combinations\n",
    "import numpy as np\n",
    "\n",
    "# a=clust(0,1).all_dist()\n",
    "# b=clust(0,0).all_dist()\n",
    "##########################################################################\n",
    "nn=3 # number of cluster\n",
    "ni=1 # number of iterations\n",
    "##########################################################################\n",
    "lis=[s for s in range(nn)]\n",
    "grp=list(combinations(lis,2))\n",
    "grp.extend([(i,i) for i in lis])\n",
    "\n",
    "min_dis,max_dis,avg_dis={},{},{}\n",
    "for each in grp:\n",
    "    min_dis[each],max_dis[each],avg_dis[each]=[],[],[]\n",
    "    \n",
    "for each_iter in range(ni):\n",
    "    print(f'Iteration:{each_iter+1}')\n",
    "    labels,no_lab=un_learn(nn)\n",
    "    for j in grp:\n",
    "        c=clust(j[0],j[1]).all_dist()\n",
    "        min_dis[j].append(min(c.data))\n",
    "        max_dis[j].append(max(c.data))\n",
    "        avg_dis[j].append(c.avg)\n",
    "temp=[]\n",
    "for ii in range(ni):\n",
    "    tem=[]\n",
    "    for jj in grp[3:]: # only considering intra cluster [(0, 0), (1, 1), (2, 2)]\n",
    "        tem.append(min(min_dis[jj]))\n",
    "    temp.append(min(tem))\n"
   ]
  },
  {
   "cell_type": "code",
   "execution_count": 22,
   "metadata": {},
   "outputs": [
    {
     "data": {
      "text/plain": [
       "dict_keys([(0, 1), (0, 2), (1, 2), (0, 0), (1, 1), (2, 2)])"
      ]
     },
     "execution_count": 22,
     "metadata": {},
     "output_type": "execute_result"
    }
   ],
   "source": [
    "min_dis.keys()dd"
   ]
  },
  {
   "cell_type": "markdown",
   "metadata": {},
   "source": [
    "#### To download the values"
   ]
  },
  {
   "cell_type": "code",
   "execution_count": 25,
   "metadata": {},
   "outputs": [],
   "source": [
    "out=open('within_min_dist.txt','w')\n",
    "for iii in temp:\n",
    "    out.write(str(iii)+'\\n')\n",
    "out.close()   "
   ]
  },
  {
   "cell_type": "markdown",
   "metadata": {},
   "source": [
    "#### To visualize the data in the table for Average distance clusters"
   ]
  },
  {
   "cell_type": "code",
   "execution_count": 49,
   "metadata": {},
   "outputs": [
    {
     "name": "stdout",
     "output_type": "stream",
     "text": [
      "Iteration:1\n"
     ]
    },
    {
     "data": {
      "text/html": [
       "<div>\n",
       "<style scoped>\n",
       "    .dataframe tbody tr th:only-of-type {\n",
       "        vertical-align: middle;\n",
       "    }\n",
       "\n",
       "    .dataframe tbody tr th {\n",
       "        vertical-align: top;\n",
       "    }\n",
       "\n",
       "    .dataframe thead th {\n",
       "        text-align: right;\n",
       "    }\n",
       "</style>\n",
       "<table border=\"1\" class=\"dataframe\">\n",
       "  <thead>\n",
       "    <tr style=\"text-align: right;\">\n",
       "      <th></th>\n",
       "      <th>0</th>\n",
       "      <th>1</th>\n",
       "      <th>2</th>\n",
       "    </tr>\n",
       "  </thead>\n",
       "  <tbody>\n",
       "    <tr>\n",
       "      <th>0</th>\n",
       "      <td>0.021259</td>\n",
       "      <td>0.039074</td>\n",
       "      <td>0.033306</td>\n",
       "    </tr>\n",
       "    <tr>\n",
       "      <th>1</th>\n",
       "      <td>0.039074</td>\n",
       "      <td>0.023733</td>\n",
       "      <td>0.031968</td>\n",
       "    </tr>\n",
       "    <tr>\n",
       "      <th>2</th>\n",
       "      <td>0.033306</td>\n",
       "      <td>0.031968</td>\n",
       "      <td>0.023998</td>\n",
       "    </tr>\n",
       "  </tbody>\n",
       "</table>\n",
       "</div>"
      ],
      "text/plain": [
       "          0         1         2\n",
       "0  0.021259  0.039074  0.033306\n",
       "1  0.039074  0.023733  0.031968\n",
       "2  0.033306  0.031968  0.023998"
      ]
     },
     "execution_count": 49,
     "metadata": {},
     "output_type": "execute_result"
    }
   ],
   "source": [
    "for each_iter in range(1):\n",
    "    print(f'Iteration:{each_iter+1}')\n",
    "    labels,no_lab=un_learn(nn)\n",
    "    label_c=dict(Counter(labels))\n",
    "    emp_array_avg=np.zeros((len(label_c),len(label_c)))\n",
    "    emp_array_m=np.zeros((len(label_c),len(label_c)))\n",
    "    for j in grp:\n",
    "        c=clust(j[0],j[1]).all_dist()\n",
    "        emp_array_avg[j[0]][j[1]]=c.avg\n",
    "        emp_array_avg[j[1]][j[0]]=c.avg\n",
    "        if j[0]==j[1]:\n",
    "            emp_array_m[j[0]][j[1]]=max(c.data)\n",
    "        else:\n",
    "            emp_array_m[j[0]][j[1]]=min(c.data)\n",
    "            emp_array_m[j[1]][j[0]]=min(c.data)\n",
    "\n",
    "pd.DataFrame(emp_array_avg)"
   ]
  },
  {
   "cell_type": "code",
   "execution_count": 21,
   "metadata": {},
   "outputs": [],
   "source": []
  },
  {
   "cell_type": "code",
   "execution_count": 50,
   "metadata": {},
   "outputs": [
    {
     "data": {
      "text/html": [
       "<div>\n",
       "<style scoped>\n",
       "    .dataframe tbody tr th:only-of-type {\n",
       "        vertical-align: middle;\n",
       "    }\n",
       "\n",
       "    .dataframe tbody tr th {\n",
       "        vertical-align: top;\n",
       "    }\n",
       "\n",
       "    .dataframe thead th {\n",
       "        text-align: right;\n",
       "    }\n",
       "</style>\n",
       "<table border=\"1\" class=\"dataframe\">\n",
       "  <thead>\n",
       "    <tr style=\"text-align: right;\">\n",
       "      <th></th>\n",
       "      <th>0</th>\n",
       "      <th>1</th>\n",
       "      <th>2</th>\n",
       "    </tr>\n",
       "  </thead>\n",
       "  <tbody>\n",
       "    <tr>\n",
       "      <th>0</th>\n",
       "      <td>0.037433</td>\n",
       "      <td>0.025910</td>\n",
       "      <td>0.019056</td>\n",
       "    </tr>\n",
       "    <tr>\n",
       "      <th>1</th>\n",
       "      <td>0.025910</td>\n",
       "      <td>0.042642</td>\n",
       "      <td>0.022109</td>\n",
       "    </tr>\n",
       "    <tr>\n",
       "      <th>2</th>\n",
       "      <td>0.019056</td>\n",
       "      <td>0.022109</td>\n",
       "      <td>0.037556</td>\n",
       "    </tr>\n",
       "  </tbody>\n",
       "</table>\n",
       "</div>"
      ],
      "text/plain": [
       "          0         1         2\n",
       "0  0.037433  0.025910  0.019056\n",
       "1  0.025910  0.042642  0.022109\n",
       "2  0.019056  0.022109  0.037556"
      ]
     },
     "execution_count": 50,
     "metadata": {},
     "output_type": "execute_result"
    }
   ],
   "source": [
    "pd.DataFrame(emp_array_m)"
   ]
  },
  {
   "cell_type": "code",
   "execution_count": 13,
   "metadata": {},
   "outputs": [
    {
     "data": {
      "text/plain": [
       "[(0, 0), (1, 1), (2, 2)]"
      ]
     },
     "execution_count": 13,
     "metadata": {},
     "output_type": "execute_result"
    }
   ],
   "source": [
    "grp[3:]"
   ]
  }
 ],
 "metadata": {
  "kernelspec": {
   "display_name": "Python 3",
   "language": "python",
   "name": "python3"
  },
  "language_info": {
   "codemirror_mode": {
    "name": "ipython",
    "version": 3
   },
   "file_extension": ".py",
   "mimetype": "text/x-python",
   "name": "python",
   "nbconvert_exporter": "python",
   "pygments_lexer": "ipython3",
   "version": "3.8.7"
  }
 },
 "nbformat": 4,
 "nbformat_minor": 4
}
