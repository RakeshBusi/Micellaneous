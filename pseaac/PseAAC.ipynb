{
 "cells": [
  {
   "cell_type": "code",
   "execution_count": 3,
   "metadata": {},
   "outputs": [],
   "source": [
    "import numpy as np\n",
    "from scipy import stats\n",
    "#scale 14 @ \n",
    "def properties(a):# Standard the physiochemical properties\n",
    "    temp,r2={},{}\n",
    "    with open('7_98_hydrophobicity.csv','r') as inpt:\n",
    "        c=0\n",
    "        for i in inpt:\n",
    "            j=i.rstrip().split(',')\n",
    "            if c==0:\n",
    "                pass\n",
    "            else:\n",
    "                temp[j[0]]=float(j[a])\n",
    "            c+=1\n",
    "    r1=stats.zscore(np.array(list(temp.values())))\n",
    "    for ii,jj in zip(temp.keys(),r1):\n",
    "        r2[ii]=jj\n",
    "    return r2\n",
    "  \n",
    "no_prop=[r for r in range(1,105)]# 1: Hydrophobicity, 2: Hydrophilicity, 3: mass, 4: pk1, 5:pk2, 6:pi, 20: 14 scale, 60: Tanford\n",
    "prop={}\n",
    "for t1 in no_prop:\n",
    "    prop[t1]=properties(t1)\n",
    "d=1\n",
    "aa={}\n",
    "for t2 in prop[1].keys():\n",
    "    aa[d]=t2\n",
    "    d+=1    "
   ]
  },
  {
   "cell_type": "code",
   "execution_count": 6,
   "metadata": {},
   "outputs": [
    {
     "name": "stdout",
     "output_type": "stream",
     "text": [
      "The length of the smallest sequence: 560\n",
      "Sequence with \"X\" present: 1\n"
     ]
    }
   ],
   "source": [
    "def sl_fasta(n):# multiline fasta converted to single line fasta\n",
    "    fasta=[]\n",
    "    count=0\n",
    "    with open(f'{n}','r') as inpt1:\n",
    "        for j in inpt1:\n",
    "            fasta.append(j.rstrip())\n",
    "            if j.startswith('>'):\n",
    "                count+=1\n",
    "    acc_seq=[]\n",
    "    c=0\n",
    "    for k in range(len(fasta)):\n",
    "        if fasta[k].startswith('>'):\n",
    "            acc_seq.append(fasta[k]+'\\n')\n",
    "            join_=0\n",
    "            for l in range(k+1,len(fasta)):\n",
    "                if fasta[l].startswith('>') == False:\n",
    "                    join_+=1\n",
    "                else:\n",
    "                    break\n",
    "            acc_seq.append(''.join(fasta[k+1:k+1+join_])+'\\n')\n",
    "    return acc_seq\n",
    "\n",
    "acc,seq,leng=[],[],[]\n",
    "q=sl_fasta('All_H1N1_Year.txt')\n",
    "\n",
    "unusual=0\n",
    "for ele in q:\n",
    "    if ele.startswith('>'):\n",
    "        acc.append(ele.rstrip())\n",
    "    else:\n",
    "        if 'X' in ele:\n",
    "            ele=ele.replace('X','A') # removing X amino acid, Trembl(Ala (A) 9.26 Leu (L) 9.91), similarly in  same UniProt \n",
    "            unusual=+1\n",
    "        leng.append(len(ele.rstrip()))\n",
    "        seq.append(ele.rstrip().upper())\n",
    "print('The length of the smallest sequence:',min(leng))\n",
    "print('Sequence with \"X\" present:',unusual)"
   ]
  },
  {
   "cell_type": "code",
   "execution_count": 7,
   "metadata": {
    "scrolled": true
   },
   "outputs": [
    {
     "name": "stdout",
     "output_type": "stream",
     "text": [
      "Work done!!!\n"
     ]
    }
   ],
   "source": [
    "# nf normalizing frequency of occurence, 1=true\n",
    "def rel_cal(data,v,pro):\n",
    "    tem=[]\n",
    "    for u in range(len(data)-v):\n",
    "        te=[]\n",
    "        for u1 in pro:\n",
    "            x=((prop[u1][data[u]])-(prop[u1][data[u+v]]))**2\n",
    "            te.append(x)\n",
    "#             print(u1,u,u+v,data[u],data[u+v],x)\n",
    "        tem.append(sum(te)/len(pro))\n",
    "    return sum(tem)\n",
    "\n",
    "def theta(data,lamb,pro):\n",
    "    the={}\n",
    "    for u in range(1,lamb+1):\n",
    "        the[u]=(1/(len(data)-u))*rel_cal(data,u,pro)\n",
    "    return the\n",
    "\n",
    "def pse(data,lamb,w,pro,nf):\n",
    "    thet=theta(data,lamb,pro)\n",
    "    deno=1+(w*sum(thet.values()))\n",
    "    p={}\n",
    "    if nf==1:\n",
    "        norm=(len(data))\n",
    "    else:\n",
    "        norm=1\n",
    "    for u in range(1,21+lamb):\n",
    "        if u>=1 and u<=20:\n",
    "#             print(u,'natural')\n",
    "            num=data.count(aa[u])/norm # frequency\n",
    "#             print(f'{aa[u]}.......',(num/deno))\n",
    "            p[u]=num/deno\n",
    "        elif u>=21 and u<=20+lamb:\n",
    "#             print(u,'pseudo')\n",
    "            num=w*thet[u-20]\n",
    "#             print(f'lambda_{u-20}.......',(num/deno))\n",
    "            p[u]=num/deno\n",
    "    return p\n",
    "\n",
    "def collect(lamb,w,pro,nf):\n",
    "    out=open(f'H1N1_PAAC.txt','w',encoding='utf-8')\n",
    "    out.write('#')\n",
    "    for ea in aa.values():\n",
    "        out.write('\\t'+ea)\n",
    "    for eac in range(lamb):\n",
    "        out.write('\\t'+'\\u03BB'+str(eac+1))\n",
    "    out.write('\\n')\n",
    "    for e_seq in range(len(seq)):# single sequence taken for test\n",
    "        q=pse(seq[e_seq],lamb,w,pro,nf)\n",
    "        tem=acc[e_seq].split(' ')[0][1:]\n",
    "        out.write(tem)\n",
    "        for zx in range(len(q)):\n",
    "            out.write('\\t'+str(q[zx+1]))\n",
    "        out.write('\\n')\n",
    "    out.close()\n",
    "    print('Work done!!!')\n",
    "collect(30,0.05,[60,2,3],1) "
   ]
  },
  {
   "cell_type": "code",
   "execution_count": null,
   "metadata": {},
   "outputs": [],
   "source": []
  }
 ],
 "metadata": {
  "kernelspec": {
   "display_name": "Python 3",
   "language": "python",
   "name": "python3"
  },
  "language_info": {
   "codemirror_mode": {
    "name": "ipython",
    "version": 3
   },
   "file_extension": ".py",
   "mimetype": "text/x-python",
   "name": "python",
   "nbconvert_exporter": "python",
   "pygments_lexer": "ipython3",
   "version": "3.8.7"
  }
 },
 "nbformat": 4,
 "nbformat_minor": 4
}
